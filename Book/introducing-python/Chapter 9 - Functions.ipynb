{
 "cells": [
  {
   "cell_type": "code",
   "execution_count": 1,
   "id": "073fd905",
   "metadata": {},
   "outputs": [],
   "source": [
    "def make_a_sound():\n",
    "    print('quack')"
   ]
  },
  {
   "cell_type": "code",
   "execution_count": 2,
   "id": "c6247ef5",
   "metadata": {},
   "outputs": [
    {
     "name": "stdout",
     "output_type": "stream",
     "text": [
      "quack\n"
     ]
    }
   ],
   "source": [
    "make_a_sound()"
   ]
  },
  {
   "cell_type": "code",
   "execution_count": 3,
   "id": "81a0c27d",
   "metadata": {},
   "outputs": [
    {
     "name": "stdout",
     "output_type": "stream",
     "text": [
      "Splendid!\n"
     ]
    }
   ],
   "source": [
    "def agree():\n",
    "    return True\n",
    "\n",
    "if agree():\n",
    "    print('Splendid!')\n",
    "else:\n",
    "    print('That was unexpected.')"
   ]
  },
  {
   "cell_type": "code",
   "execution_count": 4,
   "id": "81f0f404",
   "metadata": {},
   "outputs": [
    {
     "data": {
      "text/plain": [
       "'Rumplestiltskin Rumplestiltskin'"
      ]
     },
     "execution_count": 4,
     "metadata": {},
     "output_type": "execute_result"
    }
   ],
   "source": [
    "def echo(anything):\n",
    "    return anything + ' ' + anything\n",
    "\n",
    "echo('Rumplestiltskin')"
   ]
  },
  {
   "cell_type": "code",
   "execution_count": 6,
   "id": "94381506",
   "metadata": {},
   "outputs": [
    {
     "data": {
      "text/plain": [
       "\"I've never heard of the color blue.\""
      ]
     },
     "execution_count": 6,
     "metadata": {},
     "output_type": "execute_result"
    }
   ],
   "source": [
    "def commentary(color):\n",
    "    if color == 'red':\n",
    "        return \"It's a tomato.\"\n",
    "    elif color == 'green':\n",
    "        return \"It's a green pepper.\"\n",
    "    elif color == 'bee purple':\n",
    "        return \"I don't know what it is, but only bees can see it.\"\n",
    "    else:\n",
    "        return f\"I've never heard of the color {color}.\"\n",
    "\n",
    "commentary('blue')"
   ]
  },
  {
   "cell_type": "code",
   "execution_count": 7,
   "id": "99841144",
   "metadata": {},
   "outputs": [
    {
     "name": "stdout",
     "output_type": "stream",
     "text": [
      "None is None\n"
     ]
    }
   ],
   "source": [
    "def whatis(thing):\n",
    "    if thing is None:\n",
    "        print(thing, \"is None\")\n",
    "    elif thing:\n",
    "        print(thing, \"is True\")\n",
    "    else:\n",
    "        print(thing, \"is False\")\n",
    "\n",
    "whatis(None)"
   ]
  },
  {
   "cell_type": "code",
   "execution_count": 8,
   "id": "1109dad0",
   "metadata": {},
   "outputs": [
    {
     "name": "stdout",
     "output_type": "stream",
     "text": [
      "0 is False\n"
     ]
    }
   ],
   "source": [
    "whatis(0)"
   ]
  },
  {
   "cell_type": "code",
   "execution_count": 9,
   "id": "1820783e",
   "metadata": {},
   "outputs": [
    {
     "name": "stdout",
     "output_type": "stream",
     "text": [
      "[] is False\n"
     ]
    }
   ],
   "source": [
    "whatis([])"
   ]
  },
  {
   "cell_type": "markdown",
   "id": "552f8b48",
   "metadata": {},
   "source": [
    "#### Positional Arguments"
   ]
  },
  {
   "cell_type": "code",
   "execution_count": 10,
   "id": "60820429",
   "metadata": {},
   "outputs": [
    {
     "data": {
      "text/plain": [
       "{'wine': 'chardonnay', 'entree': 'chicken', 'dessert': 'cake'}"
      ]
     },
     "execution_count": 10,
     "metadata": {},
     "output_type": "execute_result"
    }
   ],
   "source": [
    "def menu(wine, entree, dessert):\n",
    "    return {'wine': wine, 'entree': entree, 'dessert': dessert}\n",
    "\n",
    "menu('chardonnay', 'chicken', 'cake')"
   ]
  },
  {
   "cell_type": "markdown",
   "id": "f9fe24e6",
   "metadata": {},
   "source": [
    "#### Keyword Arguments"
   ]
  },
  {
   "cell_type": "code",
   "execution_count": 11,
   "id": "79827255",
   "metadata": {},
   "outputs": [
    {
     "data": {
      "text/plain": [
       "{'wine': 'bordeaux', 'entree': 'beef', 'dessert': 'bagel'}"
      ]
     },
     "execution_count": 11,
     "metadata": {},
     "output_type": "execute_result"
    }
   ],
   "source": [
    "menu(entree = 'beef', dessert = 'bagel', wine = 'bordeaux')"
   ]
  },
  {
   "cell_type": "code",
   "execution_count": 12,
   "id": "2b15db79",
   "metadata": {},
   "outputs": [
    {
     "data": {
      "text/plain": [
       "{'wine': 'chardonnay', 'entree': 'chicken', 'dessert': 'pudding'}"
      ]
     },
     "execution_count": 12,
     "metadata": {},
     "output_type": "execute_result"
    }
   ],
   "source": [
    "def menu(wine, entree, dessert = 'pudding'):\n",
    "    return {'wine': wine, 'entree': entree, 'dessert': dessert}\n",
    "\n",
    "menu('chardonnay', 'chicken')"
   ]
  },
  {
   "cell_type": "code",
   "execution_count": 13,
   "id": "86fbbb6b",
   "metadata": {},
   "outputs": [
    {
     "name": "stdout",
     "output_type": "stream",
     "text": [
      "['a']\n"
     ]
    }
   ],
   "source": [
    "def buggy(arg, result = []):\n",
    "    result.append(arg)\n",
    "    print(result)\n",
    "    \n",
    "buggy('a')"
   ]
  },
  {
   "cell_type": "code",
   "execution_count": 15,
   "id": "822f0067",
   "metadata": {},
   "outputs": [
    {
     "name": "stdout",
     "output_type": "stream",
     "text": [
      "['a', 'b']\n"
     ]
    }
   ],
   "source": [
    "buggy('b')"
   ]
  },
  {
   "cell_type": "code",
   "execution_count": 17,
   "id": "b7965dd7",
   "metadata": {},
   "outputs": [
    {
     "name": "stdout",
     "output_type": "stream",
     "text": [
      "['a']\n"
     ]
    }
   ],
   "source": [
    "def nonbuggy(arg, result=None):\n",
    "    if result is None:\n",
    "        result = []\n",
    "    result.append(arg)\n",
    "    print(result)\n",
    "    \n",
    "nonbuggy('a')"
   ]
  },
  {
   "cell_type": "code",
   "execution_count": 18,
   "id": "354d75e8",
   "metadata": {},
   "outputs": [
    {
     "name": "stdout",
     "output_type": "stream",
     "text": [
      "['b']\n"
     ]
    }
   ],
   "source": [
    "nonbuggy('b')"
   ]
  },
  {
   "cell_type": "code",
   "execution_count": 19,
   "id": "a59be359",
   "metadata": {},
   "outputs": [
    {
     "name": "stdout",
     "output_type": "stream",
     "text": [
      "Positional tuple: ()\n"
     ]
    }
   ],
   "source": [
    "def print_args(*args):\n",
    "    print('Positional tuple:', args)\n",
    "    \n",
    "print_args()"
   ]
  },
  {
   "cell_type": "code",
   "execution_count": 20,
   "id": "46e1c73a",
   "metadata": {},
   "outputs": [
    {
     "name": "stdout",
     "output_type": "stream",
     "text": [
      "Positional tuple: (3, 2, 1, 'wait!', 'uh...')\n"
     ]
    }
   ],
   "source": [
    "print_args(3, 2, 1, 'wait!', \"uh...\")"
   ]
  },
  {
   "cell_type": "code",
   "execution_count": 21,
   "id": "1b1a731c",
   "metadata": {},
   "outputs": [
    {
     "name": "stdout",
     "output_type": "stream",
     "text": [
      "Need this one: cap\n",
      "Need this one too: gloves\n",
      "All the rest: ('scarf', 'monocle', 'mustache wax')\n"
     ]
    }
   ],
   "source": [
    "def print_more(required1, required2, *args):\n",
    "    print('Need this one:', required1)\n",
    "    print('Need this one too:', required2)\n",
    "    print('All the rest:', args)\n",
    "    \n",
    "print_more('cap', 'gloves', 'scarf', 'monocle', 'mustache wax')"
   ]
  },
  {
   "cell_type": "code",
   "execution_count": 22,
   "id": "78f939a7",
   "metadata": {},
   "outputs": [
    {
     "name": "stdout",
     "output_type": "stream",
     "text": [
      "Positional tuple: ((2, 5, 7, 'x'),)\n"
     ]
    }
   ],
   "source": [
    "args = (2, 5, 7, 'x')\n",
    "print_args(args)"
   ]
  },
  {
   "cell_type": "code",
   "execution_count": 23,
   "id": "9df8bc0d",
   "metadata": {},
   "outputs": [
    {
     "name": "stdout",
     "output_type": "stream",
     "text": [
      "Positional tuple: (2, 5, 7, 'x')\n"
     ]
    }
   ],
   "source": [
    "print_args(*args)"
   ]
  },
  {
   "cell_type": "code",
   "execution_count": 24,
   "id": "06c112c3",
   "metadata": {},
   "outputs": [
    {
     "name": "stdout",
     "output_type": "stream",
     "text": [
      "Keyword arguments: {}\n"
     ]
    }
   ],
   "source": [
    "def print_kwargs(**kwargs):\n",
    "    print('Keyword arguments:', kwargs)\n",
    "    \n",
    "print_kwargs()"
   ]
  },
  {
   "cell_type": "code",
   "execution_count": 25,
   "id": "10b78f1b",
   "metadata": {},
   "outputs": [
    {
     "name": "stdout",
     "output_type": "stream",
     "text": [
      "Keyword arguments: {'wine': 'merlot', 'entree': 'mutton', 'dessert': 'macaroon'}\n"
     ]
    }
   ],
   "source": [
    "print_kwargs(wine='merlot', entree='mutton', dessert='macaroon')"
   ]
  },
  {
   "cell_type": "code",
   "execution_count": 26,
   "id": "4cba10dd",
   "metadata": {},
   "outputs": [
    {
     "name": "stdout",
     "output_type": "stream",
     "text": [
      "a\n",
      "b\n",
      "c\n",
      "d\n",
      "e\n",
      "f\n"
     ]
    }
   ],
   "source": [
    "def print_data(data, *, start=0, end=100):\n",
    "    for value in data[start:end]:\n",
    "        print(value)\n",
    "        \n",
    "data = ['a', 'b', 'c', 'd', 'e', 'f']\n",
    "print_data(data)"
   ]
  },
  {
   "cell_type": "code",
   "execution_count": 27,
   "id": "034d8c65",
   "metadata": {},
   "outputs": [
    {
     "name": "stdout",
     "output_type": "stream",
     "text": [
      "e\n",
      "f\n"
     ]
    }
   ],
   "source": [
    "print_data(data, start=4)"
   ]
  },
  {
   "cell_type": "code",
   "execution_count": 28,
   "id": "ba8ea90d",
   "metadata": {},
   "outputs": [
    {
     "name": "stdout",
     "output_type": "stream",
     "text": [
      "a\n",
      "b\n"
     ]
    }
   ],
   "source": [
    "print_data(data, end=2)"
   ]
  },
  {
   "cell_type": "code",
   "execution_count": 29,
   "id": "c5ee5a49",
   "metadata": {},
   "outputs": [
    {
     "name": "stdout",
     "output_type": "stream",
     "text": [
      "['one', 'fine', 'day']\n"
     ]
    }
   ],
   "source": [
    "outside = ['one', 'fine', 'day']\n",
    "\n",
    "def mangle(arg):\n",
    "    arg[1] = 'terrible!'\n",
    "    \n",
    "print(outside)"
   ]
  },
  {
   "cell_type": "code",
   "execution_count": 30,
   "id": "cb63c340",
   "metadata": {},
   "outputs": [
    {
     "name": "stdout",
     "output_type": "stream",
     "text": [
      "['one', 'terrible!', 'day']\n"
     ]
    }
   ],
   "source": [
    "mangle(outside)\n",
    "print(outside)"
   ]
  },
  {
   "cell_type": "code",
   "execution_count": 31,
   "id": "59436145",
   "metadata": {},
   "outputs": [
    {
     "name": "stdout",
     "output_type": "stream",
     "text": [
      "42\n"
     ]
    }
   ],
   "source": [
    "def answer():\n",
    "    print(42)\n",
    "    \n",
    "def run_something(func):\n",
    "    func()\n",
    "    \n",
    "run_something(answer)"
   ]
  },
  {
   "cell_type": "code",
   "execution_count": 32,
   "id": "d9ecd645",
   "metadata": {},
   "outputs": [
    {
     "data": {
      "text/plain": [
       "function"
      ]
     },
     "execution_count": 32,
     "metadata": {},
     "output_type": "execute_result"
    }
   ],
   "source": [
    "type(run_something)"
   ]
  },
  {
   "cell_type": "code",
   "execution_count": 33,
   "id": "93e5ef73",
   "metadata": {},
   "outputs": [
    {
     "name": "stdout",
     "output_type": "stream",
     "text": [
      "14\n"
     ]
    }
   ],
   "source": [
    "def add_args(arg1, arg2):\n",
    "    print(arg1 + arg2)\n",
    "\n",
    "def run_something_with_args(func, arg1, arg2):\n",
    "    func(arg1, arg2)\n",
    "    \n",
    "run_something_with_args(add_args, 5, 9)"
   ]
  },
  {
   "cell_type": "code",
   "execution_count": 34,
   "id": "9422eec4",
   "metadata": {},
   "outputs": [
    {
     "data": {
      "text/plain": [
       "10"
      ]
     },
     "execution_count": 34,
     "metadata": {},
     "output_type": "execute_result"
    }
   ],
   "source": [
    "def sum_args(*args):\n",
    "    return sum(args)\n",
    "\n",
    "def run_with_positional_args(func, *args):\n",
    "    return func(*args)\n",
    "\n",
    "run_with_positional_args(sum_args, 1, 2, 3, 4)"
   ]
  },
  {
   "cell_type": "code",
   "execution_count": 1,
   "id": "33032485",
   "metadata": {},
   "outputs": [
    {
     "data": {
      "text/plain": [
       "11"
      ]
     },
     "execution_count": 1,
     "metadata": {},
     "output_type": "execute_result"
    }
   ],
   "source": [
    "def outer(a, b):\n",
    "    def inner(c, d):\n",
    "        return c + d\n",
    "    return inner(a, b)\n",
    "\n",
    "outer(4, 7)"
   ]
  },
  {
   "cell_type": "code",
   "execution_count": 2,
   "id": "2b458ebb",
   "metadata": {},
   "outputs": [
    {
     "data": {
      "text/plain": [
       "\"We are the knights who say: 'Hi'\""
      ]
     },
     "execution_count": 2,
     "metadata": {},
     "output_type": "execute_result"
    }
   ],
   "source": [
    "def knights(saying):\n",
    "    def inner(quote):\n",
    "        return \"We are the knights who say: '%s'\" % quote\n",
    "    return inner(saying)\n",
    "\n",
    "knights('Hi')"
   ]
  },
  {
   "cell_type": "code",
   "execution_count": 3,
   "id": "508c10d1",
   "metadata": {},
   "outputs": [],
   "source": [
    "def knights2(saying):\n",
    "    def inner2():\n",
    "        return \"We are the knights who say: '%s'\" % saying\n",
    "    return inner2"
   ]
  },
  {
   "cell_type": "code",
   "execution_count": 4,
   "id": "b42122ad",
   "metadata": {},
   "outputs": [],
   "source": [
    "a = knights2('Duck')\n",
    "b = knights2('Hasenpfeffer')"
   ]
  },
  {
   "cell_type": "code",
   "execution_count": 5,
   "id": "3605e827",
   "metadata": {},
   "outputs": [
    {
     "data": {
      "text/plain": [
       "function"
      ]
     },
     "execution_count": 5,
     "metadata": {},
     "output_type": "execute_result"
    }
   ],
   "source": [
    "type(a)"
   ]
  },
  {
   "cell_type": "code",
   "execution_count": 6,
   "id": "e1b50403",
   "metadata": {},
   "outputs": [
    {
     "data": {
      "text/plain": [
       "function"
      ]
     },
     "execution_count": 6,
     "metadata": {},
     "output_type": "execute_result"
    }
   ],
   "source": [
    "type(b)"
   ]
  },
  {
   "cell_type": "code",
   "execution_count": 7,
   "id": "cfe00f7d",
   "metadata": {},
   "outputs": [
    {
     "data": {
      "text/plain": [
       "\"We are the knights who say: 'Duck'\""
      ]
     },
     "execution_count": 7,
     "metadata": {},
     "output_type": "execute_result"
    }
   ],
   "source": [
    "a()"
   ]
  },
  {
   "cell_type": "code",
   "execution_count": 8,
   "id": "ae16f630",
   "metadata": {},
   "outputs": [
    {
     "data": {
      "text/plain": [
       "\"We are the knights who say: 'Hasenpfeffer'\""
      ]
     },
     "execution_count": 8,
     "metadata": {},
     "output_type": "execute_result"
    }
   ],
   "source": [
    "b()"
   ]
  },
  {
   "cell_type": "code",
   "execution_count": 9,
   "id": "ca5a26f7",
   "metadata": {},
   "outputs": [
    {
     "name": "stdout",
     "output_type": "stream",
     "text": [
      "Thud!\n",
      "Meow!\n",
      "Thud!\n",
      "Hiss!\n"
     ]
    }
   ],
   "source": [
    "def edit_story(words, func):\n",
    "    for word in words:\n",
    "        print(func(word))\n",
    "        \n",
    "def enliven(word):\n",
    "    return word.capitalize() + '!'\n",
    "\n",
    "stairs = ['thud', 'meow', 'thud', 'hiss']\n",
    "\n",
    "edit_story(stairs, enliven)"
   ]
  },
  {
   "cell_type": "code",
   "execution_count": 10,
   "id": "2bd3e6d8",
   "metadata": {},
   "outputs": [
    {
     "name": "stdout",
     "output_type": "stream",
     "text": [
      "Thud!\n",
      "Meow!\n",
      "Thud!\n",
      "Hiss!\n"
     ]
    }
   ],
   "source": [
    "edit_story(stairs, lambda word: word.capitalize() + '!')"
   ]
  },
  {
   "cell_type": "code",
   "execution_count": 11,
   "id": "f020fd2c",
   "metadata": {},
   "outputs": [
    {
     "data": {
      "text/plain": [
       "4950"
      ]
     },
     "execution_count": 11,
     "metadata": {},
     "output_type": "execute_result"
    }
   ],
   "source": [
    "sum(range(1, 100))"
   ]
  },
  {
   "cell_type": "code",
   "execution_count": 12,
   "id": "25dfba7c",
   "metadata": {},
   "outputs": [
    {
     "data": {
      "text/plain": [
       "<generator object my_range at 0x7fa540459580>"
      ]
     },
     "execution_count": 12,
     "metadata": {},
     "output_type": "execute_result"
    }
   ],
   "source": [
    "def my_range(first=0, last=10, step=1):\n",
    "    number = first\n",
    "    while number < last:\n",
    "        yield number\n",
    "        number += step\n",
    "        \n",
    "my_range()"
   ]
  },
  {
   "cell_type": "code",
   "execution_count": 13,
   "id": "2f03c25e",
   "metadata": {},
   "outputs": [
    {
     "name": "stdout",
     "output_type": "stream",
     "text": [
      "1\n",
      "2\n",
      "3\n",
      "4\n",
      "5\n",
      "6\n",
      "7\n",
      "8\n",
      "9\n",
      "10\n",
      "11\n",
      "12\n",
      "13\n",
      "14\n",
      "15\n",
      "16\n",
      "17\n",
      "18\n",
      "19\n"
     ]
    }
   ],
   "source": [
    "ranger = my_range(1, 20)\n",
    "for x in ranger:\n",
    "    print(x)"
   ]
  },
  {
   "cell_type": "code",
   "execution_count": 14,
   "id": "ce41a34d",
   "metadata": {},
   "outputs": [],
   "source": [
    "def document_it(func):\n",
    "    def new_function(*args, **kwargs):\n",
    "        print('Running function:', func.__name__)\n",
    "        print('Positional arguments:', args)\n",
    "        print('Keyword arguments:', kwargs)\n",
    "        result = func(*args, **kwargs)\n",
    "        print('Result:', result)\n",
    "        return result\n",
    "    return new_function\n",
    "\n",
    "def add_ints(a, b):\n",
    "    return a + b"
   ]
  },
  {
   "cell_type": "code",
   "execution_count": 15,
   "id": "cf3dcfd5",
   "metadata": {},
   "outputs": [
    {
     "data": {
      "text/plain": [
       "8"
      ]
     },
     "execution_count": 15,
     "metadata": {},
     "output_type": "execute_result"
    }
   ],
   "source": [
    "add_ints(3, 5)"
   ]
  },
  {
   "cell_type": "code",
   "execution_count": 16,
   "id": "6f42b045",
   "metadata": {},
   "outputs": [],
   "source": [
    "cooler_add_ints = document_it(add_ints)"
   ]
  },
  {
   "cell_type": "code",
   "execution_count": 17,
   "id": "b491ee75",
   "metadata": {},
   "outputs": [
    {
     "name": "stdout",
     "output_type": "stream",
     "text": [
      "Running function: add_ints\n",
      "Positional arguments: (3, 5)\n",
      "Keyword arguments: {}\n",
      "Result: 8\n"
     ]
    },
    {
     "data": {
      "text/plain": [
       "8"
      ]
     },
     "execution_count": 17,
     "metadata": {},
     "output_type": "execute_result"
    }
   ],
   "source": [
    "cooler_add_ints(3, 5)"
   ]
  },
  {
   "cell_type": "code",
   "execution_count": 18,
   "id": "44429c55",
   "metadata": {},
   "outputs": [
    {
     "name": "stdout",
     "output_type": "stream",
     "text": [
      "Running function: add_ints\n",
      "Positional arguments: (9, 8)\n",
      "Keyword arguments: {}\n",
      "Result: 17\n"
     ]
    },
    {
     "data": {
      "text/plain": [
       "17"
      ]
     },
     "execution_count": 18,
     "metadata": {},
     "output_type": "execute_result"
    }
   ],
   "source": [
    "@document_it\n",
    "def add_ints(a, b):\n",
    "    return a + b\n",
    "\n",
    "add_ints(9, 8)"
   ]
  },
  {
   "cell_type": "code",
   "execution_count": 19,
   "id": "39be8975",
   "metadata": {},
   "outputs": [],
   "source": [
    "def square_it(func):\n",
    "    def new_function(*args, **kwargs):\n",
    "        result = func(*args, **kwargs)\n",
    "        return result * result\n",
    "    return new_function"
   ]
  },
  {
   "cell_type": "code",
   "execution_count": 20,
   "id": "1a59bf8e",
   "metadata": {},
   "outputs": [
    {
     "name": "stdout",
     "output_type": "stream",
     "text": [
      "Running function: new_function\n",
      "Positional arguments: (3, 8)\n",
      "Keyword arguments: {}\n",
      "Result: 121\n"
     ]
    },
    {
     "data": {
      "text/plain": [
       "121"
      ]
     },
     "execution_count": 20,
     "metadata": {},
     "output_type": "execute_result"
    }
   ],
   "source": [
    "@document_it\n",
    "@square_it\n",
    "def add_ints(a, b):\n",
    "    return a + b\n",
    "\n",
    "add_ints(3, 8)"
   ]
  },
  {
   "cell_type": "code",
   "execution_count": 21,
   "id": "fc056d77",
   "metadata": {},
   "outputs": [
    {
     "name": "stdout",
     "output_type": "stream",
     "text": [
      "Running function: add_ints\n",
      "Positional arguments: (3, 8)\n",
      "Keyword arguments: {}\n",
      "Result: 11\n"
     ]
    },
    {
     "data": {
      "text/plain": [
       "121"
      ]
     },
     "execution_count": 21,
     "metadata": {},
     "output_type": "execute_result"
    }
   ],
   "source": [
    "@square_it\n",
    "@document_it\n",
    "def add_ints(a, b):\n",
    "    return a + b\n",
    "\n",
    "add_ints(3, 8)"
   ]
  },
  {
   "cell_type": "code",
   "execution_count": 25,
   "id": "7095d979",
   "metadata": {},
   "outputs": [
    {
     "name": "stdout",
     "output_type": "stream",
     "text": [
      "at the top level: fruitbat\n"
     ]
    }
   ],
   "source": [
    "animal = 'fruitbat'\n",
    "def print_global():\n",
    "    print('inside print_global:', animal)\n",
    "    \n",
    "print('at the top level:', animal)"
   ]
  },
  {
   "cell_type": "code",
   "execution_count": 26,
   "id": "64abc732",
   "metadata": {},
   "outputs": [
    {
     "name": "stdout",
     "output_type": "stream",
     "text": [
      "inside print_global: fruitbat\n"
     ]
    }
   ],
   "source": [
    "print_global()"
   ]
  },
  {
   "cell_type": "code",
   "execution_count": 28,
   "id": "4c2b3924",
   "metadata": {},
   "outputs": [
    {
     "ename": "UnboundLocalError",
     "evalue": "local variable 'animal' referenced before assignment",
     "output_type": "error",
     "traceback": [
      "\u001b[0;31m---------------------------------------------------------------------------\u001b[0m",
      "\u001b[0;31mUnboundLocalError\u001b[0m                         Traceback (most recent call last)",
      "\u001b[0;32m<ipython-input-28-8cbf9b74df52>\u001b[0m in \u001b[0;36m<module>\u001b[0;34m\u001b[0m\n\u001b[1;32m      4\u001b[0m     \u001b[0mprint\u001b[0m\u001b[0;34m(\u001b[0m\u001b[0;34m'after the change:'\u001b[0m\u001b[0;34m,\u001b[0m \u001b[0manimal\u001b[0m\u001b[0;34m)\u001b[0m\u001b[0;34m\u001b[0m\u001b[0;34m\u001b[0m\u001b[0m\n\u001b[1;32m      5\u001b[0m \u001b[0;34m\u001b[0m\u001b[0m\n\u001b[0;32m----> 6\u001b[0;31m \u001b[0mchange_and_print_global\u001b[0m\u001b[0;34m(\u001b[0m\u001b[0;34m)\u001b[0m\u001b[0;34m\u001b[0m\u001b[0;34m\u001b[0m\u001b[0m\n\u001b[0m",
      "\u001b[0;32m<ipython-input-28-8cbf9b74df52>\u001b[0m in \u001b[0;36mchange_and_print_global\u001b[0;34m()\u001b[0m\n\u001b[1;32m      1\u001b[0m \u001b[0;32mdef\u001b[0m \u001b[0mchange_and_print_global\u001b[0m\u001b[0;34m(\u001b[0m\u001b[0;34m)\u001b[0m\u001b[0;34m:\u001b[0m\u001b[0;34m\u001b[0m\u001b[0;34m\u001b[0m\u001b[0m\n\u001b[0;32m----> 2\u001b[0;31m     \u001b[0mprint\u001b[0m\u001b[0;34m(\u001b[0m\u001b[0;34m'inside change_and_print_global:'\u001b[0m\u001b[0;34m,\u001b[0m \u001b[0manimal\u001b[0m\u001b[0;34m)\u001b[0m\u001b[0;34m\u001b[0m\u001b[0;34m\u001b[0m\u001b[0m\n\u001b[0m\u001b[1;32m      3\u001b[0m     \u001b[0manimal\u001b[0m \u001b[0;34m=\u001b[0m \u001b[0;34m'wombat'\u001b[0m\u001b[0;34m\u001b[0m\u001b[0;34m\u001b[0m\u001b[0m\n\u001b[1;32m      4\u001b[0m     \u001b[0mprint\u001b[0m\u001b[0;34m(\u001b[0m\u001b[0;34m'after the change:'\u001b[0m\u001b[0;34m,\u001b[0m \u001b[0manimal\u001b[0m\u001b[0;34m)\u001b[0m\u001b[0;34m\u001b[0m\u001b[0;34m\u001b[0m\u001b[0m\n\u001b[1;32m      5\u001b[0m \u001b[0;34m\u001b[0m\u001b[0m\n",
      "\u001b[0;31mUnboundLocalError\u001b[0m: local variable 'animal' referenced before assignment"
     ]
    }
   ],
   "source": [
    "def change_and_print_global():\n",
    "    print('inside change_and_print_global:', animal)\n",
    "    animal = 'wombat'\n",
    "    print('after the change:', animal)\n",
    "    \n",
    "change_and_print_global()"
   ]
  },
  {
   "cell_type": "code",
   "execution_count": 29,
   "id": "7e6966c1",
   "metadata": {},
   "outputs": [
    {
     "name": "stdout",
     "output_type": "stream",
     "text": [
      "inside change_local: wombat 140347865814768\n"
     ]
    }
   ],
   "source": [
    "def change_local():\n",
    "    animal = 'wombat'\n",
    "    print('inside change_local:', animal, id(animal))\n",
    "    \n",
    "change_local()"
   ]
  },
  {
   "cell_type": "code",
   "execution_count": 30,
   "id": "c526061f",
   "metadata": {},
   "outputs": [
    {
     "data": {
      "text/plain": [
       "140347866873072"
      ]
     },
     "execution_count": 30,
     "metadata": {},
     "output_type": "execute_result"
    }
   ],
   "source": [
    "id(animal)"
   ]
  },
  {
   "cell_type": "code",
   "execution_count": 31,
   "id": "39cfda1a",
   "metadata": {},
   "outputs": [
    {
     "name": "stdout",
     "output_type": "stream",
     "text": [
      "inside change_and_print_global: fruitbat\n",
      "after the change: wombat\n"
     ]
    }
   ],
   "source": [
    "def change_and_print_global():\n",
    "    global animal\n",
    "    print('inside change_and_print_global:', animal)\n",
    "    animal = 'wombat'\n",
    "    print('after the change:', animal)\n",
    "    \n",
    "change_and_print_global()"
   ]
  },
  {
   "cell_type": "code",
   "execution_count": 32,
   "id": "3968f1ee",
   "metadata": {},
   "outputs": [
    {
     "name": "stdout",
     "output_type": "stream",
     "text": [
      "globals: {'__name__': '__main__', '__doc__': 'Automatically created module for IPython interactive environment', '__package__': None, '__loader__': None, '__spec__': None, '__builtin__': <module 'builtins' (built-in)>, '__builtins__': <module 'builtins' (built-in)>, '_ih': ['', 'def outer(a, b):\\n    def inner(c, d):\\n        return c + d\\n    return inner(a, b)\\n\\nouter(4, 7)', 'def knights(saying):\\n    def inner(quote):\\n        return \"We are the knights who say: \\'%s\\'\" % quote\\n    return inner(saying)\\n\\nknights(\\'Hi\\')', 'def knights2(saying):\\n    def inner2():\\n        return \"We are the knights who say: \\'%s\\'\" % saying\\n    return inner2', \"a = knights2('Duck')\\nb = knights2('Hasenpfeffer')\", 'type(a)', 'type(b)', 'a()', 'b()', \"def edit_story(words, func):\\n    for word in words:\\n        print(func(word))\\n        \\ndef enliven(word):\\n    return word.capitalize() + '!'\\n\\nstairs = ['thud', 'meow', 'thud', 'hiss']\\n\\nedit_story(stairs, enliven)\", \"edit_story(stairs, lambda word: word.capitalize() + '!')\", 'sum(range(1, 100))', 'def my_range(first=0, last=10, step=1):\\n    number = first\\n    while number < last:\\n        yield number\\n        number += step\\n        \\nmy_range()', 'ranger = my_range(1, 20)\\nfor x in ranger:\\n    print(x)', \"def document_it(func):\\n    def new_function(*args, **kwargs):\\n        print('Running function:', func.__name__)\\n        print('Positional arguments:', args)\\n        print('Keyword arguments:', kwargs)\\n        result = func(*args, **kwargs)\\n        print('Result:', result)\\n        return result\\n    return new_function\\n\\ndef add_ints(a, b):\\n    return a + b\", 'add_ints(3, 5)', 'cooler_add_ints = document_it(add_ints)', 'cooler_add_ints(3, 5)', '@document_it\\ndef add_ints(a, b):\\n    return a + b\\n\\nadd_ints(9, 8)', 'def square_it(func):\\n    def new_function(*args, **kwargs):\\n        result = func(*args, **kwargs)\\n        return result * result\\n    return new_function', '@document_it\\n@square_it\\ndef add_ints(a, b):\\n    return a + b\\n\\nadd_ints(3, 8)', '@square_it\\n@document_it\\ndef add_ints(a, b):\\n    return a + b\\n\\nadd_ints(3, 8)', \"animal = 'fruitbat'\\ndef print_global():\\n    print('inside print_global:', anmal)\\n    \\nprint('at the top level:', animal)\", 'print_global()', \"animal = 'fruitbat'\\ndef print_global():\\n    print('inside print_global:', animal)\\n    \\nprint('at the top level:', animal)\", \"animal = 'fruitbat'\\ndef print_global():\\n    print('inside print_global:', animal)\\n    \\nprint('at the top level:', animal)\", 'print_global()', \"def change_and_print_global():\\n    print('inside change_and_print_global:', animal)\\n    animal = 'wombat'\\n    print('after the change:', animal)\", \"def change_and_print_global():\\n    print('inside change_and_print_global:', animal)\\n    animal = 'wombat'\\n    print('after the change:', animal)\\n    \\nchange_and_print_global()\", \"def change_local():\\n    animal = 'wombat'\\n    print('inside change_local:', animal, id(animal))\\n    \\nchange_local()\", 'id(animal)', \"def change_and_print_global():\\n    global animal\\n    print('inside change_and_print_global:', animal)\\n    animal = 'wombat'\\n    print('after the change:', animal)\\n    \\nchange_and_print_global()\", \"print('globals:', globals())\"], '_oh': {1: 11, 2: \"We are the knights who say: 'Hi'\", 5: <class 'function'>, 6: <class 'function'>, 7: \"We are the knights who say: 'Duck'\", 8: \"We are the knights who say: 'Hasenpfeffer'\", 11: 4950, 12: <generator object my_range at 0x7fa540459580>, 15: 8, 17: 8, 18: 17, 20: 121, 21: 121, 30: 140347866873072}, '_dh': ['/Users/sumankhara/Documents/PersonalProjects/Python/Book/introducing-python'], 'In': ['', 'def outer(a, b):\\n    def inner(c, d):\\n        return c + d\\n    return inner(a, b)\\n\\nouter(4, 7)', 'def knights(saying):\\n    def inner(quote):\\n        return \"We are the knights who say: \\'%s\\'\" % quote\\n    return inner(saying)\\n\\nknights(\\'Hi\\')', 'def knights2(saying):\\n    def inner2():\\n        return \"We are the knights who say: \\'%s\\'\" % saying\\n    return inner2', \"a = knights2('Duck')\\nb = knights2('Hasenpfeffer')\", 'type(a)', 'type(b)', 'a()', 'b()', \"def edit_story(words, func):\\n    for word in words:\\n        print(func(word))\\n        \\ndef enliven(word):\\n    return word.capitalize() + '!'\\n\\nstairs = ['thud', 'meow', 'thud', 'hiss']\\n\\nedit_story(stairs, enliven)\", \"edit_story(stairs, lambda word: word.capitalize() + '!')\", 'sum(range(1, 100))', 'def my_range(first=0, last=10, step=1):\\n    number = first\\n    while number < last:\\n        yield number\\n        number += step\\n        \\nmy_range()', 'ranger = my_range(1, 20)\\nfor x in ranger:\\n    print(x)', \"def document_it(func):\\n    def new_function(*args, **kwargs):\\n        print('Running function:', func.__name__)\\n        print('Positional arguments:', args)\\n        print('Keyword arguments:', kwargs)\\n        result = func(*args, **kwargs)\\n        print('Result:', result)\\n        return result\\n    return new_function\\n\\ndef add_ints(a, b):\\n    return a + b\", 'add_ints(3, 5)', 'cooler_add_ints = document_it(add_ints)', 'cooler_add_ints(3, 5)', '@document_it\\ndef add_ints(a, b):\\n    return a + b\\n\\nadd_ints(9, 8)', 'def square_it(func):\\n    def new_function(*args, **kwargs):\\n        result = func(*args, **kwargs)\\n        return result * result\\n    return new_function', '@document_it\\n@square_it\\ndef add_ints(a, b):\\n    return a + b\\n\\nadd_ints(3, 8)', '@square_it\\n@document_it\\ndef add_ints(a, b):\\n    return a + b\\n\\nadd_ints(3, 8)', \"animal = 'fruitbat'\\ndef print_global():\\n    print('inside print_global:', anmal)\\n    \\nprint('at the top level:', animal)\", 'print_global()', \"animal = 'fruitbat'\\ndef print_global():\\n    print('inside print_global:', animal)\\n    \\nprint('at the top level:', animal)\", \"animal = 'fruitbat'\\ndef print_global():\\n    print('inside print_global:', animal)\\n    \\nprint('at the top level:', animal)\", 'print_global()', \"def change_and_print_global():\\n    print('inside change_and_print_global:', animal)\\n    animal = 'wombat'\\n    print('after the change:', animal)\", \"def change_and_print_global():\\n    print('inside change_and_print_global:', animal)\\n    animal = 'wombat'\\n    print('after the change:', animal)\\n    \\nchange_and_print_global()\", \"def change_local():\\n    animal = 'wombat'\\n    print('inside change_local:', animal, id(animal))\\n    \\nchange_local()\", 'id(animal)', \"def change_and_print_global():\\n    global animal\\n    print('inside change_and_print_global:', animal)\\n    animal = 'wombat'\\n    print('after the change:', animal)\\n    \\nchange_and_print_global()\", \"print('globals:', globals())\"], 'Out': {1: 11, 2: \"We are the knights who say: 'Hi'\", 5: <class 'function'>, 6: <class 'function'>, 7: \"We are the knights who say: 'Duck'\", 8: \"We are the knights who say: 'Hasenpfeffer'\", 11: 4950, 12: <generator object my_range at 0x7fa540459580>, 15: 8, 17: 8, 18: 17, 20: 121, 21: 121, 30: 140347866873072}, 'get_ipython': <bound method InteractiveShell.get_ipython of <ipykernel.zmqshell.ZMQInteractiveShell object at 0x7fa5403eb910>>, 'exit': <IPython.core.autocall.ZMQExitAutocall object at 0x7fa5603ff190>, 'quit': <IPython.core.autocall.ZMQExitAutocall object at 0x7fa5603ff190>, '_': 140347866873072, '__': 121, '___': 121, '_i': \"def change_and_print_global():\\n    global animal\\n    print('inside change_and_print_global:', animal)\\n    animal = 'wombat'\\n    print('after the change:', animal)\\n    \\nchange_and_print_global()\", '_ii': 'id(animal)', '_iii': \"def change_local():\\n    animal = 'wombat'\\n    print('inside change_local:', animal, id(animal))\\n    \\nchange_local()\", '_i1': 'def outer(a, b):\\n    def inner(c, d):\\n        return c + d\\n    return inner(a, b)\\n\\nouter(4, 7)', 'outer': <function outer at 0x7fa5805f4790>, '_1': 11, '_i2': 'def knights(saying):\\n    def inner(quote):\\n        return \"We are the knights who say: \\'%s\\'\" % quote\\n    return inner(saying)\\n\\nknights(\\'Hi\\')', 'knights': <function knights at 0x7fa5805f4670>, '_2': \"We are the knights who say: 'Hi'\", '_i3': 'def knights2(saying):\\n    def inner2():\\n        return \"We are the knights who say: \\'%s\\'\" % saying\\n    return inner2', 'knights2': <function knights2 at 0x7fa5805f4820>, '_i4': \"a = knights2('Duck')\\nb = knights2('Hasenpfeffer')\", 'a': <function knights2.<locals>.inner2 at 0x7fa5805f4550>, 'b': <function knights2.<locals>.inner2 at 0x7fa5805f49d0>, '_i5': 'type(a)', '_5': <class 'function'>, '_i6': 'type(b)', '_6': <class 'function'>, '_i7': 'a()', '_7': \"We are the knights who say: 'Duck'\", '_i8': 'b()', '_8': \"We are the knights who say: 'Hasenpfeffer'\", '_i9': \"def edit_story(words, func):\\n    for word in words:\\n        print(func(word))\\n        \\ndef enliven(word):\\n    return word.capitalize() + '!'\\n\\nstairs = ['thud', 'meow', 'thud', 'hiss']\\n\\nedit_story(stairs, enliven)\", 'edit_story': <function edit_story at 0x7fa54046cb80>, 'enliven': <function enliven at 0x7fa54046caf0>, 'stairs': ['thud', 'meow', 'thud', 'hiss'], '_i10': \"edit_story(stairs, lambda word: word.capitalize() + '!')\", '_i11': 'sum(range(1, 100))', '_11': 4950, '_i12': 'def my_range(first=0, last=10, step=1):\\n    number = first\\n    while number < last:\\n        yield number\\n        number += step\\n        \\nmy_range()', 'my_range': <function my_range at 0x7fa58071c8b0>, '_12': <generator object my_range at 0x7fa540459580>, '_i13': 'ranger = my_range(1, 20)\\nfor x in ranger:\\n    print(x)', 'ranger': <generator object my_range at 0x7fa5491a7900>, 'x': 19, '_i14': \"def document_it(func):\\n    def new_function(*args, **kwargs):\\n        print('Running function:', func.__name__)\\n        print('Positional arguments:', args)\\n        print('Keyword arguments:', kwargs)\\n        result = func(*args, **kwargs)\\n        print('Result:', result)\\n        return result\\n    return new_function\\n\\ndef add_ints(a, b):\\n    return a + b\", 'document_it': <function document_it at 0x7fa548d0ff70>, 'add_ints': <function square_it.<locals>.new_function at 0x7fa548d0f790>, '_i15': 'add_ints(3, 5)', '_15': 8, '_i16': 'cooler_add_ints = document_it(add_ints)', 'cooler_add_ints': <function document_it.<locals>.new_function at 0x7fa58073eaf0>, '_i17': 'cooler_add_ints(3, 5)', '_17': 8, '_i18': '@document_it\\ndef add_ints(a, b):\\n    return a + b\\n\\nadd_ints(9, 8)', '_18': 17, '_i19': 'def square_it(func):\\n    def new_function(*args, **kwargs):\\n        result = func(*args, **kwargs)\\n        return result * result\\n    return new_function', 'square_it': <function square_it at 0x7fa548d0fdc0>, '_i20': '@document_it\\n@square_it\\ndef add_ints(a, b):\\n    return a + b\\n\\nadd_ints(3, 8)', '_20': 121, '_i21': '@square_it\\n@document_it\\ndef add_ints(a, b):\\n    return a + b\\n\\nadd_ints(3, 8)', '_21': 121, '_i22': \"animal = 'fruitbat'\\ndef print_global():\\n    print('inside print_global:', anmal)\\n    \\nprint('at the top level:', animal)\", 'animal': 'wombat', 'print_global': <function print_global at 0x7fa5490b5b80>, '_i23': 'print_global()', '_i24': \"animal = 'fruitbat'\\ndef print_global():\\n    print('inside print_global:', animal)\\n    \\nprint('at the top level:', animal)\", '_i25': \"animal = 'fruitbat'\\ndef print_global():\\n    print('inside print_global:', animal)\\n    \\nprint('at the top level:', animal)\", '_i26': 'print_global()', '_i27': \"def change_and_print_global():\\n    print('inside change_and_print_global:', animal)\\n    animal = 'wombat'\\n    print('after the change:', animal)\", 'change_and_print_global': <function change_and_print_global at 0x7fa548d0fc10>, '_i28': \"def change_and_print_global():\\n    print('inside change_and_print_global:', animal)\\n    animal = 'wombat'\\n    print('after the change:', animal)\\n    \\nchange_and_print_global()\", '_i29': \"def change_local():\\n    animal = 'wombat'\\n    print('inside change_local:', animal, id(animal))\\n    \\nchange_local()\", 'change_local': <function change_local at 0x7fa548d0fa60>, '_i30': 'id(animal)', '_30': 140347866873072, '_i31': \"def change_and_print_global():\\n    global animal\\n    print('inside change_and_print_global:', animal)\\n    animal = 'wombat'\\n    print('after the change:', animal)\\n    \\nchange_and_print_global()\", '_i32': \"print('globals:', globals())\"}\n"
     ]
    }
   ],
   "source": [
    "print('globals:', globals())"
   ]
  },
  {
   "cell_type": "code",
   "execution_count": 33,
   "id": "206351e0",
   "metadata": {},
   "outputs": [
    {
     "name": "stdout",
     "output_type": "stream",
     "text": [
      "This function is named: amazing\n",
      "And its docstring is: This is the amazing function.\n",
      "    Want to see it again?\n"
     ]
    }
   ],
   "source": [
    "def amazing():\n",
    "    '''This is the amazing function.\n",
    "    Want to see it again?'''\n",
    "    print('This function is named:', amazing.__name__)\n",
    "    print('And its docstring is:', amazing.__doc__)\n",
    "    \n",
    "amazing()"
   ]
  },
  {
   "cell_type": "code",
   "execution_count": 35,
   "id": "dd2ca681",
   "metadata": {},
   "outputs": [
    {
     "name": "stdout",
     "output_type": "stream",
     "text": [
      "Need a position between 0 and 2 but got 5\n"
     ]
    }
   ],
   "source": [
    "short_list = [1, 2, 3]\n",
    "position = 5\n",
    "try:\n",
    "    short_list[position]\n",
    "except:\n",
    "    print('Need a position between 0 and', len(short_list)-1 , 'but got', position)"
   ]
  },
  {
   "cell_type": "code",
   "execution_count": 36,
   "id": "06878ba2",
   "metadata": {},
   "outputs": [
    {
     "name": "stdout",
     "output_type": "stream",
     "text": [
      "Position [q to quit]? 4\n",
      "Bad index: 4\n",
      "Position [q to quit]? 2\n",
      "3\n",
      "Position [q to quit]? 1\n",
      "2\n",
      "Position [q to quit]? two\n",
      "Something else broke: invalid literal for int() with base 10: 'two'\n",
      "Position [q to quit]? q\n"
     ]
    }
   ],
   "source": [
    "while True:\n",
    "    value = input('Position [q to quit]? ')\n",
    "    if value == 'q':\n",
    "        break\n",
    "    try:\n",
    "        position = int(value)\n",
    "        print(short_list[position])\n",
    "    except IndexError as err:\n",
    "        print('Bad index:', position)\n",
    "    except Exception as other:\n",
    "        print('Something else broke:', other)"
   ]
  },
  {
   "cell_type": "markdown",
   "id": "f936681f",
   "metadata": {},
   "source": [
    "## Exercises"
   ]
  },
  {
   "cell_type": "markdown",
   "id": "541fb965",
   "metadata": {},
   "source": [
    "### 9.1"
   ]
  },
  {
   "cell_type": "code",
   "execution_count": 37,
   "id": "df01c2bc",
   "metadata": {},
   "outputs": [
    {
     "data": {
      "text/plain": [
       "['Harry', 'Ron', 'Hermione']"
      ]
     },
     "execution_count": 37,
     "metadata": {},
     "output_type": "execute_result"
    }
   ],
   "source": [
    "def good():\n",
    "    return ['Harry', 'Ron', 'Hermione']\n",
    "\n",
    "good()"
   ]
  },
  {
   "cell_type": "markdown",
   "id": "ba9e3a11",
   "metadata": {},
   "source": [
    "### 9.2"
   ]
  },
  {
   "cell_type": "code",
   "execution_count": 42,
   "id": "40f00d76",
   "metadata": {},
   "outputs": [
    {
     "name": "stdout",
     "output_type": "stream",
     "text": [
      "The third number is: 5\n"
     ]
    }
   ],
   "source": [
    "def get_odds():\n",
    "    for number in range(10):\n",
    "        if number % 2 == 1:\n",
    "            yield number\n",
    "            \n",
    "count = 1\n",
    "for number in get_odds():\n",
    "    if count == 3:\n",
    "        print('The third number is:', number)\n",
    "        break\n",
    "    else:\n",
    "        count += 1\n",
    "    "
   ]
  },
  {
   "cell_type": "markdown",
   "id": "e4ba79d3",
   "metadata": {},
   "source": [
    "### 9.3"
   ]
  },
  {
   "cell_type": "code",
   "execution_count": 44,
   "id": "c66ad33c",
   "metadata": {},
   "outputs": [],
   "source": [
    "def test(func):\n",
    "    def new_function(*args, **kwargs):\n",
    "        print('start')\n",
    "        func(*args, **kwargs)\n",
    "        print('end')\n",
    "    return new_function"
   ]
  },
  {
   "cell_type": "code",
   "execution_count": 45,
   "id": "441ad2e1",
   "metadata": {},
   "outputs": [
    {
     "name": "stdout",
     "output_type": "stream",
     "text": [
      "start\n",
      "Hello world!\n",
      "end\n"
     ]
    }
   ],
   "source": [
    "@test\n",
    "def my_func():\n",
    "    print('Hello world!')\n",
    "    \n",
    "my_func()"
   ]
  },
  {
   "cell_type": "markdown",
   "id": "26afd7bc",
   "metadata": {},
   "source": [
    "### 9.4"
   ]
  },
  {
   "cell_type": "code",
   "execution_count": 49,
   "id": "4b360274",
   "metadata": {},
   "outputs": [
    {
     "name": "stdout",
     "output_type": "stream",
     "text": [
      "Caught an oops\n"
     ]
    }
   ],
   "source": [
    "class OopsException(Exception):\n",
    "    pass\n",
    "\n",
    "try:\n",
    "    raise OopsException\n",
    "except OopsException as exc:\n",
    "    print('Caught an oops')"
   ]
  },
  {
   "cell_type": "code",
   "execution_count": null,
   "id": "38d79b83",
   "metadata": {},
   "outputs": [],
   "source": []
  }
 ],
 "metadata": {
  "kernelspec": {
   "display_name": "Python 3",
   "language": "python",
   "name": "python3"
  },
  "language_info": {
   "codemirror_mode": {
    "name": "ipython",
    "version": 3
   },
   "file_extension": ".py",
   "mimetype": "text/x-python",
   "name": "python",
   "nbconvert_exporter": "python",
   "pygments_lexer": "ipython3",
   "version": "3.8.8"
  }
 },
 "nbformat": 4,
 "nbformat_minor": 5
}

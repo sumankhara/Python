{
 "cells": [
  {
   "cell_type": "code",
   "execution_count": 1,
   "id": "b435b720",
   "metadata": {},
   "outputs": [
    {
     "data": {
      "text/plain": [
       "{'Hydrogen': 1, 'Helium': 2}"
      ]
     },
     "execution_count": 1,
     "metadata": {},
     "output_type": "execute_result"
    }
   ],
   "source": [
    "periodic_table = {'Hydrogen': 1, 'Helium': 2}\n",
    "periodic_table"
   ]
  },
  {
   "cell_type": "code",
   "execution_count": 2,
   "id": "9dbc1b0f",
   "metadata": {},
   "outputs": [
    {
     "data": {
      "text/plain": [
       "12"
      ]
     },
     "execution_count": 2,
     "metadata": {},
     "output_type": "execute_result"
    }
   ],
   "source": [
    "carbon = periodic_table.setdefault('Carbon', 12)\n",
    "carbon"
   ]
  },
  {
   "cell_type": "code",
   "execution_count": 3,
   "id": "89d28dbb",
   "metadata": {},
   "outputs": [
    {
     "data": {
      "text/plain": [
       "{'Hydrogen': 1, 'Helium': 2, 'Carbon': 12}"
      ]
     },
     "execution_count": 3,
     "metadata": {},
     "output_type": "execute_result"
    }
   ],
   "source": [
    "periodic_table"
   ]
  },
  {
   "cell_type": "code",
   "execution_count": 4,
   "id": "9ae4f159",
   "metadata": {},
   "outputs": [],
   "source": [
    "from collections import defaultdict\n",
    "\n",
    "periodic_table = defaultdict(int)"
   ]
  },
  {
   "cell_type": "code",
   "execution_count": 5,
   "id": "4e691a91",
   "metadata": {},
   "outputs": [
    {
     "data": {
      "text/plain": [
       "defaultdict(int, {'Hydrogen': 1})"
      ]
     },
     "execution_count": 5,
     "metadata": {},
     "output_type": "execute_result"
    }
   ],
   "source": [
    "periodic_table['Hydrogen'] = 1\n",
    "periodic_table"
   ]
  },
  {
   "cell_type": "code",
   "execution_count": 6,
   "id": "275d1427",
   "metadata": {},
   "outputs": [
    {
     "data": {
      "text/plain": [
       "defaultdict(int, {'Hydrogen': 1, 'Lead': 0})"
      ]
     },
     "execution_count": 6,
     "metadata": {},
     "output_type": "execute_result"
    }
   ],
   "source": [
    "periodic_table['Lead']\n",
    "periodic_table"
   ]
  },
  {
   "cell_type": "code",
   "execution_count": 7,
   "id": "ea96dd87",
   "metadata": {},
   "outputs": [],
   "source": [
    "def no_idea():\n",
    "    return 'Huh?'"
   ]
  },
  {
   "cell_type": "code",
   "execution_count": 8,
   "id": "efd52d39",
   "metadata": {},
   "outputs": [
    {
     "data": {
      "text/plain": [
       "'Abominable Snowman'"
      ]
     },
     "execution_count": 8,
     "metadata": {},
     "output_type": "execute_result"
    }
   ],
   "source": [
    "bestiary = defaultdict(no_idea)\n",
    "bestiary['A'] = 'Abominable Snowman'\n",
    "bestiary['B'] = 'Basilisk'\n",
    "bestiary['A']"
   ]
  },
  {
   "cell_type": "code",
   "execution_count": 9,
   "id": "af7662de",
   "metadata": {},
   "outputs": [
    {
     "data": {
      "text/plain": [
       "'Basilisk'"
      ]
     },
     "execution_count": 9,
     "metadata": {},
     "output_type": "execute_result"
    }
   ],
   "source": [
    "bestiary['B']"
   ]
  },
  {
   "cell_type": "code",
   "execution_count": 10,
   "id": "7a5109d3",
   "metadata": {},
   "outputs": [
    {
     "data": {
      "text/plain": [
       "'Huh?'"
      ]
     },
     "execution_count": 10,
     "metadata": {},
     "output_type": "execute_result"
    }
   ],
   "source": [
    "bestiary['C']"
   ]
  },
  {
   "cell_type": "code",
   "execution_count": 11,
   "id": "744362ea",
   "metadata": {},
   "outputs": [
    {
     "data": {
      "text/plain": [
       "'Sorry, what?'"
      ]
     },
     "execution_count": 11,
     "metadata": {},
     "output_type": "execute_result"
    }
   ],
   "source": [
    "bestiary = defaultdict(lambda: 'Sorry, what?')\n",
    "bestiary['E']"
   ]
  },
  {
   "cell_type": "code",
   "execution_count": 12,
   "id": "929da406",
   "metadata": {},
   "outputs": [
    {
     "name": "stdout",
     "output_type": "stream",
     "text": [
      "spam 3\n",
      "eggs 1\n"
     ]
    }
   ],
   "source": [
    "food_counter = defaultdict(int)\n",
    "for food in ['spam', 'spam', 'eggs', 'spam']:\n",
    "    food_counter[food] += 1\n",
    "\n",
    "for food, count in food_counter.items():\n",
    "    print(food, count)"
   ]
  },
  {
   "cell_type": "code",
   "execution_count": 13,
   "id": "2ccca34c",
   "metadata": {},
   "outputs": [
    {
     "data": {
      "text/plain": [
       "Counter({'spam': 3, 'eggs': 1})"
      ]
     },
     "execution_count": 13,
     "metadata": {},
     "output_type": "execute_result"
    }
   ],
   "source": [
    "from collections import Counter\n",
    "\n",
    "breakfast = ['spam', 'spam', 'eggs', 'spam']\n",
    "breakfast_counter = Counter(breakfast)\n",
    "breakfast_counter"
   ]
  },
  {
   "cell_type": "code",
   "execution_count": 14,
   "id": "0afb3fea",
   "metadata": {},
   "outputs": [
    {
     "data": {
      "text/plain": [
       "[('spam', 3), ('eggs', 1)]"
      ]
     },
     "execution_count": 14,
     "metadata": {},
     "output_type": "execute_result"
    }
   ],
   "source": [
    "breakfast_counter.most_common()"
   ]
  },
  {
   "cell_type": "code",
   "execution_count": 15,
   "id": "8e33560b",
   "metadata": {},
   "outputs": [
    {
     "data": {
      "text/plain": [
       "[('spam', 3)]"
      ]
     },
     "execution_count": 15,
     "metadata": {},
     "output_type": "execute_result"
    }
   ],
   "source": [
    "breakfast_counter.most_common(1)"
   ]
  },
  {
   "cell_type": "code",
   "execution_count": 16,
   "id": "eea1c41d",
   "metadata": {},
   "outputs": [
    {
     "data": {
      "text/plain": [
       "Counter({'eggs': 2, 'bacon': 1})"
      ]
     },
     "execution_count": 16,
     "metadata": {},
     "output_type": "execute_result"
    }
   ],
   "source": [
    "lunch = ['eggs', 'eggs', 'bacon']\n",
    "lunch_counter = Counter(lunch)\n",
    "lunch_counter"
   ]
  },
  {
   "cell_type": "code",
   "execution_count": 17,
   "id": "8226dabb",
   "metadata": {},
   "outputs": [
    {
     "data": {
      "text/plain": [
       "Counter({'spam': 3, 'eggs': 3, 'bacon': 1})"
      ]
     },
     "execution_count": 17,
     "metadata": {},
     "output_type": "execute_result"
    }
   ],
   "source": [
    "breakfast_counter + lunch_counter"
   ]
  },
  {
   "cell_type": "code",
   "execution_count": 18,
   "id": "ff4fe757",
   "metadata": {},
   "outputs": [
    {
     "data": {
      "text/plain": [
       "Counter({'spam': 3})"
      ]
     },
     "execution_count": 18,
     "metadata": {},
     "output_type": "execute_result"
    }
   ],
   "source": [
    "breakfast_counter - lunch_counter"
   ]
  },
  {
   "cell_type": "code",
   "execution_count": 19,
   "id": "3f10631a",
   "metadata": {},
   "outputs": [
    {
     "data": {
      "text/plain": [
       "Counter({'eggs': 1, 'bacon': 1})"
      ]
     },
     "execution_count": 19,
     "metadata": {},
     "output_type": "execute_result"
    }
   ],
   "source": [
    "lunch_counter - breakfast_counter"
   ]
  },
  {
   "cell_type": "code",
   "execution_count": 20,
   "id": "94173c6c",
   "metadata": {},
   "outputs": [
    {
     "data": {
      "text/plain": [
       "Counter({'eggs': 1})"
      ]
     },
     "execution_count": 20,
     "metadata": {},
     "output_type": "execute_result"
    }
   ],
   "source": [
    "breakfast_counter & lunch_counter"
   ]
  },
  {
   "cell_type": "code",
   "execution_count": 21,
   "id": "ad325c4d",
   "metadata": {},
   "outputs": [
    {
     "data": {
      "text/plain": [
       "Counter({'spam': 3, 'eggs': 2, 'bacon': 1})"
      ]
     },
     "execution_count": 21,
     "metadata": {},
     "output_type": "execute_result"
    }
   ],
   "source": [
    "breakfast_counter | lunch_counter"
   ]
  },
  {
   "cell_type": "code",
   "execution_count": 22,
   "id": "fad0ad26",
   "metadata": {},
   "outputs": [
    {
     "data": {
      "text/plain": [
       "True"
      ]
     },
     "execution_count": 22,
     "metadata": {},
     "output_type": "execute_result"
    }
   ],
   "source": [
    "def palindrome(word):\n",
    "    from collections import deque\n",
    "    dq = deque(word)\n",
    "    while len(dq) > 1:\n",
    "        if dq.popleft() != dq.pop():\n",
    "            return False\n",
    "    return True\n",
    "\n",
    "palindrome('racecar')"
   ]
  },
  {
   "cell_type": "code",
   "execution_count": 23,
   "id": "2b9b543e",
   "metadata": {},
   "outputs": [
    {
     "data": {
      "text/plain": [
       "True"
      ]
     },
     "execution_count": 23,
     "metadata": {},
     "output_type": "execute_result"
    }
   ],
   "source": [
    "palindrome('malayalam')"
   ]
  },
  {
   "cell_type": "code",
   "execution_count": 24,
   "id": "8ea7ec55",
   "metadata": {},
   "outputs": [
    {
     "data": {
      "text/plain": [
       "False"
      ]
     },
     "execution_count": 24,
     "metadata": {},
     "output_type": "execute_result"
    }
   ],
   "source": [
    "palindrome('suman')"
   ]
  },
  {
   "cell_type": "code",
   "execution_count": 25,
   "id": "21287f57",
   "metadata": {},
   "outputs": [
    {
     "data": {
      "text/plain": [
       "True"
      ]
     },
     "execution_count": 25,
     "metadata": {},
     "output_type": "execute_result"
    }
   ],
   "source": [
    "palindrome('madamImadam')"
   ]
  },
  {
   "cell_type": "code",
   "execution_count": 26,
   "id": "5d280a38",
   "metadata": {},
   "outputs": [
    {
     "name": "stdout",
     "output_type": "stream",
     "text": [
      "1\n",
      "2\n",
      "a\n",
      "b\n"
     ]
    }
   ],
   "source": [
    "import itertools\n",
    "\n",
    "for item in itertools.chain([1,2], ['a', 'b']):\n",
    "    print(item)"
   ]
  },
  {
   "cell_type": "code",
   "execution_count": 27,
   "id": "1aa9778d",
   "metadata": {},
   "outputs": [
    {
     "name": "stdout",
     "output_type": "stream",
     "text": [
      "1\n",
      "3\n",
      "6\n",
      "10\n"
     ]
    }
   ],
   "source": [
    "for item in itertools.accumulate([1,2,3,4]):\n",
    "    print(item)"
   ]
  },
  {
   "cell_type": "code",
   "execution_count": 28,
   "id": "9e76ea4a",
   "metadata": {},
   "outputs": [
    {
     "name": "stdout",
     "output_type": "stream",
     "text": [
      "1\n",
      "2\n",
      "6\n",
      "24\n"
     ]
    }
   ],
   "source": [
    "def multiply(a,b):\n",
    "    return a * b\n",
    "\n",
    "for item in itertools.accumulate([1,2,3,4], multiply):\n",
    "    print(item)"
   ]
  },
  {
   "cell_type": "code",
   "execution_count": 29,
   "id": "602fc088",
   "metadata": {},
   "outputs": [
    {
     "name": "stdout",
     "output_type": "stream",
     "text": [
      "OrderedDict([('Moe', 'A wise guy, huh?'), ('Larry', 'Ow!'), ('Curly', 'Nyuk nyuk!')])\n",
      "OrderedDict([('Moe', 'A wise guy, huh?'),\n",
      "             ('Larry', 'Ow!'),\n",
      "             ('Curly', 'Nyuk nyuk!')])\n"
     ]
    }
   ],
   "source": [
    "from collections import OrderedDict\n",
    "from pprint import pprint\n",
    "\n",
    "quotes = OrderedDict([\n",
    "    ('Moe', 'A wise guy, huh?'),\n",
    "    ('Larry', 'Ow!'),\n",
    "    ('Curly', 'Nyuk nyuk!')\n",
    "])\n",
    "\n",
    "print(quotes)\n",
    "pprint(quotes)"
   ]
  },
  {
   "cell_type": "code",
   "execution_count": 30,
   "id": "28d4b33e",
   "metadata": {},
   "outputs": [
    {
     "data": {
      "text/plain": [
       "'bacon'"
      ]
     },
     "execution_count": 30,
     "metadata": {},
     "output_type": "execute_result"
    }
   ],
   "source": [
    "from random import choice, sample\n",
    "\n",
    "choice([23, 9, 16, 71, 'bacon'])"
   ]
  },
  {
   "cell_type": "code",
   "execution_count": 31,
   "id": "657f2f17",
   "metadata": {},
   "outputs": [
    {
     "data": {
      "text/plain": [
       "4"
      ]
     },
     "execution_count": 31,
     "metadata": {},
     "output_type": "execute_result"
    }
   ],
   "source": [
    "choice(range(1, 100))"
   ]
  },
  {
   "cell_type": "code",
   "execution_count": 32,
   "id": "bfc025a6",
   "metadata": {},
   "outputs": [
    {
     "data": {
      "text/plain": [
       "'h'"
      ]
     },
     "execution_count": 32,
     "metadata": {},
     "output_type": "execute_result"
    }
   ],
   "source": [
    "choice('alphabet')"
   ]
  },
  {
   "cell_type": "code",
   "execution_count": 33,
   "id": "ad508c6d",
   "metadata": {},
   "outputs": [
    {
     "data": {
      "text/plain": [
       "[16, 9, 23]"
      ]
     },
     "execution_count": 33,
     "metadata": {},
     "output_type": "execute_result"
    }
   ],
   "source": [
    "sample([23, 9, 16, 71, 'bacon'], 3)"
   ]
  },
  {
   "cell_type": "code",
   "execution_count": 34,
   "id": "e79a55a5",
   "metadata": {},
   "outputs": [
    {
     "data": {
      "text/plain": [
       "['t', 'a', 'p', 'a']"
      ]
     },
     "execution_count": 34,
     "metadata": {},
     "output_type": "execute_result"
    }
   ],
   "source": [
    "sample('alphabet', 4)"
   ]
  },
  {
   "cell_type": "code",
   "execution_count": 35,
   "id": "cdd01865",
   "metadata": {},
   "outputs": [
    {
     "data": {
      "text/plain": [
       "[29, 3, 79, 91, 67]"
      ]
     },
     "execution_count": 35,
     "metadata": {},
     "output_type": "execute_result"
    }
   ],
   "source": [
    "sample(range(1, 100), 5)"
   ]
  },
  {
   "cell_type": "code",
   "execution_count": 36,
   "id": "f7ad2199",
   "metadata": {},
   "outputs": [
    {
     "data": {
      "text/plain": [
       "14"
      ]
     },
     "execution_count": 36,
     "metadata": {},
     "output_type": "execute_result"
    }
   ],
   "source": [
    "from random import randint, randrange\n",
    "\n",
    "randint(1, 100)"
   ]
  },
  {
   "cell_type": "code",
   "execution_count": 37,
   "id": "ab18e87a",
   "metadata": {},
   "outputs": [
    {
     "data": {
      "text/plain": [
       "51"
      ]
     },
     "execution_count": 37,
     "metadata": {},
     "output_type": "execute_result"
    }
   ],
   "source": [
    "randrange(1, 100, 10)"
   ]
  },
  {
   "cell_type": "code",
   "execution_count": null,
   "id": "cbeaa55d",
   "metadata": {},
   "outputs": [],
   "source": []
  }
 ],
 "metadata": {
  "kernelspec": {
   "display_name": "Python 3",
   "language": "python",
   "name": "python3"
  },
  "language_info": {
   "codemirror_mode": {
    "name": "ipython",
    "version": 3
   },
   "file_extension": ".py",
   "mimetype": "text/x-python",
   "name": "python",
   "nbconvert_exporter": "python",
   "pygments_lexer": "ipython3",
   "version": "3.8.8"
  }
 },
 "nbformat": 4,
 "nbformat_minor": 5
}

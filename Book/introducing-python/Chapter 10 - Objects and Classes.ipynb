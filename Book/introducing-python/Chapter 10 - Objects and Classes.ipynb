{
 "cells": [
  {
   "cell_type": "code",
   "execution_count": 1,
   "id": "feb65185",
   "metadata": {},
   "outputs": [
    {
     "data": {
      "text/plain": [
       "<__main__.Cat at 0x7ff33052f9d0>"
      ]
     },
     "execution_count": 1,
     "metadata": {},
     "output_type": "execute_result"
    }
   ],
   "source": [
    "class Cat:\n",
    "    pass\n",
    "\n",
    "a_cat = Cat()\n",
    "a_cat"
   ]
  },
  {
   "cell_type": "code",
   "execution_count": 2,
   "id": "8967f3b4",
   "metadata": {},
   "outputs": [
    {
     "data": {
      "text/plain": [
       "<__main__.Cat at 0x7ff33052f910>"
      ]
     },
     "execution_count": 2,
     "metadata": {},
     "output_type": "execute_result"
    }
   ],
   "source": [
    "another_cat = Cat()\n",
    "another_cat"
   ]
  },
  {
   "cell_type": "code",
   "execution_count": 3,
   "id": "0a9f2180",
   "metadata": {},
   "outputs": [],
   "source": [
    "a_cat.age = 3\n",
    "a_cat.name = \"Mr. Fuzzybuttons\"\n",
    "a_cat.nemesis = another_cat"
   ]
  },
  {
   "cell_type": "code",
   "execution_count": 4,
   "id": "b35c0c28",
   "metadata": {},
   "outputs": [
    {
     "data": {
      "text/plain": [
       "3"
      ]
     },
     "execution_count": 4,
     "metadata": {},
     "output_type": "execute_result"
    }
   ],
   "source": [
    "a_cat.age"
   ]
  },
  {
   "cell_type": "code",
   "execution_count": 5,
   "id": "f51d527e",
   "metadata": {},
   "outputs": [
    {
     "data": {
      "text/plain": [
       "'Mr. Fuzzybuttons'"
      ]
     },
     "execution_count": 5,
     "metadata": {},
     "output_type": "execute_result"
    }
   ],
   "source": [
    "a_cat.name"
   ]
  },
  {
   "cell_type": "code",
   "execution_count": 6,
   "id": "e8d862b8",
   "metadata": {},
   "outputs": [
    {
     "data": {
      "text/plain": [
       "<__main__.Cat at 0x7ff33052f910>"
      ]
     },
     "execution_count": 6,
     "metadata": {},
     "output_type": "execute_result"
    }
   ],
   "source": [
    "a_cat.nemesis"
   ]
  },
  {
   "cell_type": "code",
   "execution_count": 7,
   "id": "f304e38b",
   "metadata": {},
   "outputs": [
    {
     "ename": "AttributeError",
     "evalue": "'Cat' object has no attribute 'name'",
     "output_type": "error",
     "traceback": [
      "\u001b[0;31m---------------------------------------------------------------------------\u001b[0m",
      "\u001b[0;31mAttributeError\u001b[0m                            Traceback (most recent call last)",
      "\u001b[0;32m<ipython-input-7-86a423fa8243>\u001b[0m in \u001b[0;36m<module>\u001b[0;34m\u001b[0m\n\u001b[0;32m----> 1\u001b[0;31m \u001b[0ma_cat\u001b[0m\u001b[0;34m.\u001b[0m\u001b[0mnemesis\u001b[0m\u001b[0;34m.\u001b[0m\u001b[0mname\u001b[0m\u001b[0;34m\u001b[0m\u001b[0;34m\u001b[0m\u001b[0m\n\u001b[0m",
      "\u001b[0;31mAttributeError\u001b[0m: 'Cat' object has no attribute 'name'"
     ]
    }
   ],
   "source": [
    "a_cat.nemesis.name"
   ]
  },
  {
   "cell_type": "code",
   "execution_count": 8,
   "id": "74fdd1fd",
   "metadata": {},
   "outputs": [
    {
     "data": {
      "text/plain": [
       "'Mr. Bigglesworth'"
      ]
     },
     "execution_count": 8,
     "metadata": {},
     "output_type": "execute_result"
    }
   ],
   "source": [
    "a_cat.nemesis.name = \"Mr. Bigglesworth\"\n",
    "a_cat.nemesis.name"
   ]
  },
  {
   "cell_type": "code",
   "execution_count": 9,
   "id": "f9a16577",
   "metadata": {},
   "outputs": [
    {
     "data": {
      "text/plain": [
       "'Grumpy'"
      ]
     },
     "execution_count": 9,
     "metadata": {},
     "output_type": "execute_result"
    }
   ],
   "source": [
    "class Cat():\n",
    "    def __init__(self, name):\n",
    "        self.name = name\n",
    "\n",
    "furball = Cat('Grumpy')\n",
    "furball.name"
   ]
  },
  {
   "cell_type": "code",
   "execution_count": 10,
   "id": "271ae240",
   "metadata": {},
   "outputs": [
    {
     "data": {
      "text/plain": [
       "True"
      ]
     },
     "execution_count": 10,
     "metadata": {},
     "output_type": "execute_result"
    }
   ],
   "source": [
    "class Car():\n",
    "    pass\n",
    "\n",
    "class Yugo(Car):\n",
    "    pass\n",
    "\n",
    "issubclass(Yugo, Car)"
   ]
  },
  {
   "cell_type": "code",
   "execution_count": 11,
   "id": "fc84d361",
   "metadata": {},
   "outputs": [],
   "source": [
    "class Car():\n",
    "    def exclaim(self):\n",
    "        print(\"I'm a Car!\")\n",
    "        \n",
    "class Yugo(Car):\n",
    "    pass\n",
    "\n",
    "give_me_a_car = Car()\n",
    "give_me_a_yugo = Yugo()"
   ]
  },
  {
   "cell_type": "code",
   "execution_count": 12,
   "id": "0fa60074",
   "metadata": {},
   "outputs": [
    {
     "name": "stdout",
     "output_type": "stream",
     "text": [
      "I'm a Car!\n"
     ]
    }
   ],
   "source": [
    "give_me_a_car.exclaim()"
   ]
  },
  {
   "cell_type": "code",
   "execution_count": 13,
   "id": "7bcb51de",
   "metadata": {},
   "outputs": [
    {
     "name": "stdout",
     "output_type": "stream",
     "text": [
      "I'm a Car!\n"
     ]
    }
   ],
   "source": [
    "give_me_a_yugo.exclaim()"
   ]
  },
  {
   "cell_type": "code",
   "execution_count": 14,
   "id": "e750ba7a",
   "metadata": {},
   "outputs": [],
   "source": [
    "class Car():\n",
    "    def exclaim(self):\n",
    "        print(\"I'm a Car!\")\n",
    "        \n",
    "class Yugo(Car):\n",
    "    def exclaim(self):\n",
    "        print(\"I'm a Yugo! Much like a Car, but more Yugo-ish\")\n",
    "        \n",
    "give_me_a_car = Car()\n",
    "give_me_a_yugo = Yugo()"
   ]
  },
  {
   "cell_type": "code",
   "execution_count": 15,
   "id": "cc075bc9",
   "metadata": {},
   "outputs": [
    {
     "name": "stdout",
     "output_type": "stream",
     "text": [
      "I'm a Car!\n"
     ]
    }
   ],
   "source": [
    "give_me_a_car.exclaim()"
   ]
  },
  {
   "cell_type": "code",
   "execution_count": 16,
   "id": "78d40acc",
   "metadata": {},
   "outputs": [
    {
     "name": "stdout",
     "output_type": "stream",
     "text": [
      "I'm a Yugo! Much like a Car, but more Yugo-ish\n"
     ]
    }
   ],
   "source": [
    "give_me_a_yugo.exclaim()"
   ]
  },
  {
   "cell_type": "code",
   "execution_count": 18,
   "id": "d4f529d3",
   "metadata": {},
   "outputs": [],
   "source": [
    "class Person():\n",
    "    def __init__(self, name):\n",
    "        self.name = name\n",
    "        \n",
    "class MDPerson(Person):\n",
    "    def __init__(self, name):\n",
    "        self.name = \"Doctor \" + name\n",
    "        \n",
    "class JDPerson(Person):\n",
    "    def __init__(self, name):\n",
    "        self.name = name + \", Esquire\""
   ]
  },
  {
   "cell_type": "code",
   "execution_count": 21,
   "id": "28343f57",
   "metadata": {},
   "outputs": [
    {
     "name": "stdout",
     "output_type": "stream",
     "text": [
      "Fudd\n"
     ]
    }
   ],
   "source": [
    "person = Person(\"Fudd\")\n",
    "doctor = MDPerson(\"Fudd\")\n",
    "lawyer = JDPerson(\"Fudd\")\n",
    "\n",
    "print(person.name)"
   ]
  },
  {
   "cell_type": "code",
   "execution_count": 22,
   "id": "a2df616e",
   "metadata": {},
   "outputs": [
    {
     "name": "stdout",
     "output_type": "stream",
     "text": [
      "Doctor Fudd\n"
     ]
    }
   ],
   "source": [
    "print(doctor.name)"
   ]
  },
  {
   "cell_type": "code",
   "execution_count": 23,
   "id": "167b2868",
   "metadata": {},
   "outputs": [
    {
     "name": "stdout",
     "output_type": "stream",
     "text": [
      "Fudd, Esquire\n"
     ]
    }
   ],
   "source": [
    "print(lawyer.name)"
   ]
  },
  {
   "cell_type": "code",
   "execution_count": 24,
   "id": "1757a031",
   "metadata": {},
   "outputs": [],
   "source": [
    "class Car():\n",
    "    def exclaim(self):\n",
    "        print(\"I'm a Car!\")\n",
    "        \n",
    "class Yugo(Car):\n",
    "    def exclaim(self):\n",
    "        print(\"I'm a Yugo! Much like a Car, but more Yugo-ish\")\n",
    "        \n",
    "    def need_a_push(self):\n",
    "        print(\"A little help here?\")\n",
    "        \n",
    "give_me_a_car = Car()\n",
    "give_me_a_yugo = Yugo()"
   ]
  },
  {
   "cell_type": "code",
   "execution_count": 25,
   "id": "8863db82",
   "metadata": {},
   "outputs": [
    {
     "name": "stdout",
     "output_type": "stream",
     "text": [
      "A little help here?\n"
     ]
    }
   ],
   "source": [
    "give_me_a_yugo.need_a_push()"
   ]
  },
  {
   "cell_type": "code",
   "execution_count": 26,
   "id": "a7a2101f",
   "metadata": {},
   "outputs": [],
   "source": [
    "class Person():\n",
    "    def __init__(self, name):\n",
    "        self.name = name\n",
    "        \n",
    "class EmailPerson(Person):\n",
    "    def __init__(self, name, email):\n",
    "        super().__init__(name)\n",
    "        self.email = email\n",
    "\n",
    "bob = EmailPerson('Bob Frapples', 'bob@frapples.com')"
   ]
  },
  {
   "cell_type": "code",
   "execution_count": 27,
   "id": "f6a12266",
   "metadata": {},
   "outputs": [
    {
     "data": {
      "text/plain": [
       "'Bob Frapples'"
      ]
     },
     "execution_count": 27,
     "metadata": {},
     "output_type": "execute_result"
    }
   ],
   "source": [
    "bob.name"
   ]
  },
  {
   "cell_type": "code",
   "execution_count": 28,
   "id": "75bbaa3d",
   "metadata": {},
   "outputs": [
    {
     "data": {
      "text/plain": [
       "'bob@frapples.com'"
      ]
     },
     "execution_count": 28,
     "metadata": {},
     "output_type": "execute_result"
    }
   ],
   "source": [
    "bob.email"
   ]
  },
  {
   "cell_type": "code",
   "execution_count": 31,
   "id": "fcdd256b",
   "metadata": {},
   "outputs": [],
   "source": [
    "class Animal:\n",
    "    def says(self):\n",
    "        return 'I speak!'\n",
    "    \n",
    "class Horse(Animal):\n",
    "    def says(self):\n",
    "        return 'Neigh!'\n",
    "    \n",
    "class Donkey(Animal):\n",
    "    def says(self):\n",
    "        return 'Hee-haw!'\n",
    "    \n",
    "class Mule(Donkey, Horse):\n",
    "    pass\n",
    "\n",
    "class Hinny(Horse, Donkey):\n",
    "    pass"
   ]
  },
  {
   "cell_type": "code",
   "execution_count": 32,
   "id": "3a8c3443",
   "metadata": {},
   "outputs": [
    {
     "data": {
      "text/plain": [
       "[__main__.Mule, __main__.Donkey, __main__.Horse, __main__.Animal, object]"
      ]
     },
     "execution_count": 32,
     "metadata": {},
     "output_type": "execute_result"
    }
   ],
   "source": [
    "Mule.mro()"
   ]
  },
  {
   "cell_type": "code",
   "execution_count": 33,
   "id": "552fdf61",
   "metadata": {},
   "outputs": [
    {
     "data": {
      "text/plain": [
       "[__main__.Hinny, __main__.Horse, __main__.Donkey, __main__.Animal, object]"
      ]
     },
     "execution_count": 33,
     "metadata": {},
     "output_type": "execute_result"
    }
   ],
   "source": [
    "Hinny.mro()"
   ]
  },
  {
   "cell_type": "code",
   "execution_count": 34,
   "id": "8e09451d",
   "metadata": {},
   "outputs": [],
   "source": [
    "mule = Mule()\n",
    "hinny = Hinny()"
   ]
  },
  {
   "cell_type": "code",
   "execution_count": 35,
   "id": "2db7703a",
   "metadata": {},
   "outputs": [
    {
     "data": {
      "text/plain": [
       "'Hee-haw!'"
      ]
     },
     "execution_count": 35,
     "metadata": {},
     "output_type": "execute_result"
    }
   ],
   "source": [
    "mule.says()"
   ]
  },
  {
   "cell_type": "code",
   "execution_count": 36,
   "id": "6c1bf283",
   "metadata": {},
   "outputs": [
    {
     "data": {
      "text/plain": [
       "'Neigh!'"
      ]
     },
     "execution_count": 36,
     "metadata": {},
     "output_type": "execute_result"
    }
   ],
   "source": [
    "hinny.says()"
   ]
  },
  {
   "cell_type": "code",
   "execution_count": 37,
   "id": "3a7f9f84",
   "metadata": {},
   "outputs": [
    {
     "name": "stdout",
     "output_type": "stream",
     "text": [
      "{'age': 'eldritch', 'feature': 'ichor', 'name': 'Nyarlathotep'}\n"
     ]
    }
   ],
   "source": [
    "class PrettyMixin():\n",
    "    def dump(self):\n",
    "        import pprint\n",
    "        pprint.pprint(vars(self))\n",
    "        \n",
    "class Thing(PrettyMixin):\n",
    "    pass\n",
    "\n",
    "t = Thing()\n",
    "t.name = \"Nyarlathotep\"\n",
    "t.feature = 'ichor'\n",
    "t.age = \"eldritch\"\n",
    "\n",
    "t.dump()"
   ]
  },
  {
   "cell_type": "code",
   "execution_count": 38,
   "id": "8ffae9cc",
   "metadata": {},
   "outputs": [
    {
     "data": {
      "text/plain": [
       "'Daffy'"
      ]
     },
     "execution_count": 38,
     "metadata": {},
     "output_type": "execute_result"
    }
   ],
   "source": [
    "class Duck():\n",
    "    def __init__(self, input_name):\n",
    "        self.name = input_name\n",
    "        \n",
    "fowl = Duck('Daffy')\n",
    "fowl.name"
   ]
  },
  {
   "cell_type": "code",
   "execution_count": 39,
   "id": "3e71f474",
   "metadata": {},
   "outputs": [
    {
     "data": {
      "text/plain": [
       "'Daphne'"
      ]
     },
     "execution_count": 39,
     "metadata": {},
     "output_type": "execute_result"
    }
   ],
   "source": [
    "fowl.name = 'Daphne'\n",
    "fowl.name"
   ]
  },
  {
   "cell_type": "code",
   "execution_count": 40,
   "id": "2b8a49c6",
   "metadata": {},
   "outputs": [
    {
     "name": "stdout",
     "output_type": "stream",
     "text": [
      "inside the getter\n"
     ]
    },
    {
     "data": {
      "text/plain": [
       "'Donald'"
      ]
     },
     "execution_count": 40,
     "metadata": {},
     "output_type": "execute_result"
    }
   ],
   "source": [
    "class Duck():\n",
    "    def __init__(self, input_name):\n",
    "        self.hidden_name = input_name\n",
    "    def get_name(self):\n",
    "        print(\"inside the getter\")\n",
    "        return self.hidden_name\n",
    "    def set_name(self, input_name):\n",
    "        print(\"inside the setter\")\n",
    "        self.hidden_name = input_name\n",
    "        \n",
    "don = Duck('Donald')\n",
    "don.get_name()"
   ]
  },
  {
   "cell_type": "code",
   "execution_count": 41,
   "id": "2043fb82",
   "metadata": {},
   "outputs": [
    {
     "name": "stdout",
     "output_type": "stream",
     "text": [
      "inside the setter\n",
      "inside the getter\n"
     ]
    },
    {
     "data": {
      "text/plain": [
       "'Donna'"
      ]
     },
     "execution_count": 41,
     "metadata": {},
     "output_type": "execute_result"
    }
   ],
   "source": [
    "don.set_name(\"Donna\")\n",
    "don.get_name()"
   ]
  },
  {
   "cell_type": "code",
   "execution_count": 42,
   "id": "e9e06fcf",
   "metadata": {},
   "outputs": [
    {
     "name": "stdout",
     "output_type": "stream",
     "text": [
      "inside the getter\n"
     ]
    },
    {
     "data": {
      "text/plain": [
       "'Donald'"
      ]
     },
     "execution_count": 42,
     "metadata": {},
     "output_type": "execute_result"
    }
   ],
   "source": [
    "class Duck():\n",
    "    def __init__(self, input_name):\n",
    "        self.hidden_name = input_name\n",
    "    def get_name(self):\n",
    "        print(\"inside the getter\")\n",
    "        return self.hidden_name\n",
    "    def set_name(self, input_name):\n",
    "        print(\"inside the setter\")\n",
    "        self.hidden_name = input_name\n",
    "    name = property(get_name, set_name)\n",
    "        \n",
    "don = Duck('Donald')\n",
    "don.get_name()"
   ]
  },
  {
   "cell_type": "code",
   "execution_count": 43,
   "id": "53d1fee9",
   "metadata": {},
   "outputs": [
    {
     "name": "stdout",
     "output_type": "stream",
     "text": [
      "inside the getter\n"
     ]
    },
    {
     "data": {
      "text/plain": [
       "'Donald'"
      ]
     },
     "execution_count": 43,
     "metadata": {},
     "output_type": "execute_result"
    }
   ],
   "source": [
    "don.name"
   ]
  },
  {
   "cell_type": "code",
   "execution_count": 44,
   "id": "f7a2e28f",
   "metadata": {},
   "outputs": [
    {
     "name": "stdout",
     "output_type": "stream",
     "text": [
      "inside the setter\n"
     ]
    }
   ],
   "source": [
    "don.name = 'Donna'"
   ]
  },
  {
   "cell_type": "code",
   "execution_count": 45,
   "id": "5674cc0c",
   "metadata": {},
   "outputs": [
    {
     "name": "stdout",
     "output_type": "stream",
     "text": [
      "inside the getter\n"
     ]
    },
    {
     "data": {
      "text/plain": [
       "'Donna'"
      ]
     },
     "execution_count": 45,
     "metadata": {},
     "output_type": "execute_result"
    }
   ],
   "source": [
    "don.name"
   ]
  },
  {
   "cell_type": "code",
   "execution_count": 46,
   "id": "b4b932bb",
   "metadata": {},
   "outputs": [
    {
     "name": "stdout",
     "output_type": "stream",
     "text": [
      "inside the getter\n"
     ]
    },
    {
     "data": {
      "text/plain": [
       "'Howard'"
      ]
     },
     "execution_count": 46,
     "metadata": {},
     "output_type": "execute_result"
    }
   ],
   "source": [
    "class Duck():\n",
    "    def __init__(self, input_name):\n",
    "        self.hidden_name = input_name\n",
    "    @property\n",
    "    def name(self):\n",
    "        print(\"inside the getter\")\n",
    "        return self.hidden_name\n",
    "    @name.setter\n",
    "    def name(self, input_name):\n",
    "        print(\"inside the setter\")\n",
    "        self.hidden_name = input_name\n",
    "        \n",
    "fowl = Duck('Howard')\n",
    "fowl.name"
   ]
  },
  {
   "cell_type": "code",
   "execution_count": 47,
   "id": "bccb99cb",
   "metadata": {},
   "outputs": [
    {
     "name": "stdout",
     "output_type": "stream",
     "text": [
      "inside the setter\n"
     ]
    }
   ],
   "source": [
    "fowl.name = 'Donald'"
   ]
  },
  {
   "cell_type": "code",
   "execution_count": 48,
   "id": "52343bee",
   "metadata": {},
   "outputs": [
    {
     "name": "stdout",
     "output_type": "stream",
     "text": [
      "inside the getter\n"
     ]
    },
    {
     "data": {
      "text/plain": [
       "'Donald'"
      ]
     },
     "execution_count": 48,
     "metadata": {},
     "output_type": "execute_result"
    }
   ],
   "source": [
    "fowl.name"
   ]
  },
  {
   "cell_type": "code",
   "execution_count": 49,
   "id": "c05ae079",
   "metadata": {},
   "outputs": [
    {
     "data": {
      "text/plain": [
       "5"
      ]
     },
     "execution_count": 49,
     "metadata": {},
     "output_type": "execute_result"
    }
   ],
   "source": [
    "class Circle():\n",
    "    def __init__(self, radius):\n",
    "        self.radius = radius\n",
    "    @property\n",
    "    def diameter(self):\n",
    "        return 2 * self.radius\n",
    "    \n",
    "c = Circle(5)\n",
    "c.radius"
   ]
  },
  {
   "cell_type": "code",
   "execution_count": 50,
   "id": "7410cbb2",
   "metadata": {},
   "outputs": [
    {
     "data": {
      "text/plain": [
       "10"
      ]
     },
     "execution_count": 50,
     "metadata": {},
     "output_type": "execute_result"
    }
   ],
   "source": [
    "c.diameter"
   ]
  },
  {
   "cell_type": "code",
   "execution_count": 51,
   "id": "8db21c12",
   "metadata": {},
   "outputs": [
    {
     "name": "stdout",
     "output_type": "stream",
     "text": [
      "inside the getter\n"
     ]
    },
    {
     "data": {
      "text/plain": [
       "'Howard'"
      ]
     },
     "execution_count": 51,
     "metadata": {},
     "output_type": "execute_result"
    }
   ],
   "source": [
    "class Duck():\n",
    "    def __init__(self, input_name):\n",
    "        self.__name = input_name\n",
    "    @property\n",
    "    def name(self):\n",
    "        print(\"inside the getter\")\n",
    "        return self.__name\n",
    "    @name.setter\n",
    "    def name(self, input_name):\n",
    "        print(\"inside the setter\")\n",
    "        self.__name = input_name\n",
    "        \n",
    "fowl = Duck('Howard')\n",
    "fowl.name"
   ]
  },
  {
   "cell_type": "code",
   "execution_count": 52,
   "id": "6e757d2d",
   "metadata": {},
   "outputs": [
    {
     "name": "stdout",
     "output_type": "stream",
     "text": [
      "inside the setter\n"
     ]
    }
   ],
   "source": [
    "fowl.name = 'Donald'"
   ]
  },
  {
   "cell_type": "code",
   "execution_count": 53,
   "id": "e11c5587",
   "metadata": {},
   "outputs": [
    {
     "name": "stdout",
     "output_type": "stream",
     "text": [
      "inside the getter\n"
     ]
    },
    {
     "data": {
      "text/plain": [
       "'Donald'"
      ]
     },
     "execution_count": 53,
     "metadata": {},
     "output_type": "execute_result"
    }
   ],
   "source": [
    "fowl.name"
   ]
  },
  {
   "cell_type": "code",
   "execution_count": 54,
   "id": "510f2ef8",
   "metadata": {},
   "outputs": [
    {
     "data": {
      "text/plain": [
       "'Donald'"
      ]
     },
     "execution_count": 54,
     "metadata": {},
     "output_type": "execute_result"
    }
   ],
   "source": [
    "fowl._Duck__name"
   ]
  },
  {
   "cell_type": "code",
   "execution_count": 55,
   "id": "a17389fc",
   "metadata": {},
   "outputs": [
    {
     "data": {
      "text/plain": [
       "'red'"
      ]
     },
     "execution_count": 55,
     "metadata": {},
     "output_type": "execute_result"
    }
   ],
   "source": [
    "class Fruit:\n",
    "    color = 'red'\n",
    "    \n",
    "blueberry = Fruit()\n",
    "Fruit.color"
   ]
  },
  {
   "cell_type": "code",
   "execution_count": 56,
   "id": "6bd80c66",
   "metadata": {},
   "outputs": [
    {
     "data": {
      "text/plain": [
       "'red'"
      ]
     },
     "execution_count": 56,
     "metadata": {},
     "output_type": "execute_result"
    }
   ],
   "source": [
    "blueberry.color"
   ]
  },
  {
   "cell_type": "code",
   "execution_count": 57,
   "id": "29437eee",
   "metadata": {},
   "outputs": [
    {
     "data": {
      "text/plain": [
       "'blue'"
      ]
     },
     "execution_count": 57,
     "metadata": {},
     "output_type": "execute_result"
    }
   ],
   "source": [
    "blueberry.color = 'blue'\n",
    "blueberry.color"
   ]
  },
  {
   "cell_type": "code",
   "execution_count": 58,
   "id": "7c045eee",
   "metadata": {},
   "outputs": [
    {
     "data": {
      "text/plain": [
       "'red'"
      ]
     },
     "execution_count": 58,
     "metadata": {},
     "output_type": "execute_result"
    }
   ],
   "source": [
    "Fruit.color"
   ]
  },
  {
   "cell_type": "code",
   "execution_count": 60,
   "id": "134ed7c9",
   "metadata": {},
   "outputs": [
    {
     "name": "stdout",
     "output_type": "stream",
     "text": [
      "A has 3 little objects.\n"
     ]
    }
   ],
   "source": [
    "class A():\n",
    "    count = 0\n",
    "    def __init__(self):\n",
    "        A.count += 1\n",
    "    def exclaim(self):\n",
    "        print(\"I'm an A!\")\n",
    "    @classmethod\n",
    "    def kids(cls):\n",
    "        print(\"A has\", cls.count, \"little objects.\")\n",
    "        \n",
    "easy_a = A()\n",
    "breezy_a = A()\n",
    "wheezy_a = A()\n",
    "\n",
    "A.kids()"
   ]
  },
  {
   "cell_type": "code",
   "execution_count": 61,
   "id": "370ce001",
   "metadata": {},
   "outputs": [
    {
     "name": "stdout",
     "output_type": "stream",
     "text": [
      "This CoyoteWeapon has been brought to you by Acme\n"
     ]
    }
   ],
   "source": [
    "class CoyoteWeapon():\n",
    "    @staticmethod\n",
    "    def commercial():\n",
    "        print('This CoyoteWeapon has been brought to you by Acme')\n",
    "        \n",
    "CoyoteWeapon.commercial()"
   ]
  },
  {
   "cell_type": "code",
   "execution_count": 64,
   "id": "bf3757b8",
   "metadata": {},
   "outputs": [
    {
     "name": "stdout",
     "output_type": "stream",
     "text": [
      "Elmer Fudd says: I'm hunting wabbits.\n"
     ]
    }
   ],
   "source": [
    "class Quote():\n",
    "    def __init__(self, person, words):\n",
    "        self.person = person\n",
    "        self.words = words\n",
    "    def who(self):\n",
    "        return self.person\n",
    "    def says(self):\n",
    "        return self.words + '.'\n",
    "    \n",
    "class QuestionQuote(Quote):\n",
    "    def says(self):\n",
    "        return self.words + '?'\n",
    "    \n",
    "class ExclamationQuote(Quote):\n",
    "    def says(self):\n",
    "        return self.words + '!'\n",
    "    \n",
    "hunter = Quote('Elmer Fudd', \"I'm hunting wabbits\")\n",
    "print(hunter.who(), 'says:', hunter.says())"
   ]
  },
  {
   "cell_type": "code",
   "execution_count": 65,
   "id": "cae43a1d",
   "metadata": {},
   "outputs": [
    {
     "name": "stdout",
     "output_type": "stream",
     "text": [
      "Bugs Bunny says: What's up, doc?\n"
     ]
    }
   ],
   "source": [
    "hunted1 = QuestionQuote('Bugs Bunny', \"What's up, doc\")\n",
    "print(hunted1.who(), 'says:', hunted1.says())"
   ]
  },
  {
   "cell_type": "code",
   "execution_count": 66,
   "id": "38bab82e",
   "metadata": {},
   "outputs": [
    {
     "name": "stdout",
     "output_type": "stream",
     "text": [
      "Daffy Duck says: It's rabbit season!\n"
     ]
    }
   ],
   "source": [
    "hunted2 = ExclamationQuote('Daffy Duck', \"It's rabbit season\")\n",
    "print(hunted2.who(), 'says:', hunted2.says())"
   ]
  },
  {
   "cell_type": "code",
   "execution_count": 72,
   "id": "43f22e63",
   "metadata": {},
   "outputs": [],
   "source": [
    "class BabblingBrook():\n",
    "    def who(self):\n",
    "        return 'Brook'\n",
    "    def says(self):\n",
    "        return 'Babble'\n",
    "    \n",
    "brook = BabblingBrook()\n",
    "\n",
    "def who_says(obj):\n",
    "    print(obj.who(), 'says:', obj.says())"
   ]
  },
  {
   "cell_type": "code",
   "execution_count": 68,
   "id": "b54056dc",
   "metadata": {},
   "outputs": [
    {
     "name": "stdout",
     "output_type": "stream",
     "text": [
      "Elmer Fudd says: I'm hunting wabbits.\n"
     ]
    }
   ],
   "source": [
    "who_says(hunter)"
   ]
  },
  {
   "cell_type": "code",
   "execution_count": 69,
   "id": "fcf2e50a",
   "metadata": {},
   "outputs": [
    {
     "name": "stdout",
     "output_type": "stream",
     "text": [
      "Bugs Bunny says: What's up, doc?\n"
     ]
    }
   ],
   "source": [
    "who_says(hunted1)"
   ]
  },
  {
   "cell_type": "code",
   "execution_count": 70,
   "id": "b4acc4a1",
   "metadata": {},
   "outputs": [
    {
     "name": "stdout",
     "output_type": "stream",
     "text": [
      "Daffy Duck says: It's rabbit season!\n"
     ]
    }
   ],
   "source": [
    "who_says(hunted2)"
   ]
  },
  {
   "cell_type": "code",
   "execution_count": 73,
   "id": "83d3aafe",
   "metadata": {},
   "outputs": [
    {
     "name": "stdout",
     "output_type": "stream",
     "text": [
      "Brook says: Babble\n"
     ]
    }
   ],
   "source": [
    "who_says(brook)"
   ]
  },
  {
   "cell_type": "code",
   "execution_count": null,
   "id": "3ac6d61f",
   "metadata": {},
   "outputs": [],
   "source": []
  }
 ],
 "metadata": {
  "kernelspec": {
   "display_name": "Python 3",
   "language": "python",
   "name": "python3"
  },
  "language_info": {
   "codemirror_mode": {
    "name": "ipython",
    "version": 3
   },
   "file_extension": ".py",
   "mimetype": "text/x-python",
   "name": "python",
   "nbconvert_exporter": "python",
   "pygments_lexer": "ipython3",
   "version": "3.8.8"
  }
 },
 "nbformat": 4,
 "nbformat_minor": 5
}

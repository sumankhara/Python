{
 "cells": [
  {
   "cell_type": "code",
   "execution_count": 1,
   "id": "49363b52",
   "metadata": {},
   "outputs": [
    {
     "data": {
      "text/plain": [
       "('Groucho',)"
      ]
     },
     "execution_count": 1,
     "metadata": {},
     "output_type": "execute_result"
    }
   ],
   "source": [
    "one_marx = 'Groucho',\n",
    "one_marx"
   ]
  },
  {
   "cell_type": "code",
   "execution_count": 2,
   "id": "4be5ef9e",
   "metadata": {},
   "outputs": [
    {
     "data": {
      "text/plain": [
       "str"
      ]
     },
     "execution_count": 2,
     "metadata": {},
     "output_type": "execute_result"
    }
   ],
   "source": [
    "one_marx = ('Groucho')\n",
    "type(one_marx)"
   ]
  },
  {
   "cell_type": "code",
   "execution_count": 3,
   "id": "a160a5d3",
   "metadata": {},
   "outputs": [
    {
     "data": {
      "text/plain": [
       "('Groucho', 'Chico', 'Harpo')"
      ]
     },
     "execution_count": 3,
     "metadata": {},
     "output_type": "execute_result"
    }
   ],
   "source": [
    "marx_tuple = ('Groucho', 'Chico', 'Harpo')\n",
    "marx_tuple"
   ]
  },
  {
   "cell_type": "code",
   "execution_count": 4,
   "id": "d77c87db",
   "metadata": {},
   "outputs": [
    {
     "name": "stdout",
     "output_type": "stream",
     "text": [
      "Groucho Chico Harpo\n"
     ]
    }
   ],
   "source": [
    "a, b, c = marx_tuple\n",
    "print(a, b, c)"
   ]
  },
  {
   "cell_type": "code",
   "execution_count": 5,
   "id": "1261230b",
   "metadata": {},
   "outputs": [
    {
     "name": "stdout",
     "output_type": "stream",
     "text": [
      "password = swordfish, icecream = tuttifrutti\n",
      "password = tuttifrutti, icecream = swordfish\n"
     ]
    }
   ],
   "source": [
    "password = 'swordfish'\n",
    "icecream = 'tuttifrutti'\n",
    "print(f'password = {password}, icecream = {icecream}')\n",
    "password, icecream = icecream, password\n",
    "print(f'password = {password}, icecream = {icecream}')"
   ]
  },
  {
   "cell_type": "code",
   "execution_count": 6,
   "id": "6a1ad2a1",
   "metadata": {},
   "outputs": [
    {
     "data": {
      "text/plain": [
       "('Groucho', 'Chico', 'Harpo')"
      ]
     },
     "execution_count": 6,
     "metadata": {},
     "output_type": "execute_result"
    }
   ],
   "source": [
    "marx_list = ['Groucho', 'Chico', 'Harpo']\n",
    "tuple(marx_list)"
   ]
  },
  {
   "cell_type": "code",
   "execution_count": 7,
   "id": "ade84b7a",
   "metadata": {},
   "outputs": [
    {
     "data": {
      "text/plain": [
       "('Groucho', 'Chico', 'Harpo')"
      ]
     },
     "execution_count": 7,
     "metadata": {},
     "output_type": "execute_result"
    }
   ],
   "source": [
    "('Groucho',) + ('Chico', 'Harpo')"
   ]
  },
  {
   "cell_type": "code",
   "execution_count": 8,
   "id": "fa665a49",
   "metadata": {},
   "outputs": [
    {
     "data": {
      "text/plain": [
       "('yaada', 'yaada', 'yaada')"
      ]
     },
     "execution_count": 8,
     "metadata": {},
     "output_type": "execute_result"
    }
   ],
   "source": [
    "('yaada',) * 3"
   ]
  },
  {
   "cell_type": "code",
   "execution_count": 9,
   "id": "74e485f8",
   "metadata": {},
   "outputs": [
    {
     "data": {
      "text/plain": [
       "False"
      ]
     },
     "execution_count": 9,
     "metadata": {},
     "output_type": "execute_result"
    }
   ],
   "source": [
    "a = (7, 2, 9)\n",
    "b = (8, 1, 10)\n",
    "a == b"
   ]
  },
  {
   "cell_type": "code",
   "execution_count": 10,
   "id": "bcd602c0",
   "metadata": {},
   "outputs": [
    {
     "data": {
      "text/plain": [
       "True"
      ]
     },
     "execution_count": 10,
     "metadata": {},
     "output_type": "execute_result"
    }
   ],
   "source": [
    "a < b"
   ]
  },
  {
   "cell_type": "code",
   "execution_count": 11,
   "id": "c477f1c7",
   "metadata": {},
   "outputs": [
    {
     "data": {
      "text/plain": [
       "False"
      ]
     },
     "execution_count": 11,
     "metadata": {},
     "output_type": "execute_result"
    }
   ],
   "source": [
    "a > b"
   ]
  },
  {
   "cell_type": "code",
   "execution_count": 12,
   "id": "2e17bd06",
   "metadata": {},
   "outputs": [
    {
     "name": "stdout",
     "output_type": "stream",
     "text": [
      "fresh\n",
      "out\n",
      "of\n",
      "ideas\n"
     ]
    }
   ],
   "source": [
    "words = ('fresh', 'out', 'of', 'ideas')\n",
    "for word in words:\n",
    "    print(word)"
   ]
  },
  {
   "cell_type": "code",
   "execution_count": 13,
   "id": "36094f2d",
   "metadata": {},
   "outputs": [
    {
     "data": {
      "text/plain": [
       "140589717154432"
      ]
     },
     "execution_count": 13,
     "metadata": {},
     "output_type": "execute_result"
    }
   ],
   "source": [
    "t1 = ('Fee', 'Fie', 'Foe')\n",
    "t2 = ('Flop',)\n",
    "id(t1)"
   ]
  },
  {
   "cell_type": "code",
   "execution_count": 14,
   "id": "48835619",
   "metadata": {},
   "outputs": [
    {
     "data": {
      "text/plain": [
       "140589457194016"
      ]
     },
     "execution_count": 14,
     "metadata": {},
     "output_type": "execute_result"
    }
   ],
   "source": [
    "t1 += t2\n",
    "id(t1)"
   ]
  },
  {
   "cell_type": "code",
   "execution_count": 15,
   "id": "152c014d",
   "metadata": {},
   "outputs": [
    {
     "data": {
      "text/plain": [
       "['c', 'a', 't']"
      ]
     },
     "execution_count": 15,
     "metadata": {},
     "output_type": "execute_result"
    }
   ],
   "source": [
    "list('cat')"
   ]
  },
  {
   "cell_type": "code",
   "execution_count": 16,
   "id": "7e0adf2b",
   "metadata": {},
   "outputs": [
    {
     "data": {
      "text/plain": [
       "['ready', 'fire', 'aim']"
      ]
     },
     "execution_count": 16,
     "metadata": {},
     "output_type": "execute_result"
    }
   ],
   "source": [
    "a_tuple = ('ready', 'fire', 'aim')\n",
    "list(a_tuple)"
   ]
  },
  {
   "cell_type": "code",
   "execution_count": 17,
   "id": "4bf85c2c",
   "metadata": {},
   "outputs": [
    {
     "data": {
      "text/plain": [
       "['Groucho', 'Chico']"
      ]
     },
     "execution_count": 17,
     "metadata": {},
     "output_type": "execute_result"
    }
   ],
   "source": [
    "marxes = ['Groucho', 'Chico', 'Harpo']\n",
    "marxes[0:2]"
   ]
  },
  {
   "cell_type": "code",
   "execution_count": 18,
   "id": "0a9a1d74",
   "metadata": {},
   "outputs": [
    {
     "data": {
      "text/plain": [
       "['Groucho', 'Harpo']"
      ]
     },
     "execution_count": 18,
     "metadata": {},
     "output_type": "execute_result"
    }
   ],
   "source": [
    "marxes[::2]"
   ]
  },
  {
   "cell_type": "code",
   "execution_count": 19,
   "id": "b6204957",
   "metadata": {},
   "outputs": [
    {
     "data": {
      "text/plain": [
       "['Harpo', 'Chico', 'Groucho']"
      ]
     },
     "execution_count": 19,
     "metadata": {},
     "output_type": "execute_result"
    }
   ],
   "source": [
    "marxes[::-1]"
   ]
  },
  {
   "cell_type": "code",
   "execution_count": 20,
   "id": "21732043",
   "metadata": {},
   "outputs": [],
   "source": [
    "marxes.reverse()"
   ]
  },
  {
   "cell_type": "code",
   "execution_count": 21,
   "id": "0118a596",
   "metadata": {},
   "outputs": [
    {
     "data": {
      "text/plain": [
       "['Harpo', 'Chico', 'Groucho']"
      ]
     },
     "execution_count": 21,
     "metadata": {},
     "output_type": "execute_result"
    }
   ],
   "source": [
    "marxes"
   ]
  },
  {
   "cell_type": "code",
   "execution_count": 22,
   "id": "4002f12c",
   "metadata": {},
   "outputs": [],
   "source": [
    "marxes.reverse()"
   ]
  },
  {
   "cell_type": "code",
   "execution_count": 23,
   "id": "4d39bd41",
   "metadata": {},
   "outputs": [
    {
     "data": {
      "text/plain": [
       "['Groucho', 'Chico', 'Harpo', 'Zeppo']"
      ]
     },
     "execution_count": 23,
     "metadata": {},
     "output_type": "execute_result"
    }
   ],
   "source": [
    "marxes.append('Zeppo')\n",
    "marxes"
   ]
  },
  {
   "cell_type": "code",
   "execution_count": 24,
   "id": "ec34d385",
   "metadata": {},
   "outputs": [
    {
     "data": {
      "text/plain": [
       "['Groucho', 'Chico', 'Gummo', 'Harpo', 'Zeppo']"
      ]
     },
     "execution_count": 24,
     "metadata": {},
     "output_type": "execute_result"
    }
   ],
   "source": [
    "marxes.insert(2, 'Gummo')\n",
    "marxes"
   ]
  },
  {
   "cell_type": "code",
   "execution_count": 25,
   "id": "47b93445",
   "metadata": {},
   "outputs": [
    {
     "data": {
      "text/plain": [
       "['blah', 'blah', 'blah']"
      ]
     },
     "execution_count": 25,
     "metadata": {},
     "output_type": "execute_result"
    }
   ],
   "source": [
    "[\"blah\"] * 3"
   ]
  },
  {
   "cell_type": "code",
   "execution_count": 26,
   "id": "1077c21c",
   "metadata": {},
   "outputs": [
    {
     "data": {
      "text/plain": [
       "['Groucho', 'Chico', 'Gummo', 'Harpo', 'Zeppo', 'Karl']"
      ]
     },
     "execution_count": 26,
     "metadata": {},
     "output_type": "execute_result"
    }
   ],
   "source": [
    "others = [\"Karl\"]\n",
    "marxes.extend(others)\n",
    "marxes"
   ]
  },
  {
   "cell_type": "code",
   "execution_count": 29,
   "id": "fea45a72",
   "metadata": {},
   "outputs": [],
   "source": [
    "marxes += ['Nimo']"
   ]
  },
  {
   "cell_type": "code",
   "execution_count": 30,
   "id": "7d59991d",
   "metadata": {},
   "outputs": [
    {
     "data": {
      "text/plain": [
       "['Groucho', 'Chico', 'Gummo', 'Harpo', 'Zeppo', 'Karl', 'Nimo']"
      ]
     },
     "execution_count": 30,
     "metadata": {},
     "output_type": "execute_result"
    }
   ],
   "source": [
    "marxes"
   ]
  },
  {
   "cell_type": "code",
   "execution_count": 31,
   "id": "f3e5a867",
   "metadata": {},
   "outputs": [
    {
     "data": {
      "text/plain": [
       "['Groucho', 'Chico', 'Wanda', 'Harpo', 'Zeppo', 'Karl', 'Nimo']"
      ]
     },
     "execution_count": 31,
     "metadata": {},
     "output_type": "execute_result"
    }
   ],
   "source": [
    "marxes[2] = 'Wanda'\n",
    "marxes"
   ]
  },
  {
   "cell_type": "code",
   "execution_count": 32,
   "id": "dea01c9b",
   "metadata": {},
   "outputs": [
    {
     "data": {
      "text/plain": [
       "[1, 8, 9, 4]"
      ]
     },
     "execution_count": 32,
     "metadata": {},
     "output_type": "execute_result"
    }
   ],
   "source": [
    "numbers = [1,2,3,4]\n",
    "numbers[1:3] = [8,9]\n",
    "numbers"
   ]
  },
  {
   "cell_type": "code",
   "execution_count": 33,
   "id": "cbfaf90e",
   "metadata": {},
   "outputs": [
    {
     "data": {
      "text/plain": [
       "[1, 7, 8, 9, 10, 4]"
      ]
     },
     "execution_count": 33,
     "metadata": {},
     "output_type": "execute_result"
    }
   ],
   "source": [
    "numbers[1:3] = [7,8,9,10]\n",
    "numbers"
   ]
  },
  {
   "cell_type": "code",
   "execution_count": 34,
   "id": "29512005",
   "metadata": {},
   "outputs": [
    {
     "data": {
      "text/plain": [
       "[1, 4]"
      ]
     },
     "execution_count": 34,
     "metadata": {},
     "output_type": "execute_result"
    }
   ],
   "source": [
    "numbers[1:5] = []\n",
    "numbers"
   ]
  },
  {
   "cell_type": "code",
   "execution_count": 35,
   "id": "69d9eb82",
   "metadata": {},
   "outputs": [
    {
     "data": {
      "text/plain": [
       "[1, 2, 3, 4]"
      ]
     },
     "execution_count": 35,
     "metadata": {},
     "output_type": "execute_result"
    }
   ],
   "source": [
    "numbers[1:] = [2,3,4]\n",
    "numbers"
   ]
  },
  {
   "cell_type": "code",
   "execution_count": 36,
   "id": "07a1f32c",
   "metadata": {},
   "outputs": [
    {
     "data": {
      "text/plain": [
       "[1, 'w', 'h', 'a', 't', '?', 4]"
      ]
     },
     "execution_count": 36,
     "metadata": {},
     "output_type": "execute_result"
    }
   ],
   "source": [
    "numbers[1:3] = 'what?'\n",
    "numbers"
   ]
  },
  {
   "cell_type": "code",
   "execution_count": 37,
   "id": "a68b6f48",
   "metadata": {},
   "outputs": [
    {
     "data": {
      "text/plain": [
       "'Nimo'"
      ]
     },
     "execution_count": 37,
     "metadata": {},
     "output_type": "execute_result"
    }
   ],
   "source": [
    "marxes[-1]"
   ]
  },
  {
   "cell_type": "code",
   "execution_count": 38,
   "id": "77029975",
   "metadata": {},
   "outputs": [],
   "source": [
    "del marxes[-1]"
   ]
  },
  {
   "cell_type": "code",
   "execution_count": 39,
   "id": "c3667e74",
   "metadata": {},
   "outputs": [
    {
     "data": {
      "text/plain": [
       "['Groucho', 'Chico', 'Wanda', 'Harpo', 'Zeppo', 'Karl']"
      ]
     },
     "execution_count": 39,
     "metadata": {},
     "output_type": "execute_result"
    }
   ],
   "source": [
    "marxes"
   ]
  },
  {
   "cell_type": "code",
   "execution_count": 40,
   "id": "950e6c1b",
   "metadata": {},
   "outputs": [
    {
     "data": {
      "text/plain": [
       "['Groucho', 'Chico', 'Harpo', 'Zeppo', 'Karl']"
      ]
     },
     "execution_count": 40,
     "metadata": {},
     "output_type": "execute_result"
    }
   ],
   "source": [
    "marxes.remove('Wanda')\n",
    "marxes"
   ]
  },
  {
   "cell_type": "code",
   "execution_count": 41,
   "id": "494ad0e7",
   "metadata": {},
   "outputs": [
    {
     "data": {
      "text/plain": [
       "['Groucho', 'Chico', 'Harpo', 'Zeppo']"
      ]
     },
     "execution_count": 41,
     "metadata": {},
     "output_type": "execute_result"
    }
   ],
   "source": [
    "marxes.pop()\n",
    "marxes"
   ]
  },
  {
   "cell_type": "code",
   "execution_count": 42,
   "id": "63457989",
   "metadata": {},
   "outputs": [
    {
     "data": {
      "text/plain": [
       "['Chico', 'Harpo', 'Zeppo']"
      ]
     },
     "execution_count": 42,
     "metadata": {},
     "output_type": "execute_result"
    }
   ],
   "source": [
    "marxes.pop(0)\n",
    "marxes"
   ]
  },
  {
   "cell_type": "code",
   "execution_count": 43,
   "id": "61cea064",
   "metadata": {},
   "outputs": [
    {
     "data": {
      "text/plain": [
       "[]"
      ]
     },
     "execution_count": 43,
     "metadata": {},
     "output_type": "execute_result"
    }
   ],
   "source": [
    "marxes.clear()\n",
    "marxes"
   ]
  },
  {
   "cell_type": "code",
   "execution_count": 44,
   "id": "b0b442cf",
   "metadata": {},
   "outputs": [
    {
     "data": {
      "text/plain": [
       "1"
      ]
     },
     "execution_count": 44,
     "metadata": {},
     "output_type": "execute_result"
    }
   ],
   "source": [
    "marxes = ['Groucho', 'Chico', 'Wanda', 'Harpo', 'Zeppo', 'Karl']\n",
    "marxes.index('Chico')"
   ]
  },
  {
   "cell_type": "code",
   "execution_count": 45,
   "id": "cce7628b",
   "metadata": {},
   "outputs": [
    {
     "data": {
      "text/plain": [
       "True"
      ]
     },
     "execution_count": 45,
     "metadata": {},
     "output_type": "execute_result"
    }
   ],
   "source": [
    "'Groucho' in marxes"
   ]
  },
  {
   "cell_type": "code",
   "execution_count": 46,
   "id": "0bec20ff",
   "metadata": {},
   "outputs": [
    {
     "data": {
      "text/plain": [
       "1"
      ]
     },
     "execution_count": 46,
     "metadata": {},
     "output_type": "execute_result"
    }
   ],
   "source": [
    "marxes.count('Karl')"
   ]
  },
  {
   "cell_type": "code",
   "execution_count": 47,
   "id": "3438fa2d",
   "metadata": {},
   "outputs": [
    {
     "data": {
      "text/plain": [
       "0"
      ]
     },
     "execution_count": 47,
     "metadata": {},
     "output_type": "execute_result"
    }
   ],
   "source": [
    "marxes.count('Bart')"
   ]
  },
  {
   "cell_type": "code",
   "execution_count": 48,
   "id": "c20d2631",
   "metadata": {},
   "outputs": [
    {
     "data": {
      "text/plain": [
       "'Harry * Hermione * Ron'"
      ]
     },
     "execution_count": 48,
     "metadata": {},
     "output_type": "execute_result"
    }
   ],
   "source": [
    "friends = ['Harry', 'Hermione', 'Ron']\n",
    "separator = ' * '\n",
    "joined = separator.join(friends)\n",
    "joined"
   ]
  },
  {
   "cell_type": "code",
   "execution_count": 49,
   "id": "2434ee19",
   "metadata": {},
   "outputs": [
    {
     "data": {
      "text/plain": [
       "['Harry', 'Hermione', 'Ron']"
      ]
     },
     "execution_count": 49,
     "metadata": {},
     "output_type": "execute_result"
    }
   ],
   "source": [
    "separated = joined.split(separator)\n",
    "separated"
   ]
  },
  {
   "cell_type": "code",
   "execution_count": 50,
   "id": "a2722d4f",
   "metadata": {},
   "outputs": [
    {
     "data": {
      "text/plain": [
       "True"
      ]
     },
     "execution_count": 50,
     "metadata": {},
     "output_type": "execute_result"
    }
   ],
   "source": [
    "separated == friends"
   ]
  },
  {
   "cell_type": "code",
   "execution_count": 51,
   "id": "d174a3ac",
   "metadata": {},
   "outputs": [
    {
     "data": {
      "text/plain": [
       "['Chico', 'Groucho', 'Harpo', 'Karl', 'Wanda', 'Zeppo']"
      ]
     },
     "execution_count": 51,
     "metadata": {},
     "output_type": "execute_result"
    }
   ],
   "source": [
    "sorted_marxes = sorted(marxes)\n",
    "sorted_marxes"
   ]
  },
  {
   "cell_type": "code",
   "execution_count": 52,
   "id": "aecdd8f9",
   "metadata": {},
   "outputs": [
    {
     "data": {
      "text/plain": [
       "['Groucho', 'Chico', 'Wanda', 'Harpo', 'Zeppo', 'Karl']"
      ]
     },
     "execution_count": 52,
     "metadata": {},
     "output_type": "execute_result"
    }
   ],
   "source": [
    "marxes"
   ]
  },
  {
   "cell_type": "code",
   "execution_count": 53,
   "id": "c1fb73c3",
   "metadata": {},
   "outputs": [
    {
     "data": {
      "text/plain": [
       "['Chico', 'Groucho', 'Harpo', 'Karl', 'Wanda', 'Zeppo']"
      ]
     },
     "execution_count": 53,
     "metadata": {},
     "output_type": "execute_result"
    }
   ],
   "source": [
    "marxes.sort()\n",
    "marxes"
   ]
  },
  {
   "cell_type": "code",
   "execution_count": 54,
   "id": "d7f84cd0",
   "metadata": {},
   "outputs": [
    {
     "data": {
      "text/plain": [
       "[4.0, 3, 2, 1]"
      ]
     },
     "execution_count": 54,
     "metadata": {},
     "output_type": "execute_result"
    }
   ],
   "source": [
    "numbers = [2,1,4.0,3]\n",
    "numbers.sort(reverse=True)\n",
    "numbers"
   ]
  },
  {
   "cell_type": "code",
   "execution_count": 55,
   "id": "dd923ef9",
   "metadata": {},
   "outputs": [
    {
     "name": "stdout",
     "output_type": "stream",
     "text": [
      "a = [1, 2, 3, 4], b = [1, 2, 3, 4], c = [1, 2, 3, 4], d = [1, 2, 3, 4]\n"
     ]
    }
   ],
   "source": [
    "a = [1,2,3,4]\n",
    "b = a.copy()\n",
    "c = list(a)\n",
    "d = a[:]\n",
    "print(f'a = {a}, b = {b}, c = {c}, d = {d}')"
   ]
  },
  {
   "cell_type": "code",
   "execution_count": 56,
   "id": "780346df",
   "metadata": {},
   "outputs": [
    {
     "name": "stdout",
     "output_type": "stream",
     "text": [
      "a = [1, 2, [8, 9]], b = [1, 2, [8, 9]], c = [1, 2, [8, 9]], d = [1, 2, [8, 9]]\n",
      "a = [1, 2, [8, 10]], b = [1, 2, [8, 10]], c = [1, 2, [8, 10]], d = [1, 2, [8, 10]]\n"
     ]
    }
   ],
   "source": [
    "a = [1, 2, [8, 9]]\n",
    "b = a.copy()\n",
    "c = list(a)\n",
    "d = a[:]\n",
    "print(f'a = {a}, b = {b}, c = {c}, d = {d}')\n",
    "\n",
    "a[2][1] = 10\n",
    "print(f'a = {a}, b = {b}, c = {c}, d = {d}')"
   ]
  },
  {
   "cell_type": "code",
   "execution_count": 58,
   "id": "64490ce2",
   "metadata": {},
   "outputs": [
    {
     "name": "stdout",
     "output_type": "stream",
     "text": [
      "a = [1, 2, [8, 9]], b = [1, 2, [8, 9]]\n",
      "a = [1, 2, [8, 10]], b = [1, 2, [8, 9]]\n"
     ]
    }
   ],
   "source": [
    "import copy\n",
    "a = [1, 2, [8, 9]]\n",
    "b = copy.deepcopy(a)\n",
    "print(f'a = {a}, b = {b}')\n",
    "\n",
    "a[2][1] = 10\n",
    "print(f'a = {a}, b = {b}')"
   ]
  },
  {
   "cell_type": "code",
   "execution_count": 59,
   "id": "94f94fb3",
   "metadata": {},
   "outputs": [
    {
     "data": {
      "text/plain": [
       "False"
      ]
     },
     "execution_count": 59,
     "metadata": {},
     "output_type": "execute_result"
    }
   ],
   "source": [
    "a = [8, 9]\n",
    "b = [1, 2, 3]\n",
    "\n",
    "a == b"
   ]
  },
  {
   "cell_type": "code",
   "execution_count": 60,
   "id": "c9d63969",
   "metadata": {},
   "outputs": [
    {
     "data": {
      "text/plain": [
       "False"
      ]
     },
     "execution_count": 60,
     "metadata": {},
     "output_type": "execute_result"
    }
   ],
   "source": [
    "a < b"
   ]
  },
  {
   "cell_type": "code",
   "execution_count": 61,
   "id": "2efa06c7",
   "metadata": {},
   "outputs": [
    {
     "data": {
      "text/plain": [
       "True"
      ]
     },
     "execution_count": 61,
     "metadata": {},
     "output_type": "execute_result"
    }
   ],
   "source": [
    "a > b"
   ]
  },
  {
   "cell_type": "code",
   "execution_count": 62,
   "id": "c572d4d0",
   "metadata": {},
   "outputs": [
    {
     "name": "stdout",
     "output_type": "stream",
     "text": [
      "Monday : drink coffee - eat banana - enjoy tiramisu\n",
      "Tuesday : drink tea - eat orange - enjoy ice cream\n",
      "Wednesday : drink beer - eat peach - enjoy pie\n"
     ]
    }
   ],
   "source": [
    "days = ['Monday', 'Tuesday', 'Wednesday']\n",
    "fruits = ['banana', 'orange', 'peach']\n",
    "drinks = ['coffee', 'tea', 'beer']\n",
    "desserts = ['tiramisu', 'ice cream', 'pie', 'pudding']\n",
    "for day, fruit, drink, dessert in zip(days, fruits, drinks, desserts):\n",
    "    print(f'{day} : drink {drink} - eat {fruit} - enjoy {dessert}')"
   ]
  },
  {
   "cell_type": "code",
   "execution_count": 63,
   "id": "e4ef4f75",
   "metadata": {},
   "outputs": [
    {
     "data": {
      "text/plain": [
       "[('Monday', 'Lundi'), ('Tuesday', 'Mardi'), ('Wednesday', 'Mercedi')]"
      ]
     },
     "execution_count": 63,
     "metadata": {},
     "output_type": "execute_result"
    }
   ],
   "source": [
    "english = 'Monday', 'Tuesday', 'Wednesday'\n",
    "french = 'Lundi', 'Mardi', 'Mercedi'\n",
    "list(zip(english, french))"
   ]
  },
  {
   "cell_type": "code",
   "execution_count": 64,
   "id": "6e90f31e",
   "metadata": {},
   "outputs": [
    {
     "data": {
      "text/plain": [
       "{'Monday': 'Lundi', 'Tuesday': 'Mardi', 'Wednesday': 'Mercedi'}"
      ]
     },
     "execution_count": 64,
     "metadata": {},
     "output_type": "execute_result"
    }
   ],
   "source": [
    "dict(zip(english, french))"
   ]
  },
  {
   "cell_type": "code",
   "execution_count": 65,
   "id": "b6ddb086",
   "metadata": {},
   "outputs": [
    {
     "data": {
      "text/plain": [
       "[1, 2, 3, 4, 5, 6, 7, 8, 9]"
      ]
     },
     "execution_count": 65,
     "metadata": {},
     "output_type": "execute_result"
    }
   ],
   "source": [
    "number_list = [number for number in range(1, 10)]\n",
    "number_list"
   ]
  },
  {
   "cell_type": "code",
   "execution_count": 66,
   "id": "4747af7a",
   "metadata": {},
   "outputs": [
    {
     "data": {
      "text/plain": [
       "[2, 4, 6, 8, 10, 12, 14, 16, 18, 20]"
      ]
     },
     "execution_count": 66,
     "metadata": {},
     "output_type": "execute_result"
    }
   ],
   "source": [
    "a_list = [number for number in range(1, 21) if number % 2 == 0]\n",
    "a_list"
   ]
  },
  {
   "cell_type": "code",
   "execution_count": 67,
   "id": "2a0b6584",
   "metadata": {},
   "outputs": [
    {
     "name": "stdout",
     "output_type": "stream",
     "text": [
      "1 1\n",
      "1 2\n",
      "2 1\n",
      "2 2\n",
      "3 1\n",
      "3 2\n"
     ]
    }
   ],
   "source": [
    "rows = range(1,4)\n",
    "cols = range(1,3)\n",
    "cells = [(row, col) for row in rows for col in cols]\n",
    "for row, col in cells:\n",
    "    print(row, col)"
   ]
  },
  {
   "cell_type": "code",
   "execution_count": 68,
   "id": "4e12b01b",
   "metadata": {},
   "outputs": [
    {
     "data": {
      "text/plain": [
       "[(1, 1), (1, 2), (2, 1), (2, 2), (3, 1), (3, 2)]"
      ]
     },
     "execution_count": 68,
     "metadata": {},
     "output_type": "execute_result"
    }
   ],
   "source": [
    "cells"
   ]
  },
  {
   "cell_type": "markdown",
   "id": "96ca97a3",
   "metadata": {},
   "source": [
    "## Exercises"
   ]
  },
  {
   "cell_type": "markdown",
   "id": "68f3f2c5",
   "metadata": {},
   "source": [
    "### 7.1"
   ]
  },
  {
   "cell_type": "code",
   "execution_count": 69,
   "id": "563fd493",
   "metadata": {},
   "outputs": [
    {
     "data": {
      "text/plain": [
       "[1979, 1980, 1981, 1982, 1983, 1984]"
      ]
     },
     "execution_count": 69,
     "metadata": {},
     "output_type": "execute_result"
    }
   ],
   "source": [
    "years_list = [year for year in range(1979, 1985)]\n",
    "years_list"
   ]
  },
  {
   "cell_type": "markdown",
   "id": "3fca5446",
   "metadata": {},
   "source": [
    "### 7.2"
   ]
  },
  {
   "cell_type": "code",
   "execution_count": 71,
   "id": "b6b0cefe",
   "metadata": {},
   "outputs": [
    {
     "data": {
      "text/plain": [
       "1982"
      ]
     },
     "execution_count": 71,
     "metadata": {},
     "output_type": "execute_result"
    }
   ],
   "source": [
    "third_birthday = years_list[3]\n",
    "third_birthday"
   ]
  },
  {
   "cell_type": "markdown",
   "id": "0725180f",
   "metadata": {},
   "source": [
    "### 7.3"
   ]
  },
  {
   "cell_type": "code",
   "execution_count": 72,
   "id": "eb676370",
   "metadata": {},
   "outputs": [
    {
     "data": {
      "text/plain": [
       "1984"
      ]
     },
     "execution_count": 72,
     "metadata": {},
     "output_type": "execute_result"
    }
   ],
   "source": [
    "years_list[len(years_list)-1]"
   ]
  },
  {
   "cell_type": "markdown",
   "id": "c91ce8e4",
   "metadata": {},
   "source": [
    "### 7.4"
   ]
  },
  {
   "cell_type": "code",
   "execution_count": 74,
   "id": "acb1ab9d",
   "metadata": {},
   "outputs": [
    {
     "data": {
      "text/plain": [
       "['mozzarella', 'cinderella', 'salmonella']"
      ]
     },
     "execution_count": 74,
     "metadata": {},
     "output_type": "execute_result"
    }
   ],
   "source": [
    "things = [\"mozzarella\", \"cinderella\", \"salmonella\"]\n",
    "things"
   ]
  },
  {
   "cell_type": "markdown",
   "id": "2fe95631",
   "metadata": {},
   "source": [
    "### 7.5"
   ]
  },
  {
   "cell_type": "code",
   "execution_count": 76,
   "id": "e4016c25",
   "metadata": {},
   "outputs": [
    {
     "name": "stdout",
     "output_type": "stream",
     "text": [
      "mozzarella\n",
      "Cinderella\n",
      "salmonella\n"
     ]
    }
   ],
   "source": [
    "things[1] = things[1].capitalize()\n",
    "for thing in things:\n",
    "    print(thing)"
   ]
  },
  {
   "cell_type": "markdown",
   "id": "f08fcdaf",
   "metadata": {},
   "source": [
    "### 7.6"
   ]
  },
  {
   "cell_type": "code",
   "execution_count": 77,
   "id": "f138ae56",
   "metadata": {},
   "outputs": [
    {
     "name": "stdout",
     "output_type": "stream",
     "text": [
      "MOZZARELLA\n",
      "Cinderella\n",
      "salmonella\n"
     ]
    }
   ],
   "source": [
    "things[0] = things[0].upper()\n",
    "for thing in things:\n",
    "    print(thing)"
   ]
  },
  {
   "cell_type": "markdown",
   "id": "24dfe250",
   "metadata": {},
   "source": [
    "### 7.7"
   ]
  },
  {
   "cell_type": "code",
   "execution_count": 78,
   "id": "287488da",
   "metadata": {},
   "outputs": [
    {
     "name": "stdout",
     "output_type": "stream",
     "text": [
      "MOZZARELLA\n",
      "Cinderella\n"
     ]
    }
   ],
   "source": [
    "things.remove('salmonella')\n",
    "for thing in things:\n",
    "    print(thing)"
   ]
  },
  {
   "cell_type": "markdown",
   "id": "24f7aa17",
   "metadata": {},
   "source": [
    "### 7.8"
   ]
  },
  {
   "cell_type": "code",
   "execution_count": 79,
   "id": "28a77755",
   "metadata": {},
   "outputs": [
    {
     "data": {
      "text/plain": [
       "['Groucho', 'Chico', 'Harpo']"
      ]
     },
     "execution_count": 79,
     "metadata": {},
     "output_type": "execute_result"
    }
   ],
   "source": [
    "surprise = ['Groucho', 'Chico', 'Harpo']\n",
    "surprise"
   ]
  },
  {
   "cell_type": "markdown",
   "id": "d1b23383",
   "metadata": {},
   "source": [
    "### 7.9"
   ]
  },
  {
   "cell_type": "code",
   "execution_count": 84,
   "id": "7c2fe516",
   "metadata": {},
   "outputs": [
    {
     "data": {
      "text/plain": [
       "['Groucho', 'Chico', 'Oprah']"
      ]
     },
     "execution_count": 84,
     "metadata": {},
     "output_type": "execute_result"
    }
   ],
   "source": [
    "surprise[-1] = surprise[-1].lower()\n",
    "surprise[-1] = surprise[-1][::-1]\n",
    "surprise[-1] = surprise[-1].capitalize()\n",
    "surprise"
   ]
  },
  {
   "cell_type": "markdown",
   "id": "c93aa3dd",
   "metadata": {},
   "source": [
    "### 7.10"
   ]
  },
  {
   "cell_type": "code",
   "execution_count": 85,
   "id": "76b79f25",
   "metadata": {},
   "outputs": [
    {
     "data": {
      "text/plain": [
       "[0, 2, 4, 6, 8]"
      ]
     },
     "execution_count": 85,
     "metadata": {},
     "output_type": "execute_result"
    }
   ],
   "source": [
    "even = [number for number in range(10) if number % 2 == 0]\n",
    "even"
   ]
  },
  {
   "cell_type": "markdown",
   "id": "c4a1b48b",
   "metadata": {},
   "source": [
    "### 7.11"
   ]
  },
  {
   "cell_type": "code",
   "execution_count": 88,
   "id": "c0136777",
   "metadata": {},
   "outputs": [
    {
     "name": "stdout",
     "output_type": "stream",
     "text": [
      "Fee! Fie! Foe! Flop!\n",
      "Someone better get a mop.\n",
      "Fee! Fie! Foe! Fope!\n",
      "Someone better turn the rope.\n",
      "Fee! Fie! Foe! Fa!\n",
      "Someone better get your ma.\n",
      "Fee! Fie! Foe! Fudge!\n",
      "Someone better call the judge.\n",
      "Fee! Fie! Foe! Fat!\n",
      "Someone better pet the cat.\n",
      "Fee! Fie! Foe! Fog!\n",
      "Someone better walk the dog.\n",
      "Fee! Fie! Foe! Fun!\n",
      "Someone better say we're done.\n"
     ]
    }
   ],
   "source": [
    "start1 = ['fee', 'fie', 'foe']\n",
    "rhymes = [\n",
    "    ('flop', 'get a mop'),\n",
    "    ('fope', 'turn the rope'),\n",
    "    ('fa', 'get your ma'),\n",
    "    ('fudge', 'call the judge'),\n",
    "    ('fat', 'pet the cat'),\n",
    "    ('fog', 'walk the dog'),\n",
    "    ('fun', \"say we're done\")\n",
    "]\n",
    "start2 = \"Someone better\"\n",
    "start1_caps = \" \".join([word.capitalize() + '!' for word in start1])\n",
    "for first, second in rhymes:\n",
    "    print(f'{start1_caps} {first.capitalize()}!')\n",
    "    print(f'{start2} {second}.')"
   ]
  },
  {
   "cell_type": "code",
   "execution_count": null,
   "id": "1de9a0d5",
   "metadata": {},
   "outputs": [],
   "source": []
  }
 ],
 "metadata": {
  "kernelspec": {
   "display_name": "Python 3",
   "language": "python",
   "name": "python3"
  },
  "language_info": {
   "codemirror_mode": {
    "name": "ipython",
    "version": 3
   },
   "file_extension": ".py",
   "mimetype": "text/x-python",
   "name": "python",
   "nbconvert_exporter": "python",
   "pygments_lexer": "ipython3",
   "version": "3.8.8"
  }
 },
 "nbformat": 4,
 "nbformat_minor": 5
}

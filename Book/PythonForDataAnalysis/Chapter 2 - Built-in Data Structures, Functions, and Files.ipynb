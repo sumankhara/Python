{
 "cells": [
  {
   "cell_type": "code",
   "execution_count": 1,
   "id": "d64ad5dc",
   "metadata": {},
   "outputs": [
    {
     "data": {
      "text/plain": [
       "(4, 5, 6)"
      ]
     },
     "execution_count": 1,
     "metadata": {},
     "output_type": "execute_result"
    }
   ],
   "source": [
    "tup = 4, 5, 6\n",
    "tup"
   ]
  },
  {
   "cell_type": "code",
   "execution_count": 2,
   "id": "db4ea79a",
   "metadata": {},
   "outputs": [
    {
     "data": {
      "text/plain": [
       "((4, 5, 6), (7, 8))"
      ]
     },
     "execution_count": 2,
     "metadata": {},
     "output_type": "execute_result"
    }
   ],
   "source": [
    "nested_tup = (4, 5, 6), (7, 8)\n",
    "nested_tup"
   ]
  },
  {
   "cell_type": "code",
   "execution_count": 3,
   "id": "4bc2ebdd",
   "metadata": {},
   "outputs": [
    {
     "data": {
      "text/plain": [
       "(1, 2, 3)"
      ]
     },
     "execution_count": 3,
     "metadata": {},
     "output_type": "execute_result"
    }
   ],
   "source": [
    "tuple([1, 2, 3])"
   ]
  },
  {
   "cell_type": "code",
   "execution_count": 4,
   "id": "963d76a3",
   "metadata": {},
   "outputs": [
    {
     "data": {
      "text/plain": [
       "('s', 't', 'r', 'i', 'n', 'g')"
      ]
     },
     "execution_count": 4,
     "metadata": {},
     "output_type": "execute_result"
    }
   ],
   "source": [
    "tuple('string')"
   ]
  },
  {
   "cell_type": "code",
   "execution_count": 5,
   "id": "31f7af36",
   "metadata": {},
   "outputs": [
    {
     "data": {
      "text/plain": [
       "4"
      ]
     },
     "execution_count": 5,
     "metadata": {},
     "output_type": "execute_result"
    }
   ],
   "source": [
    "tup[0]"
   ]
  },
  {
   "cell_type": "code",
   "execution_count": 6,
   "id": "037e757b",
   "metadata": {},
   "outputs": [],
   "source": [
    "tup = tuple(['foo', [1, 2], True])"
   ]
  },
  {
   "cell_type": "code",
   "execution_count": 7,
   "id": "3868dee2",
   "metadata": {},
   "outputs": [
    {
     "ename": "TypeError",
     "evalue": "'tuple' object does not support item assignment",
     "output_type": "error",
     "traceback": [
      "\u001b[0;31m---------------------------------------------------------------------------\u001b[0m",
      "\u001b[0;31mTypeError\u001b[0m                                 Traceback (most recent call last)",
      "\u001b[0;32m<ipython-input-7-b89d0c4ae599>\u001b[0m in \u001b[0;36m<module>\u001b[0;34m\u001b[0m\n\u001b[0;32m----> 1\u001b[0;31m \u001b[0mtup\u001b[0m\u001b[0;34m[\u001b[0m\u001b[0;36m2\u001b[0m\u001b[0;34m]\u001b[0m \u001b[0;34m=\u001b[0m \u001b[0;32mFalse\u001b[0m\u001b[0;34m\u001b[0m\u001b[0;34m\u001b[0m\u001b[0m\n\u001b[0m",
      "\u001b[0;31mTypeError\u001b[0m: 'tuple' object does not support item assignment"
     ]
    }
   ],
   "source": [
    "tup[2] = False"
   ]
  },
  {
   "cell_type": "code",
   "execution_count": 8,
   "id": "bc7dcc9a",
   "metadata": {},
   "outputs": [],
   "source": [
    "tup[1].append(3)"
   ]
  },
  {
   "cell_type": "code",
   "execution_count": 9,
   "id": "f13af4a7",
   "metadata": {},
   "outputs": [
    {
     "data": {
      "text/plain": [
       "('foo', [1, 2, 3], True)"
      ]
     },
     "execution_count": 9,
     "metadata": {},
     "output_type": "execute_result"
    }
   ],
   "source": [
    "tup"
   ]
  },
  {
   "cell_type": "code",
   "execution_count": 11,
   "id": "3539120c",
   "metadata": {},
   "outputs": [
    {
     "data": {
      "text/plain": [
       "(4, None, 'foo', 6, 0, 'bar')"
      ]
     },
     "execution_count": 11,
     "metadata": {},
     "output_type": "execute_result"
    }
   ],
   "source": [
    "(4, None, 'foo') + (6, 0) + ('bar',)"
   ]
  },
  {
   "cell_type": "code",
   "execution_count": 12,
   "id": "56557ee8",
   "metadata": {},
   "outputs": [
    {
     "data": {
      "text/plain": [
       "('foo',\n",
       " 'bar',\n",
       " 'foo',\n",
       " 'bar',\n",
       " 'foo',\n",
       " 'bar',\n",
       " 'foo',\n",
       " 'bar',\n",
       " 'foo',\n",
       " 'bar',\n",
       " 'foo',\n",
       " 'bar')"
      ]
     },
     "execution_count": 12,
     "metadata": {},
     "output_type": "execute_result"
    }
   ],
   "source": [
    "('foo', 'bar') * 6"
   ]
  },
  {
   "cell_type": "code",
   "execution_count": 13,
   "id": "465e47e4",
   "metadata": {},
   "outputs": [],
   "source": [
    "tup = (4, 5, 6)"
   ]
  },
  {
   "cell_type": "code",
   "execution_count": 14,
   "id": "cd128e6e",
   "metadata": {},
   "outputs": [
    {
     "data": {
      "text/plain": [
       "4"
      ]
     },
     "execution_count": 14,
     "metadata": {},
     "output_type": "execute_result"
    }
   ],
   "source": [
    "a, b, c = tup\n",
    "a"
   ]
  },
  {
   "cell_type": "code",
   "execution_count": 15,
   "id": "c02dcdfc",
   "metadata": {},
   "outputs": [
    {
     "data": {
      "text/plain": [
       "5"
      ]
     },
     "execution_count": 15,
     "metadata": {},
     "output_type": "execute_result"
    }
   ],
   "source": [
    "b"
   ]
  },
  {
   "cell_type": "code",
   "execution_count": 16,
   "id": "bc325cf8",
   "metadata": {},
   "outputs": [],
   "source": [
    "tup = 4, 5, (6, 7)"
   ]
  },
  {
   "cell_type": "code",
   "execution_count": 17,
   "id": "3e9100da",
   "metadata": {},
   "outputs": [
    {
     "data": {
      "text/plain": [
       "(6, 7)"
      ]
     },
     "execution_count": 17,
     "metadata": {},
     "output_type": "execute_result"
    }
   ],
   "source": [
    "a, b, c = tup\n",
    "c"
   ]
  },
  {
   "cell_type": "code",
   "execution_count": 19,
   "id": "7097ba75",
   "metadata": {},
   "outputs": [
    {
     "data": {
      "text/plain": [
       "6"
      ]
     },
     "execution_count": 19,
     "metadata": {},
     "output_type": "execute_result"
    }
   ],
   "source": [
    "a, b, (c, d) = tup\n",
    "c"
   ]
  },
  {
   "cell_type": "code",
   "execution_count": 20,
   "id": "1f5bee54",
   "metadata": {},
   "outputs": [
    {
     "data": {
      "text/plain": [
       "7"
      ]
     },
     "execution_count": 20,
     "metadata": {},
     "output_type": "execute_result"
    }
   ],
   "source": [
    "d"
   ]
  },
  {
   "cell_type": "code",
   "execution_count": 21,
   "id": "db01b42d",
   "metadata": {},
   "outputs": [
    {
     "data": {
      "text/plain": [
       "1"
      ]
     },
     "execution_count": 21,
     "metadata": {},
     "output_type": "execute_result"
    }
   ],
   "source": [
    "a, b = 1, 2\n",
    "a"
   ]
  },
  {
   "cell_type": "code",
   "execution_count": 22,
   "id": "c92130cf",
   "metadata": {},
   "outputs": [
    {
     "data": {
      "text/plain": [
       "2"
      ]
     },
     "execution_count": 22,
     "metadata": {},
     "output_type": "execute_result"
    }
   ],
   "source": [
    "b"
   ]
  },
  {
   "cell_type": "code",
   "execution_count": 23,
   "id": "f8695acd",
   "metadata": {},
   "outputs": [
    {
     "data": {
      "text/plain": [
       "2"
      ]
     },
     "execution_count": 23,
     "metadata": {},
     "output_type": "execute_result"
    }
   ],
   "source": [
    "b, a = a, b\n",
    "a"
   ]
  },
  {
   "cell_type": "code",
   "execution_count": 24,
   "id": "8ad6fd6a",
   "metadata": {},
   "outputs": [
    {
     "data": {
      "text/plain": [
       "1"
      ]
     },
     "execution_count": 24,
     "metadata": {},
     "output_type": "execute_result"
    }
   ],
   "source": [
    "b"
   ]
  },
  {
   "cell_type": "code",
   "execution_count": 25,
   "id": "2f8b4b5b",
   "metadata": {},
   "outputs": [
    {
     "name": "stdout",
     "output_type": "stream",
     "text": [
      "a=1, b=2, c=3\n",
      "a=4, b=5, c=6\n",
      "a=7, b=8, c=9\n"
     ]
    }
   ],
   "source": [
    "seq = [(1, 2, 3), (4, 5, 6), (7, 8, 9)]\n",
    "\n",
    "for a, b, c in seq:\n",
    "    print('a={0}, b={1}, c={2}'.format(a, b, c))"
   ]
  },
  {
   "cell_type": "code",
   "execution_count": 26,
   "id": "7f474775",
   "metadata": {},
   "outputs": [],
   "source": [
    "values = 1,2,3,4,5,6\n",
    "\n",
    "a, b, *rest = values"
   ]
  },
  {
   "cell_type": "code",
   "execution_count": 27,
   "id": "b3c236b2",
   "metadata": {},
   "outputs": [
    {
     "data": {
      "text/plain": [
       "(1, 2)"
      ]
     },
     "execution_count": 27,
     "metadata": {},
     "output_type": "execute_result"
    }
   ],
   "source": [
    "a,b"
   ]
  },
  {
   "cell_type": "code",
   "execution_count": 28,
   "id": "52646435",
   "metadata": {},
   "outputs": [
    {
     "data": {
      "text/plain": [
       "[3, 4, 5, 6]"
      ]
     },
     "execution_count": 28,
     "metadata": {},
     "output_type": "execute_result"
    }
   ],
   "source": [
    "rest"
   ]
  },
  {
   "cell_type": "code",
   "execution_count": 29,
   "id": "aa0dab61",
   "metadata": {},
   "outputs": [
    {
     "data": {
      "text/plain": [
       "4"
      ]
     },
     "execution_count": 29,
     "metadata": {},
     "output_type": "execute_result"
    }
   ],
   "source": [
    "tup = (1, 2, 2, 2, 3, 4, 2)\n",
    "tup.count(2)"
   ]
  },
  {
   "cell_type": "code",
   "execution_count": 30,
   "id": "be72e3bd",
   "metadata": {},
   "outputs": [
    {
     "data": {
      "text/plain": [
       "[2, 3, 7, 9]"
      ]
     },
     "execution_count": 30,
     "metadata": {},
     "output_type": "execute_result"
    }
   ],
   "source": [
    "tup = 2, 3, 7, 9\n",
    "a_list = list(tup)\n",
    "a_list"
   ]
  },
  {
   "cell_type": "code",
   "execution_count": 31,
   "id": "d17eca9a",
   "metadata": {},
   "outputs": [
    {
     "data": {
      "text/plain": [
       "[2, 'peekaboo', 7, 9]"
      ]
     },
     "execution_count": 31,
     "metadata": {},
     "output_type": "execute_result"
    }
   ],
   "source": [
    "a_list[1] = 'peekaboo'\n",
    "a_list"
   ]
  },
  {
   "cell_type": "code",
   "execution_count": 32,
   "id": "aea16df9",
   "metadata": {},
   "outputs": [
    {
     "data": {
      "text/plain": [
       "[0, 1, 2, 3, 4, 5, 6, 7, 8, 9]"
      ]
     },
     "execution_count": 32,
     "metadata": {},
     "output_type": "execute_result"
    }
   ],
   "source": [
    "gen = range(10)\n",
    "list(gen)"
   ]
  },
  {
   "cell_type": "code",
   "execution_count": 33,
   "id": "0d2eefe7",
   "metadata": {},
   "outputs": [
    {
     "data": {
      "text/plain": [
       "[2, 'peekaboo', 7, 9, 'dwarf']"
      ]
     },
     "execution_count": 33,
     "metadata": {},
     "output_type": "execute_result"
    }
   ],
   "source": [
    "a_list.append('dwarf')\n",
    "a_list"
   ]
  },
  {
   "cell_type": "code",
   "execution_count": 34,
   "id": "472e34ab",
   "metadata": {},
   "outputs": [
    {
     "data": {
      "text/plain": [
       "[2, 'red', 'peekaboo', 7, 9, 'dwarf']"
      ]
     },
     "execution_count": 34,
     "metadata": {},
     "output_type": "execute_result"
    }
   ],
   "source": [
    "a_list.insert(1, 'red')\n",
    "a_list"
   ]
  },
  {
   "cell_type": "code",
   "execution_count": 35,
   "id": "4483d7ed",
   "metadata": {},
   "outputs": [
    {
     "data": {
      "text/plain": [
       "'dwarf'"
      ]
     },
     "execution_count": 35,
     "metadata": {},
     "output_type": "execute_result"
    }
   ],
   "source": [
    "a_list.pop()"
   ]
  },
  {
   "cell_type": "code",
   "execution_count": 36,
   "id": "eaa5f0ef",
   "metadata": {},
   "outputs": [
    {
     "data": {
      "text/plain": [
       "[2, 'red', 'peekaboo', 7, 9]"
      ]
     },
     "execution_count": 36,
     "metadata": {},
     "output_type": "execute_result"
    }
   ],
   "source": [
    "a_list"
   ]
  },
  {
   "cell_type": "code",
   "execution_count": 38,
   "id": "1577ef3c",
   "metadata": {},
   "outputs": [
    {
     "data": {
      "text/plain": [
       "[2, 'red', 'peekaboo', 9]"
      ]
     },
     "execution_count": 38,
     "metadata": {},
     "output_type": "execute_result"
    }
   ],
   "source": [
    "a_list.pop(3)\n",
    "a_list"
   ]
  },
  {
   "cell_type": "code",
   "execution_count": 39,
   "id": "f4a73c33",
   "metadata": {},
   "outputs": [],
   "source": [
    "a_list[0] = 'foo'"
   ]
  },
  {
   "cell_type": "code",
   "execution_count": 40,
   "id": "1f771149",
   "metadata": {},
   "outputs": [
    {
     "data": {
      "text/plain": [
       "['foo', 'red', 'peekaboo', 9, 'foo']"
      ]
     },
     "execution_count": 40,
     "metadata": {},
     "output_type": "execute_result"
    }
   ],
   "source": [
    "a_list.append('foo')\n",
    "a_list"
   ]
  },
  {
   "cell_type": "code",
   "execution_count": 41,
   "id": "f83db42e",
   "metadata": {},
   "outputs": [
    {
     "data": {
      "text/plain": [
       "['red', 'peekaboo', 9, 'foo']"
      ]
     },
     "execution_count": 41,
     "metadata": {},
     "output_type": "execute_result"
    }
   ],
   "source": [
    "a_list.remove('foo')\n",
    "a_list"
   ]
  },
  {
   "cell_type": "code",
   "execution_count": 42,
   "id": "495a6b55",
   "metadata": {},
   "outputs": [],
   "source": [
    "a_list[2] = 'dwarf'"
   ]
  },
  {
   "cell_type": "code",
   "execution_count": 43,
   "id": "468995a9",
   "metadata": {},
   "outputs": [
    {
     "data": {
      "text/plain": [
       "True"
      ]
     },
     "execution_count": 43,
     "metadata": {},
     "output_type": "execute_result"
    }
   ],
   "source": [
    "'dwarf' in a_list"
   ]
  },
  {
   "cell_type": "code",
   "execution_count": 44,
   "id": "660f4805",
   "metadata": {},
   "outputs": [
    {
     "data": {
      "text/plain": [
       "[4, None, 'foo', [5, 6], (7, 8, 9), 10]"
      ]
     },
     "execution_count": 44,
     "metadata": {},
     "output_type": "execute_result"
    }
   ],
   "source": [
    "[4, None, 'foo'] + [[5, 6], (7,8,9), 10]"
   ]
  },
  {
   "cell_type": "code",
   "execution_count": 45,
   "id": "c26c80d9",
   "metadata": {},
   "outputs": [
    {
     "data": {
      "text/plain": [
       "[4, None, 'foo', [5, 6], (7, 8, 9), 10]"
      ]
     },
     "execution_count": 45,
     "metadata": {},
     "output_type": "execute_result"
    }
   ],
   "source": [
    "x = [4, None, 'foo']\n",
    "x.extend([[5, 6], (7,8,9), 10])\n",
    "x"
   ]
  },
  {
   "cell_type": "code",
   "execution_count": 46,
   "id": "40f9b7b7",
   "metadata": {},
   "outputs": [
    {
     "data": {
      "text/plain": [
       "[1, 2, 2, 3, 5, 6, 7]"
      ]
     },
     "execution_count": 46,
     "metadata": {},
     "output_type": "execute_result"
    }
   ],
   "source": [
    "a = [7,2,5,1,3,6,2]\n",
    "a.sort()\n",
    "a"
   ]
  },
  {
   "cell_type": "code",
   "execution_count": 47,
   "id": "501d0a93",
   "metadata": {},
   "outputs": [
    {
     "data": {
      "text/plain": [
       "['one', 'two', 'six', 'four', 'three']"
      ]
     },
     "execution_count": 47,
     "metadata": {},
     "output_type": "execute_result"
    }
   ],
   "source": [
    "b = ['one', 'two', 'three', 'four', 'six']\n",
    "b.sort(key=len)\n",
    "b"
   ]
  },
  {
   "cell_type": "code",
   "execution_count": 48,
   "id": "a4ac4587",
   "metadata": {},
   "outputs": [
    {
     "data": {
      "text/plain": [
       "['four', 'one', 'six', 'three', 'two']"
      ]
     },
     "execution_count": 48,
     "metadata": {},
     "output_type": "execute_result"
    }
   ],
   "source": [
    "b.sort()\n",
    "b"
   ]
  },
  {
   "cell_type": "code",
   "execution_count": 50,
   "id": "3fa0a617",
   "metadata": {},
   "outputs": [
    {
     "data": {
      "text/plain": [
       "4"
      ]
     },
     "execution_count": 50,
     "metadata": {},
     "output_type": "execute_result"
    }
   ],
   "source": [
    "import bisect\n",
    "\n",
    "c = [1,2,2,2,3,4,7]\n",
    "\n",
    "bisect.bisect(c, 2)"
   ]
  },
  {
   "cell_type": "code",
   "execution_count": 51,
   "id": "5335cee0",
   "metadata": {},
   "outputs": [
    {
     "data": {
      "text/plain": [
       "6"
      ]
     },
     "execution_count": 51,
     "metadata": {},
     "output_type": "execute_result"
    }
   ],
   "source": [
    "bisect.bisect(c, 5)"
   ]
  },
  {
   "cell_type": "code",
   "execution_count": 52,
   "id": "bd725af6",
   "metadata": {},
   "outputs": [],
   "source": [
    "bisect.insort(c, 6)"
   ]
  },
  {
   "cell_type": "code",
   "execution_count": 53,
   "id": "20ca0d4b",
   "metadata": {},
   "outputs": [
    {
     "data": {
      "text/plain": [
       "[1, 2, 2, 2, 3, 4, 6, 7]"
      ]
     },
     "execution_count": 53,
     "metadata": {},
     "output_type": "execute_result"
    }
   ],
   "source": [
    "c"
   ]
  },
  {
   "cell_type": "code",
   "execution_count": 54,
   "id": "aa7bfb3d",
   "metadata": {},
   "outputs": [
    {
     "data": {
      "text/plain": [
       "[2, 3, 7, 5]"
      ]
     },
     "execution_count": 54,
     "metadata": {},
     "output_type": "execute_result"
    }
   ],
   "source": [
    "seq = [7, 2, 3, 7, 5, 6, 0, 1]\n",
    "\n",
    "seq[1:5]"
   ]
  },
  {
   "cell_type": "code",
   "execution_count": 55,
   "id": "2b1d5784",
   "metadata": {},
   "outputs": [
    {
     "data": {
      "text/plain": [
       "[7, 2, 3, 4, 3, 5, 6, 0, 1]"
      ]
     },
     "execution_count": 55,
     "metadata": {},
     "output_type": "execute_result"
    }
   ],
   "source": [
    "seq[3:4] = [4,3]\n",
    "seq"
   ]
  },
  {
   "cell_type": "code",
   "execution_count": 56,
   "id": "9357619e",
   "metadata": {},
   "outputs": [
    {
     "data": {
      "text/plain": [
       "[0, 1]"
      ]
     },
     "execution_count": 56,
     "metadata": {},
     "output_type": "execute_result"
    }
   ],
   "source": [
    "seq[-2:]"
   ]
  },
  {
   "cell_type": "code",
   "execution_count": 57,
   "id": "839f0767",
   "metadata": {},
   "outputs": [
    {
     "data": {
      "text/plain": [
       "[7, 2, 3, 4, 3, 5, 6, -1, -2, -3]"
      ]
     },
     "execution_count": 57,
     "metadata": {},
     "output_type": "execute_result"
    }
   ],
   "source": [
    "seq[-2:] = [-1,-2,-3]\n",
    "seq"
   ]
  },
  {
   "cell_type": "code",
   "execution_count": 58,
   "id": "57a3784d",
   "metadata": {},
   "outputs": [
    {
     "data": {
      "text/plain": [
       "[3, 5, 6, -1]"
      ]
     },
     "execution_count": 58,
     "metadata": {},
     "output_type": "execute_result"
    }
   ],
   "source": [
    "seq[-6:-2]"
   ]
  },
  {
   "cell_type": "code",
   "execution_count": 59,
   "id": "311a0103",
   "metadata": {},
   "outputs": [
    {
     "data": {
      "text/plain": [
       "[7, 3, 3, 6, -2]"
      ]
     },
     "execution_count": 59,
     "metadata": {},
     "output_type": "execute_result"
    }
   ],
   "source": [
    "seq[::2]"
   ]
  },
  {
   "cell_type": "code",
   "execution_count": 60,
   "id": "11f406ec",
   "metadata": {},
   "outputs": [
    {
     "data": {
      "text/plain": [
       "[-3, -2, -1, 6, 5, 3, 4, 3, 2, 7]"
      ]
     },
     "execution_count": 60,
     "metadata": {},
     "output_type": "execute_result"
    }
   ],
   "source": [
    "seq[::-1]"
   ]
  },
  {
   "cell_type": "code",
   "execution_count": 61,
   "id": "687de557",
   "metadata": {},
   "outputs": [
    {
     "name": "stdout",
     "output_type": "stream",
     "text": [
      "index = 0, value = -3\n",
      "index = 1, value = -2\n",
      "index = 2, value = -1\n",
      "index = 3, value = 6\n",
      "index = 4, value = 5\n",
      "index = 5, value = 3\n",
      "index = 6, value = 4\n",
      "index = 7, value = 3\n",
      "index = 8, value = 2\n",
      "index = 9, value = 7\n"
     ]
    }
   ],
   "source": [
    "collection = [-3, -2, -1, 6, 5, 3, 4, 3, 2, 7]\n",
    "\n",
    "for i, value in enumerate(collection):\n",
    "    print('index = {0}, value = {1}'.format(i, value))"
   ]
  },
  {
   "cell_type": "code",
   "execution_count": 62,
   "id": "4be4a4fe",
   "metadata": {},
   "outputs": [
    {
     "data": {
      "text/plain": [
       "{0: 'foo', 1: 'bar', 2: 'baz'}"
      ]
     },
     "execution_count": 62,
     "metadata": {},
     "output_type": "execute_result"
    }
   ],
   "source": [
    "some_list = ['foo', 'bar', 'baz']\n",
    "mapping = {}\n",
    "\n",
    "for i, value in enumerate(some_list):\n",
    "    mapping[i] = value\n",
    "    \n",
    "mapping"
   ]
  },
  {
   "cell_type": "code",
   "execution_count": 63,
   "id": "fe708495",
   "metadata": {},
   "outputs": [
    {
     "data": {
      "text/plain": [
       "[' ', 'a', 'c', 'e', 'e', 'h', 'o', 'r', 'r', 's']"
      ]
     },
     "execution_count": 63,
     "metadata": {},
     "output_type": "execute_result"
    }
   ],
   "source": [
    "sorted('horse race')"
   ]
  },
  {
   "cell_type": "code",
   "execution_count": 64,
   "id": "d1fe5403",
   "metadata": {},
   "outputs": [
    {
     "data": {
      "text/plain": [
       "[-3, -2, -1, 2, 3, 3, 4, 5, 6, 7]"
      ]
     },
     "execution_count": 64,
     "metadata": {},
     "output_type": "execute_result"
    }
   ],
   "source": [
    "sorted([-3, -2, -1, 6, 5, 3, 4, 3, 2, 7])"
   ]
  },
  {
   "cell_type": "code",
   "execution_count": 66,
   "id": "116ca7f9",
   "metadata": {},
   "outputs": [
    {
     "data": {
      "text/plain": [
       "[('foo', 'one'), ('bar', 'two'), ('baz', 'three')]"
      ]
     },
     "execution_count": 66,
     "metadata": {},
     "output_type": "execute_result"
    }
   ],
   "source": [
    "seq1 = ['foo', 'bar', 'baz']\n",
    "seq2 = ['one', 'two', 'three']\n",
    "\n",
    "zipped = zip(seq1, seq2)\n",
    "list(zipped)"
   ]
  },
  {
   "cell_type": "code",
   "execution_count": 67,
   "id": "3c461c5b",
   "metadata": {},
   "outputs": [
    {
     "data": {
      "text/plain": [
       "[('foo', 'one', True), ('bar', 'two', False)]"
      ]
     },
     "execution_count": 67,
     "metadata": {},
     "output_type": "execute_result"
    }
   ],
   "source": [
    "seq3 = [True, False]\n",
    "\n",
    "list(zip(seq1, seq2, seq3))"
   ]
  },
  {
   "cell_type": "code",
   "execution_count": 68,
   "id": "4312bfee",
   "metadata": {},
   "outputs": [
    {
     "name": "stdout",
     "output_type": "stream",
     "text": [
      "0: foo, one\n",
      "1: bar, two\n",
      "2: baz, three\n"
     ]
    }
   ],
   "source": [
    "for i, (a, b) in enumerate(zip(seq1, seq2)):\n",
    "    print('{0}: {1}, {2}'.format(i, a, b))"
   ]
  },
  {
   "cell_type": "code",
   "execution_count": 69,
   "id": "ba2105c2",
   "metadata": {},
   "outputs": [
    {
     "data": {
      "text/plain": [
       "[9, 8, 7, 6, 5, 4, 3, 2, 1, 0]"
      ]
     },
     "execution_count": 69,
     "metadata": {},
     "output_type": "execute_result"
    }
   ],
   "source": [
    "list(reversed(range(10)))"
   ]
  },
  {
   "cell_type": "code",
   "execution_count": 1,
   "id": "d2b697a5",
   "metadata": {},
   "outputs": [
    {
     "data": {
      "text/plain": [
       "{'a': 'some value', 'b': [1, 2, 3, 4]}"
      ]
     },
     "execution_count": 1,
     "metadata": {},
     "output_type": "execute_result"
    }
   ],
   "source": [
    "d1 = {'a': 'some value', 'b': [1,2,3,4]}\n",
    "d1"
   ]
  },
  {
   "cell_type": "code",
   "execution_count": 2,
   "id": "f5a238d5",
   "metadata": {},
   "outputs": [
    {
     "data": {
      "text/plain": [
       "{'a': 'some value', 'b': [1, 2, 3, 4], 7: 'an integer'}"
      ]
     },
     "execution_count": 2,
     "metadata": {},
     "output_type": "execute_result"
    }
   ],
   "source": [
    "d1[7] = 'an integer'\n",
    "d1"
   ]
  },
  {
   "cell_type": "code",
   "execution_count": 3,
   "id": "e81d29ad",
   "metadata": {},
   "outputs": [
    {
     "data": {
      "text/plain": [
       "[1, 2, 3, 4]"
      ]
     },
     "execution_count": 3,
     "metadata": {},
     "output_type": "execute_result"
    }
   ],
   "source": [
    "d1['b']"
   ]
  },
  {
   "cell_type": "code",
   "execution_count": 4,
   "id": "15162f35",
   "metadata": {},
   "outputs": [
    {
     "data": {
      "text/plain": [
       "True"
      ]
     },
     "execution_count": 4,
     "metadata": {},
     "output_type": "execute_result"
    }
   ],
   "source": [
    "'b' in d1"
   ]
  },
  {
   "cell_type": "code",
   "execution_count": 5,
   "id": "2864d995",
   "metadata": {},
   "outputs": [
    {
     "data": {
      "text/plain": [
       "False"
      ]
     },
     "execution_count": 5,
     "metadata": {},
     "output_type": "execute_result"
    }
   ],
   "source": [
    "'some value' in d1"
   ]
  },
  {
   "cell_type": "code",
   "execution_count": 6,
   "id": "8314bdff",
   "metadata": {},
   "outputs": [],
   "source": [
    "d1[5] = 'some value'\n",
    "d1['dummy'] = 'another value'"
   ]
  },
  {
   "cell_type": "code",
   "execution_count": 7,
   "id": "c2d3ba02",
   "metadata": {},
   "outputs": [
    {
     "data": {
      "text/plain": [
       "{'a': 'some value',\n",
       " 'b': [1, 2, 3, 4],\n",
       " 7: 'an integer',\n",
       " 5: 'some value',\n",
       " 'dummy': 'another value'}"
      ]
     },
     "execution_count": 7,
     "metadata": {},
     "output_type": "execute_result"
    }
   ],
   "source": [
    "d1"
   ]
  },
  {
   "cell_type": "code",
   "execution_count": 8,
   "id": "f40e8988",
   "metadata": {},
   "outputs": [],
   "source": [
    "del d1[5]"
   ]
  },
  {
   "cell_type": "code",
   "execution_count": 9,
   "id": "d622e3d9",
   "metadata": {},
   "outputs": [
    {
     "data": {
      "text/plain": [
       "{'a': 'some value',\n",
       " 'b': [1, 2, 3, 4],\n",
       " 7: 'an integer',\n",
       " 'dummy': 'another value'}"
      ]
     },
     "execution_count": 9,
     "metadata": {},
     "output_type": "execute_result"
    }
   ],
   "source": [
    "d1"
   ]
  },
  {
   "cell_type": "code",
   "execution_count": 10,
   "id": "98c2cf07",
   "metadata": {},
   "outputs": [
    {
     "data": {
      "text/plain": [
       "{'a': 'some value', 'b': [1, 2, 3, 4], 7: 'an integer'}"
      ]
     },
     "execution_count": 10,
     "metadata": {},
     "output_type": "execute_result"
    }
   ],
   "source": [
    "ret = d1.pop('dummy')\n",
    "d1"
   ]
  },
  {
   "cell_type": "code",
   "execution_count": 13,
   "id": "fc3e292c",
   "metadata": {},
   "outputs": [
    {
     "data": {
      "text/plain": [
       "dict_keys(['a', 'b', 7])"
      ]
     },
     "execution_count": 13,
     "metadata": {},
     "output_type": "execute_result"
    }
   ],
   "source": [
    "d1.keys()"
   ]
  },
  {
   "cell_type": "code",
   "execution_count": 14,
   "id": "c9645a2a",
   "metadata": {},
   "outputs": [
    {
     "data": {
      "text/plain": [
       "dict_values(['some value', [1, 2, 3, 4], 'an integer'])"
      ]
     },
     "execution_count": 14,
     "metadata": {},
     "output_type": "execute_result"
    }
   ],
   "source": [
    "d1.values()"
   ]
  },
  {
   "cell_type": "code",
   "execution_count": 15,
   "id": "0b4c4095",
   "metadata": {},
   "outputs": [
    {
     "data": {
      "text/plain": [
       "{'a': 'some value', 'b': 'foo', 7: 'an integer', 'c': 12}"
      ]
     },
     "execution_count": 15,
     "metadata": {},
     "output_type": "execute_result"
    }
   ],
   "source": [
    "d1.update({'b': 'foo', 'c': 12})\n",
    "d1"
   ]
  },
  {
   "cell_type": "code",
   "execution_count": 17,
   "id": "6573632f",
   "metadata": {},
   "outputs": [
    {
     "data": {
      "text/plain": [
       "{1: 'foo', 2: 'bar', 3: 'baz'}"
      ]
     },
     "execution_count": 17,
     "metadata": {},
     "output_type": "execute_result"
    }
   ],
   "source": [
    "key_list = [1,2,3]\n",
    "value_list = ['foo', 'bar', 'baz']\n",
    "mapping = {}\n",
    "for key, val in zip(key_list, value_list):\n",
    "    mapping[key] = val\n",
    "\n",
    "mapping"
   ]
  },
  {
   "cell_type": "code",
   "execution_count": 19,
   "id": "87d72c2d",
   "metadata": {},
   "outputs": [
    {
     "data": {
      "text/plain": [
       "{0: 4, 1: 3, 2: 2, 3: 1, 4: 0}"
      ]
     },
     "execution_count": 19,
     "metadata": {},
     "output_type": "execute_result"
    }
   ],
   "source": [
    "dict(zip(range(5), reversed(range(5))))"
   ]
  },
  {
   "cell_type": "code",
   "execution_count": 20,
   "id": "4412c6f5",
   "metadata": {},
   "outputs": [
    {
     "data": {
      "text/plain": [
       "14"
      ]
     },
     "execution_count": 20,
     "metadata": {},
     "output_type": "execute_result"
    }
   ],
   "source": [
    "value = d1.get('d', 14)\n",
    "value"
   ]
  },
  {
   "cell_type": "code",
   "execution_count": 21,
   "id": "59f3e15c",
   "metadata": {},
   "outputs": [
    {
     "data": {
      "text/plain": [
       "{'a': ['apple', 'atom'], 'b': ['bat', 'bar', 'book']}"
      ]
     },
     "execution_count": 21,
     "metadata": {},
     "output_type": "execute_result"
    }
   ],
   "source": [
    "words = ['apple', 'bat', 'bar', 'atom', 'book']\n",
    "by_letter = {}\n",
    "for word in words:\n",
    "    letter = word[0]\n",
    "    if letter not in by_letter:\n",
    "        by_letter[letter] = [word]\n",
    "    else:\n",
    "        by_letter[letter].append(word)\n",
    "\n",
    "by_letter"
   ]
  },
  {
   "cell_type": "code",
   "execution_count": 22,
   "id": "d74932ca",
   "metadata": {},
   "outputs": [
    {
     "data": {
      "text/plain": [
       "{'a': ['apple', 'atom'], 'b': ['bat', 'bar', 'book']}"
      ]
     },
     "execution_count": 22,
     "metadata": {},
     "output_type": "execute_result"
    }
   ],
   "source": [
    "by_letter = {}\n",
    "for word in words:\n",
    "    letter = word[0]\n",
    "    by_letter.setdefault(letter, []).append(word)\n",
    "\n",
    "by_letter"
   ]
  },
  {
   "cell_type": "code",
   "execution_count": 23,
   "id": "1b2e103b",
   "metadata": {},
   "outputs": [
    {
     "data": {
      "text/plain": [
       "defaultdict(list, {'a': ['apple', 'atom'], 'b': ['bat', 'bar', 'book']})"
      ]
     },
     "execution_count": 23,
     "metadata": {},
     "output_type": "execute_result"
    }
   ],
   "source": [
    "from collections import defaultdict\n",
    "by_letter = defaultdict(list)\n",
    "for word in words:\n",
    "    by_letter[word[0]].append(word)\n",
    "by_letter"
   ]
  },
  {
   "cell_type": "code",
   "execution_count": 24,
   "id": "4e6fff62",
   "metadata": {},
   "outputs": [
    {
     "data": {
      "text/plain": [
       "-1017332317935045291"
      ]
     },
     "execution_count": 24,
     "metadata": {},
     "output_type": "execute_result"
    }
   ],
   "source": [
    "hash('string')"
   ]
  },
  {
   "cell_type": "code",
   "execution_count": 25,
   "id": "24405be3",
   "metadata": {},
   "outputs": [
    {
     "data": {
      "text/plain": [
       "-3550055125485641917"
      ]
     },
     "execution_count": 25,
     "metadata": {},
     "output_type": "execute_result"
    }
   ],
   "source": [
    "hash((1,2))"
   ]
  },
  {
   "cell_type": "code",
   "execution_count": 26,
   "id": "e7c5ab1b",
   "metadata": {},
   "outputs": [
    {
     "ename": "TypeError",
     "evalue": "unhashable type: 'list'",
     "output_type": "error",
     "traceback": [
      "\u001b[0;31m---------------------------------------------------------------------------\u001b[0m",
      "\u001b[0;31mTypeError\u001b[0m                                 Traceback (most recent call last)",
      "\u001b[0;32m<ipython-input-26-dd007155ffdc>\u001b[0m in \u001b[0;36m<module>\u001b[0;34m\u001b[0m\n\u001b[0;32m----> 1\u001b[0;31m \u001b[0mhash\u001b[0m\u001b[0;34m(\u001b[0m\u001b[0;34m(\u001b[0m\u001b[0;36m1\u001b[0m\u001b[0;34m,\u001b[0m\u001b[0;36m2\u001b[0m\u001b[0;34m,\u001b[0m\u001b[0;34m[\u001b[0m\u001b[0;36m3\u001b[0m\u001b[0;34m,\u001b[0m\u001b[0;36m4\u001b[0m\u001b[0;34m]\u001b[0m\u001b[0;34m)\u001b[0m\u001b[0;34m)\u001b[0m\u001b[0;34m\u001b[0m\u001b[0;34m\u001b[0m\u001b[0m\n\u001b[0m",
      "\u001b[0;31mTypeError\u001b[0m: unhashable type: 'list'"
     ]
    }
   ],
   "source": [
    "hash((1,2,[3,4]))"
   ]
  },
  {
   "cell_type": "code",
   "execution_count": 27,
   "id": "7502f766",
   "metadata": {},
   "outputs": [
    {
     "data": {
      "text/plain": [
       "{(1, 2, 3): 5}"
      ]
     },
     "execution_count": 27,
     "metadata": {},
     "output_type": "execute_result"
    }
   ],
   "source": [
    "d = {}\n",
    "d[tuple([1,2,3])] = 5\n",
    "d"
   ]
  },
  {
   "cell_type": "code",
   "execution_count": 28,
   "id": "781dfdd7",
   "metadata": {},
   "outputs": [
    {
     "data": {
      "text/plain": [
       "{1, 2, 3, 4, 5, 6, 7, 8}"
      ]
     },
     "execution_count": 28,
     "metadata": {},
     "output_type": "execute_result"
    }
   ],
   "source": [
    "set([1,2,2,2,3,4,4,5,6,6,7,8,8,8,8])"
   ]
  },
  {
   "cell_type": "code",
   "execution_count": 29,
   "id": "a607195b",
   "metadata": {},
   "outputs": [
    {
     "data": {
      "text/plain": [
       "{1, 2, 3, 4, 5, 6, 7, 8}"
      ]
     },
     "execution_count": 29,
     "metadata": {},
     "output_type": "execute_result"
    }
   ],
   "source": [
    "{1,2,2,2,3,4,4,5,6,6,7,8,8,8,8}"
   ]
  },
  {
   "cell_type": "code",
   "execution_count": 30,
   "id": "648b01e2",
   "metadata": {},
   "outputs": [
    {
     "data": {
      "text/plain": [
       "{1, 2, 3, 4, 5, 6, 7, 8}"
      ]
     },
     "execution_count": 30,
     "metadata": {},
     "output_type": "execute_result"
    }
   ],
   "source": [
    "a = {1,2,3,4,5,6}\n",
    "b = {3,4,5,6,7,8}\n",
    "\n",
    "a.union(b)"
   ]
  },
  {
   "cell_type": "code",
   "execution_count": 31,
   "id": "b2482b41",
   "metadata": {},
   "outputs": [
    {
     "data": {
      "text/plain": [
       "{1, 2, 3, 4, 5, 6, 7, 8}"
      ]
     },
     "execution_count": 31,
     "metadata": {},
     "output_type": "execute_result"
    }
   ],
   "source": [
    "a | b"
   ]
  },
  {
   "cell_type": "code",
   "execution_count": 32,
   "id": "26b7da0f",
   "metadata": {},
   "outputs": [
    {
     "data": {
      "text/plain": [
       "{3, 4, 5, 6}"
      ]
     },
     "execution_count": 32,
     "metadata": {},
     "output_type": "execute_result"
    }
   ],
   "source": [
    "a.intersection(b)"
   ]
  },
  {
   "cell_type": "code",
   "execution_count": 33,
   "id": "c5a237a1",
   "metadata": {},
   "outputs": [
    {
     "data": {
      "text/plain": [
       "{3, 4, 5, 6}"
      ]
     },
     "execution_count": 33,
     "metadata": {},
     "output_type": "execute_result"
    }
   ],
   "source": [
    "a & b"
   ]
  },
  {
   "cell_type": "code",
   "execution_count": 34,
   "id": "1d28da78",
   "metadata": {},
   "outputs": [
    {
     "data": {
      "text/plain": [
       "{1, 2}"
      ]
     },
     "execution_count": 34,
     "metadata": {},
     "output_type": "execute_result"
    }
   ],
   "source": [
    "a.difference(b)"
   ]
  },
  {
   "cell_type": "code",
   "execution_count": 35,
   "id": "d2cf962e",
   "metadata": {},
   "outputs": [
    {
     "data": {
      "text/plain": [
       "{1, 2, 7, 8}"
      ]
     },
     "execution_count": 35,
     "metadata": {},
     "output_type": "execute_result"
    }
   ],
   "source": [
    "a.symmetric_difference(b)"
   ]
  },
  {
   "cell_type": "code",
   "execution_count": 36,
   "id": "83c5411a",
   "metadata": {},
   "outputs": [],
   "source": [
    "c = a.copy()"
   ]
  },
  {
   "cell_type": "code",
   "execution_count": 37,
   "id": "cdb2032c",
   "metadata": {},
   "outputs": [
    {
     "data": {
      "text/plain": [
       "{1, 2, 3, 4, 5, 6, 7, 8}"
      ]
     },
     "execution_count": 37,
     "metadata": {},
     "output_type": "execute_result"
    }
   ],
   "source": [
    "c.update(b)\n",
    "c"
   ]
  },
  {
   "cell_type": "code",
   "execution_count": 38,
   "id": "67b266b1",
   "metadata": {},
   "outputs": [],
   "source": [
    "c.intersection_update(b)"
   ]
  },
  {
   "cell_type": "code",
   "execution_count": 39,
   "id": "48ea28fd",
   "metadata": {},
   "outputs": [
    {
     "data": {
      "text/plain": [
       "{3, 4, 5, 6, 7, 8}"
      ]
     },
     "execution_count": 39,
     "metadata": {},
     "output_type": "execute_result"
    }
   ],
   "source": [
    "c"
   ]
  },
  {
   "cell_type": "code",
   "execution_count": 40,
   "id": "76bda345",
   "metadata": {},
   "outputs": [
    {
     "data": {
      "text/plain": [
       "True"
      ]
     },
     "execution_count": 40,
     "metadata": {},
     "output_type": "execute_result"
    }
   ],
   "source": [
    "c.issubset(b)"
   ]
  },
  {
   "cell_type": "code",
   "execution_count": 41,
   "id": "66bcdb72",
   "metadata": {},
   "outputs": [
    {
     "data": {
      "text/plain": [
       "True"
      ]
     },
     "execution_count": 41,
     "metadata": {},
     "output_type": "execute_result"
    }
   ],
   "source": [
    "c.issuperset(b)"
   ]
  },
  {
   "cell_type": "code",
   "execution_count": 44,
   "id": "ff818dfb",
   "metadata": {},
   "outputs": [
    {
     "data": {
      "text/plain": [
       "{(1, 2, 3, 4)}"
      ]
     },
     "execution_count": 44,
     "metadata": {},
     "output_type": "execute_result"
    }
   ],
   "source": [
    "my_list = [1,2,3,4]\n",
    "my_set = {tuple(my_list)}\n",
    "my_set"
   ]
  },
  {
   "cell_type": "code",
   "execution_count": 45,
   "id": "41b117d8",
   "metadata": {},
   "outputs": [
    {
     "data": {
      "text/plain": [
       "True"
      ]
     },
     "execution_count": 45,
     "metadata": {},
     "output_type": "execute_result"
    }
   ],
   "source": [
    "{1,2,3} == {1,2,3}"
   ]
  },
  {
   "cell_type": "code",
   "execution_count": 46,
   "id": "8efc05dd",
   "metadata": {},
   "outputs": [
    {
     "data": {
      "text/plain": [
       "['BAT', 'CAR', 'DOVE', 'PYTHON']"
      ]
     },
     "execution_count": 46,
     "metadata": {},
     "output_type": "execute_result"
    }
   ],
   "source": [
    "strings = ['a', 'as', 'bat', 'car', 'dove', 'python']\n",
    "[x.upper() for x in strings if len(x) > 2] "
   ]
  },
  {
   "cell_type": "code",
   "execution_count": 47,
   "id": "3b3b9763",
   "metadata": {},
   "outputs": [
    {
     "data": {
      "text/plain": [
       "{1, 2, 3, 4, 6}"
      ]
     },
     "execution_count": 47,
     "metadata": {},
     "output_type": "execute_result"
    }
   ],
   "source": [
    "unique_lengths = {len(x) for x in strings}\n",
    "unique_lengths"
   ]
  },
  {
   "cell_type": "code",
   "execution_count": 48,
   "id": "b2b2bf26",
   "metadata": {},
   "outputs": [
    {
     "data": {
      "text/plain": [
       "{1, 2, 3, 4, 6}"
      ]
     },
     "execution_count": 48,
     "metadata": {},
     "output_type": "execute_result"
    }
   ],
   "source": [
    "set(map(len, strings))"
   ]
  },
  {
   "cell_type": "code",
   "execution_count": 49,
   "id": "633f08c7",
   "metadata": {},
   "outputs": [
    {
     "data": {
      "text/plain": [
       "{'a': 0, 'as': 1, 'bat': 2, 'car': 3, 'dove': 4, 'python': 5}"
      ]
     },
     "execution_count": 49,
     "metadata": {},
     "output_type": "execute_result"
    }
   ],
   "source": [
    "loc_mapping = {value: index for index, value in enumerate(strings)}\n",
    "loc_mapping"
   ]
  },
  {
   "cell_type": "code",
   "execution_count": 50,
   "id": "978051ea",
   "metadata": {},
   "outputs": [
    {
     "data": {
      "text/plain": [
       "['Steven']"
      ]
     },
     "execution_count": 50,
     "metadata": {},
     "output_type": "execute_result"
    }
   ],
   "source": [
    "all_data = [['John', 'Emily', 'Michael', 'Mary', 'Steven'],['Maria', 'Juan', 'Javier', 'Natalia', 'Pilar']]\n",
    "names_of_interest = []\n",
    "for names in all_data:\n",
    "    enough_es = [name for name in names if name.count('e') >=2]\n",
    "    names_of_interest.extend(enough_es)\n",
    "names_of_interest"
   ]
  },
  {
   "cell_type": "code",
   "execution_count": 51,
   "id": "f5467709",
   "metadata": {},
   "outputs": [
    {
     "data": {
      "text/plain": [
       "['Steven']"
      ]
     },
     "execution_count": 51,
     "metadata": {},
     "output_type": "execute_result"
    }
   ],
   "source": [
    "result = [name for names in all_data for name in names if name.count('e') >=2]\n",
    "result"
   ]
  },
  {
   "cell_type": "code",
   "execution_count": 52,
   "id": "07281cce",
   "metadata": {},
   "outputs": [
    {
     "data": {
      "text/plain": [
       "[1, 2, 3, 4, 5, 6, 7, 8, 9]"
      ]
     },
     "execution_count": 52,
     "metadata": {},
     "output_type": "execute_result"
    }
   ],
   "source": [
    "some_tuples = [(1, 2, 3), (4, 5, 6), (7, 8, 9)]\n",
    "flattened = []\n",
    "for tup in some_tuples:\n",
    "    for x in tup:\n",
    "        flattened.append(x)\n",
    "flattened"
   ]
  },
  {
   "cell_type": "code",
   "execution_count": 53,
   "id": "21011212",
   "metadata": {},
   "outputs": [
    {
     "data": {
      "text/plain": [
       "[1, 2, 3, 4, 5, 6, 7, 8, 9]"
      ]
     },
     "execution_count": 53,
     "metadata": {},
     "output_type": "execute_result"
    }
   ],
   "source": [
    "flattened = []\n",
    "flattened = [x for tup in some_tuples for x in tup]\n",
    "flattened"
   ]
  },
  {
   "cell_type": "code",
   "execution_count": 54,
   "id": "048bba0f",
   "metadata": {},
   "outputs": [
    {
     "name": "stdout",
     "output_type": "stream",
     "text": [
      "(1, 2, 3)\n",
      "(4, 5, 6)\n",
      "(7, 8, 9)\n"
     ]
    }
   ],
   "source": [
    "for tup in some_tuples:\n",
    "    print(tup)"
   ]
  },
  {
   "cell_type": "code",
   "execution_count": 1,
   "id": "971e4325",
   "metadata": {},
   "outputs": [],
   "source": [
    "def my_function(x, y, z=1.5):\n",
    "    if z > 1:\n",
    "        return z * (x + y)\n",
    "    else:\n",
    "        return z / (x + y)"
   ]
  },
  {
   "cell_type": "code",
   "execution_count": 2,
   "id": "7191d8f1",
   "metadata": {},
   "outputs": [
    {
     "data": {
      "text/plain": [
       "0.06363636363636363"
      ]
     },
     "execution_count": 2,
     "metadata": {},
     "output_type": "execute_result"
    }
   ],
   "source": [
    "my_function(5, 6, z=0.7)"
   ]
  },
  {
   "cell_type": "code",
   "execution_count": 3,
   "id": "77c81a71",
   "metadata": {},
   "outputs": [
    {
     "data": {
      "text/plain": [
       "45.0"
      ]
     },
     "execution_count": 3,
     "metadata": {},
     "output_type": "execute_result"
    }
   ],
   "source": [
    "my_function(10, 20)"
   ]
  },
  {
   "cell_type": "code",
   "execution_count": 4,
   "id": "0cf883aa",
   "metadata": {},
   "outputs": [
    {
     "data": {
      "text/plain": [
       "36.504000000000005"
      ]
     },
     "execution_count": 4,
     "metadata": {},
     "output_type": "execute_result"
    }
   ],
   "source": [
    "my_function(3.14, 7, 3.6)"
   ]
  },
  {
   "cell_type": "code",
   "execution_count": 5,
   "id": "edfb8a59",
   "metadata": {},
   "outputs": [
    {
     "data": {
      "text/plain": [
       "45"
      ]
     },
     "execution_count": 5,
     "metadata": {},
     "output_type": "execute_result"
    }
   ],
   "source": [
    "my_function(y=6, z=5, x=3)"
   ]
  },
  {
   "cell_type": "code",
   "execution_count": 6,
   "id": "a9d785c9",
   "metadata": {},
   "outputs": [
    {
     "data": {
      "text/plain": [
       "[0, 1, 2, 3, 4]"
      ]
     },
     "execution_count": 6,
     "metadata": {},
     "output_type": "execute_result"
    }
   ],
   "source": [
    "a = []\n",
    "def func():\n",
    "    for i in range(5):\n",
    "        a.append(i)\n",
    "        \n",
    "func()\n",
    "a"
   ]
  },
  {
   "cell_type": "code",
   "execution_count": 7,
   "id": "225d1311",
   "metadata": {},
   "outputs": [
    {
     "data": {
      "text/plain": [
       "[0, 1, 2, 3, 4, 0, 1, 2, 3, 4]"
      ]
     },
     "execution_count": 7,
     "metadata": {},
     "output_type": "execute_result"
    }
   ],
   "source": [
    "func()\n",
    "a"
   ]
  },
  {
   "cell_type": "code",
   "execution_count": 8,
   "id": "cd73eb34",
   "metadata": {},
   "outputs": [
    {
     "name": "stdout",
     "output_type": "stream",
     "text": [
      "a = 5, b = 6, c = 7\n"
     ]
    }
   ],
   "source": [
    "def f():\n",
    "    a = 5\n",
    "    b = 6\n",
    "    c = 7\n",
    "    return a, b, c\n",
    "\n",
    "a, b, c = f()\n",
    "print('a = {0}, b = {1}, c = {2}'.format(a, b, c))"
   ]
  },
  {
   "cell_type": "code",
   "execution_count": 9,
   "id": "be8d9390",
   "metadata": {},
   "outputs": [],
   "source": [
    "return_value = f()"
   ]
  },
  {
   "cell_type": "code",
   "execution_count": 10,
   "id": "ecc2d190",
   "metadata": {},
   "outputs": [
    {
     "data": {
      "text/plain": [
       "(5, 6, 7)"
      ]
     },
     "execution_count": 10,
     "metadata": {},
     "output_type": "execute_result"
    }
   ],
   "source": [
    "return_value"
   ]
  },
  {
   "cell_type": "code",
   "execution_count": 11,
   "id": "a27b4fb9",
   "metadata": {},
   "outputs": [],
   "source": [
    "states = ['   Alabama ', 'Georgia!', 'Georgia', 'georgia', 'FlOrIda', 'south   carolina##', 'West virginia?']"
   ]
  },
  {
   "cell_type": "code",
   "execution_count": 12,
   "id": "d03f94b2",
   "metadata": {},
   "outputs": [
    {
     "data": {
      "text/plain": [
       "['Alabama',\n",
       " 'Georgia',\n",
       " 'Georgia',\n",
       " 'Georgia',\n",
       " 'Florida',\n",
       " 'South   Carolina',\n",
       " 'West Virginia']"
      ]
     },
     "execution_count": 12,
     "metadata": {},
     "output_type": "execute_result"
    }
   ],
   "source": [
    "import re\n",
    "\n",
    "def clean_strings(strings):\n",
    "    result = []\n",
    "    for value in strings:\n",
    "        value = value.strip()\n",
    "        value = re.sub('[!#?]', '', value)\n",
    "        value = value.title()\n",
    "        result.append(value)\n",
    "    return result\n",
    "\n",
    "clean_strings(states)"
   ]
  },
  {
   "cell_type": "code",
   "execution_count": 14,
   "id": "63a9df0b",
   "metadata": {},
   "outputs": [
    {
     "data": {
      "text/plain": [
       "['Alabama',\n",
       " 'Georgia',\n",
       " 'Georgia',\n",
       " 'Georgia',\n",
       " 'Florida',\n",
       " 'South   Carolina',\n",
       " 'West Virginia']"
      ]
     },
     "execution_count": 14,
     "metadata": {},
     "output_type": "execute_result"
    }
   ],
   "source": [
    "def remove_punctuation(value):\n",
    "    return re.sub('[!#?]', '', value)\n",
    "\n",
    "clean_ops = [str.strip, remove_punctuation, str.title]\n",
    "\n",
    "def new_clean_strings(strings, ops):\n",
    "    result = []\n",
    "    for value in strings:\n",
    "        for function in ops:\n",
    "            value = function(value)\n",
    "        result.append(value)\n",
    "    return result\n",
    "\n",
    "new_clean_strings(states, clean_ops)"
   ]
  },
  {
   "cell_type": "code",
   "execution_count": 15,
   "id": "fde1a61c",
   "metadata": {},
   "outputs": [
    {
     "name": "stdout",
     "output_type": "stream",
     "text": [
      "   Alabama \n",
      "Georgia\n",
      "Georgia\n",
      "georgia\n",
      "FlOrIda\n",
      "south   carolina\n",
      "West virginia\n"
     ]
    }
   ],
   "source": [
    "for x in map(remove_punctuation, states):\n",
    "    print(x)"
   ]
  },
  {
   "cell_type": "code",
   "execution_count": 16,
   "id": "1517b453",
   "metadata": {},
   "outputs": [
    {
     "data": {
      "text/plain": [
       "[2, 4, 6, 8, 10]"
      ]
     },
     "execution_count": 16,
     "metadata": {},
     "output_type": "execute_result"
    }
   ],
   "source": [
    "def apply_to_list(some_list, f):\n",
    "    return [f(x) for x in some_list]\n",
    "\n",
    "ints = [1, 2, 3, 4, 5]\n",
    "apply_to_list(ints, lambda x: x * 2)"
   ]
  },
  {
   "cell_type": "code",
   "execution_count": 17,
   "id": "7ae39039",
   "metadata": {},
   "outputs": [
    {
     "data": {
      "text/plain": [
       "['aaaa', 'foo', 'abab', 'bar', 'card']"
      ]
     },
     "execution_count": 17,
     "metadata": {},
     "output_type": "execute_result"
    }
   ],
   "source": [
    "strings = ['foo', 'card', 'bar', 'aaaa', 'abab']\n",
    "strings.sort(key=lambda x: len(set(list(x))))\n",
    "strings"
   ]
  },
  {
   "cell_type": "code",
   "execution_count": 18,
   "id": "cd62a07b",
   "metadata": {},
   "outputs": [
    {
     "data": {
      "text/plain": [
       "15"
      ]
     },
     "execution_count": 18,
     "metadata": {},
     "output_type": "execute_result"
    }
   ],
   "source": [
    "def add_numbers(x, y):\n",
    "    return (x + y)\n",
    "\n",
    "add_five = lambda y: add_numbers(5, y)\n",
    "\n",
    "add_five(10)"
   ]
  },
  {
   "cell_type": "code",
   "execution_count": 4,
   "id": "d180099e",
   "metadata": {},
   "outputs": [
    {
     "data": {
      "text/plain": [
       "1.2345"
      ]
     },
     "execution_count": 4,
     "metadata": {},
     "output_type": "execute_result"
    }
   ],
   "source": [
    "def attempt_float(x):\n",
    "    try:\n",
    "        return float(x)\n",
    "    except ValueError:\n",
    "        return x\n",
    "\n",
    "attempt_float('1.2345')"
   ]
  },
  {
   "cell_type": "code",
   "execution_count": 3,
   "id": "6b80dcaa",
   "metadata": {},
   "outputs": [
    {
     "data": {
      "text/plain": [
       "'something'"
      ]
     },
     "execution_count": 3,
     "metadata": {},
     "output_type": "execute_result"
    }
   ],
   "source": [
    "attempt_float('something')"
   ]
  },
  {
   "cell_type": "code",
   "execution_count": 5,
   "id": "91102a1c",
   "metadata": {},
   "outputs": [
    {
     "ename": "TypeError",
     "evalue": "float() argument must be a string or a number, not 'tuple'",
     "output_type": "error",
     "traceback": [
      "\u001b[0;31m---------------------------------------------------------------------------\u001b[0m",
      "\u001b[0;31mTypeError\u001b[0m                                 Traceback (most recent call last)",
      "\u001b[0;32m<ipython-input-5-102527222085>\u001b[0m in \u001b[0;36m<module>\u001b[0;34m\u001b[0m\n\u001b[0;32m----> 1\u001b[0;31m \u001b[0mattempt_float\u001b[0m\u001b[0;34m(\u001b[0m\u001b[0;34m(\u001b[0m\u001b[0;36m1\u001b[0m\u001b[0;34m,\u001b[0m\u001b[0;36m2\u001b[0m\u001b[0;34m)\u001b[0m\u001b[0;34m)\u001b[0m\u001b[0;34m\u001b[0m\u001b[0;34m\u001b[0m\u001b[0m\n\u001b[0m",
      "\u001b[0;32m<ipython-input-4-218879aaa70c>\u001b[0m in \u001b[0;36mattempt_float\u001b[0;34m(x)\u001b[0m\n\u001b[1;32m      1\u001b[0m \u001b[0;32mdef\u001b[0m \u001b[0mattempt_float\u001b[0m\u001b[0;34m(\u001b[0m\u001b[0mx\u001b[0m\u001b[0;34m)\u001b[0m\u001b[0;34m:\u001b[0m\u001b[0;34m\u001b[0m\u001b[0;34m\u001b[0m\u001b[0m\n\u001b[1;32m      2\u001b[0m     \u001b[0;32mtry\u001b[0m\u001b[0;34m:\u001b[0m\u001b[0;34m\u001b[0m\u001b[0;34m\u001b[0m\u001b[0m\n\u001b[0;32m----> 3\u001b[0;31m         \u001b[0;32mreturn\u001b[0m \u001b[0mfloat\u001b[0m\u001b[0;34m(\u001b[0m\u001b[0mx\u001b[0m\u001b[0;34m)\u001b[0m\u001b[0;34m\u001b[0m\u001b[0;34m\u001b[0m\u001b[0m\n\u001b[0m\u001b[1;32m      4\u001b[0m     \u001b[0;32mexcept\u001b[0m \u001b[0mValueError\u001b[0m\u001b[0;34m:\u001b[0m\u001b[0;34m\u001b[0m\u001b[0;34m\u001b[0m\u001b[0m\n\u001b[1;32m      5\u001b[0m         \u001b[0;32mreturn\u001b[0m \u001b[0mx\u001b[0m\u001b[0;34m\u001b[0m\u001b[0;34m\u001b[0m\u001b[0m\n",
      "\u001b[0;31mTypeError\u001b[0m: float() argument must be a string or a number, not 'tuple'"
     ]
    }
   ],
   "source": [
    "attempt_float((1,2))"
   ]
  },
  {
   "cell_type": "code",
   "execution_count": 6,
   "id": "5fa12542",
   "metadata": {},
   "outputs": [],
   "source": [
    "path = 'alice.txt'\n",
    "\n",
    "f = open(path)"
   ]
  },
  {
   "cell_type": "code",
   "execution_count": 7,
   "id": "b5c6245e",
   "metadata": {},
   "outputs": [],
   "source": [
    "lines = [x.rstrip() for x in f]"
   ]
  },
  {
   "cell_type": "code",
   "execution_count": 8,
   "id": "b958b58c",
   "metadata": {},
   "outputs": [
    {
     "data": {
      "text/plain": [
       "['The Project Gutenberg eBook of Alice’s Adventures in Wonderland, by Lewis Carroll',\n",
       " '',\n",
       " 'This eBook is for the use of anyone anywhere in the United States and',\n",
       " 'most other parts of the world at no cost and with almost no restrictions',\n",
       " 'whatsoever. You may copy it, give it away or re-use it under the terms',\n",
       " 'of the Project Gutenberg License included with this eBook or online at',\n",
       " 'www.gutenberg.org. If you are not located in the United States, you',\n",
       " 'will have to check the laws of the country where you are located before',\n",
       " 'using this eBook.',\n",
       " '',\n",
       " 'Title: Alice’s Adventures in Wonderland',\n",
       " '',\n",
       " 'Author: Lewis Carroll',\n",
       " '',\n",
       " 'Release Date: January, 1991 [eBook #11]',\n",
       " '[Most recently updated: October 12, 2020]',\n",
       " '',\n",
       " 'Language: English',\n",
       " '',\n",
       " '',\n",
       " 'Produced by: Arthur DiBianca and David Widger',\n",
       " '',\n",
       " '*** START OF THE PROJECT GUTENBERG EBOOK ALICE’S ADVENTURES IN WONDERLAND ***',\n",
       " '',\n",
       " '[Illustration]',\n",
       " '',\n",
       " '',\n",
       " '',\n",
       " '',\n",
       " 'Alice’s Adventures in Wonderland',\n",
       " '',\n",
       " 'by Lewis Carroll',\n",
       " '',\n",
       " 'THE MILLENNIUM FULCRUM EDITION 3.0',\n",
       " '',\n",
       " 'Contents',\n",
       " '',\n",
       " ' CHAPTER I.     Down the Rabbit-Hole',\n",
       " ' CHAPTER II.    The Pool of Tears',\n",
       " ' CHAPTER III.   A Caucus-Race and a Long Tale',\n",
       " ' CHAPTER IV.    The Rabbit Sends in a Little Bill',\n",
       " ' CHAPTER V.     Advice from a Caterpillar',\n",
       " ' CHAPTER VI.    Pig and Pepper',\n",
       " ' CHAPTER VII.   A Mad Tea-Party',\n",
       " ' CHAPTER VIII.  The Queen’s Croquet-Ground',\n",
       " ' CHAPTER IX.    The Mock Turtle’s Story',\n",
       " ' CHAPTER X.     The Lobster Quadrille',\n",
       " ' CHAPTER XI.    Who Stole the Tarts?',\n",
       " ' CHAPTER XII.   Alice’s Evidence',\n",
       " '',\n",
       " '',\n",
       " '',\n",
       " '',\n",
       " 'CHAPTER I.',\n",
       " 'Down the Rabbit-Hole',\n",
       " '',\n",
       " '',\n",
       " 'Alice was beginning to get very tired of sitting by her sister on the',\n",
       " 'bank, and of having nothing to do: once or twice she had peeped into',\n",
       " 'the book her sister was reading, but it had no pictures or',\n",
       " 'conversations in it, “and what is the use of a book,” thought Alice',\n",
       " '“without pictures or conversations?”',\n",
       " '',\n",
       " 'So she was considering in her own mind (as well as she could, for the',\n",
       " 'hot day made her feel very sleepy and stupid), whether the pleasure of',\n",
       " 'making a daisy-chain would be worth the trouble of getting up and',\n",
       " 'picking the daisies, when suddenly a White Rabbit with pink eyes ran',\n",
       " 'close by her.',\n",
       " '',\n",
       " 'There was nothing so _very_ remarkable in that; nor did Alice think it',\n",
       " 'so _very_ much out of the way to hear the Rabbit say to itself, “Oh',\n",
       " 'dear! Oh dear! I shall be late!” (when she thought it over afterwards,',\n",
       " 'it occurred to her that she ought to have wondered at this, but at the',\n",
       " 'time it all seemed quite natural); but when the Rabbit actually _took a',\n",
       " 'watch out of its waistcoat-pocket_, and looked at it, and then hurried',\n",
       " 'on, Alice started to her feet, for it flashed across her mind that she',\n",
       " 'had never before seen a rabbit with either a waistcoat-pocket, or a',\n",
       " 'watch to take out of it, and burning with curiosity, she ran across the',\n",
       " 'field after it, and fortunately was just in time to see it pop down a',\n",
       " 'large rabbit-hole under the hedge.',\n",
       " '',\n",
       " 'In another moment down went Alice after it, never once considering how',\n",
       " 'in the world she was to get out again.',\n",
       " '',\n",
       " 'The rabbit-hole went straight on like a tunnel for some way, and then',\n",
       " 'dipped suddenly down, so suddenly that Alice had not a moment to think',\n",
       " 'about stopping herself before she found herself falling down a very',\n",
       " 'deep well.',\n",
       " '',\n",
       " 'Either the well was very deep, or she fell very slowly, for she had',\n",
       " 'plenty of time as she went down to look about her and to wonder what',\n",
       " 'was going to happen next. First, she tried to look down and make out',\n",
       " 'what she was coming to, but it was too dark to see anything; then she',\n",
       " 'looked at the sides of the well, and noticed that they were filled with',\n",
       " 'cupboards and book-shelves; here and there she saw maps and pictures',\n",
       " 'hung upon pegs. She took down a jar from one of the shelves as she',\n",
       " 'passed; it was labelled “ORANGE MARMALADE”, but to her great',\n",
       " 'disappointment it was empty: she did not like to drop the jar for fear',\n",
       " 'of killing somebody underneath, so managed to put it into one of the',\n",
       " 'cupboards as she fell past it.',\n",
       " '',\n",
       " '“Well!” thought Alice to herself, “after such a fall as this, I shall',\n",
       " 'think nothing of tumbling down stairs! How brave they’ll all think me',\n",
       " 'at home! Why, I wouldn’t say anything about it, even if I fell off the',\n",
       " 'top of the house!” (Which was very likely true.)',\n",
       " '',\n",
       " 'Down, down, down. Would the fall _never_ come to an end? “I wonder how',\n",
       " 'many miles I’ve fallen by this time?” she said aloud. “I must be',\n",
       " 'getting somewhere near the centre of the earth. Let me see: that would',\n",
       " 'be four thousand miles down, I think—” (for, you see, Alice had learnt',\n",
       " 'several things of this sort in her lessons in the schoolroom, and',\n",
       " 'though this was not a _very_ good opportunity for showing off her',\n",
       " 'knowledge, as there was no one to listen to her, still it was good',\n",
       " 'practice to say it over) “—yes, that’s about the right distance—but',\n",
       " 'then I wonder what Latitude or Longitude I’ve got to?” (Alice had no',\n",
       " 'idea what Latitude was, or Longitude either, but thought they were nice',\n",
       " 'grand words to say.)',\n",
       " '',\n",
       " 'Presently she began again. “I wonder if I shall fall right _through_',\n",
       " 'the earth! How funny it’ll seem to come out among the people that walk',\n",
       " 'with their heads downward! The Antipathies, I think—” (she was rather',\n",
       " 'glad there _was_ no one listening, this time, as it didn’t sound at all',\n",
       " 'the right word) “—but I shall have to ask them what the name of the',\n",
       " 'country is, you know. Please, Ma’am, is this New Zealand or Australia?”',\n",
       " '(and she tried to curtsey as she spoke—fancy _curtseying_ as you’re',\n",
       " 'falling through the air! Do you think you could manage it?) “And what',\n",
       " 'an ignorant little girl she’ll think me for asking! No, it’ll never do',\n",
       " 'to ask: perhaps I shall see it written up somewhere.”',\n",
       " '',\n",
       " 'Down, down, down. There was nothing else to do, so Alice soon began',\n",
       " 'talking again. “Dinah’ll miss me very much to-night, I should think!”',\n",
       " '(Dinah was the cat.) “I hope they’ll remember her saucer of milk at',\n",
       " 'tea-time. Dinah my dear! I wish you were down here with me! There are',\n",
       " 'no mice in the air, I’m afraid, but you might catch a bat, and that’s',\n",
       " 'very like a mouse, you know. But do cats eat bats, I wonder?” And here',\n",
       " 'Alice began to get rather sleepy, and went on saying to herself, in a',\n",
       " 'dreamy sort of way, “Do cats eat bats? Do cats eat bats?” and',\n",
       " 'sometimes, “Do bats eat cats?” for, you see, as she couldn’t answer',\n",
       " 'either question, it didn’t much matter which way she put it. She felt',\n",
       " 'that she was dozing off, and had just begun to dream that she was',\n",
       " 'walking hand in hand with Dinah, and saying to her very earnestly,',\n",
       " '“Now, Dinah, tell me the truth: did you ever eat a bat?” when suddenly,',\n",
       " 'thump! thump! down she came upon a heap of sticks and dry leaves, and',\n",
       " 'the fall was over.',\n",
       " '',\n",
       " 'Alice was not a bit hurt, and she jumped up on to her feet in a moment:',\n",
       " 'she looked up, but it was all dark overhead; before her was another',\n",
       " 'long passage, and the White Rabbit was still in sight, hurrying down',\n",
       " 'it. There was not a moment to be lost: away went Alice like the wind,',\n",
       " 'and was just in time to hear it say, as it turned a corner, “Oh my ears',\n",
       " 'and whiskers, how late it’s getting!” She was close behind it when she',\n",
       " 'turned the corner, but the Rabbit was no longer to be seen: she found',\n",
       " 'herself in a long, low hall, which was lit up by a row of lamps hanging',\n",
       " 'from the roof.',\n",
       " '',\n",
       " 'There were doors all round the hall, but they were all locked; and when',\n",
       " 'Alice had been all the way down one side and up the other, trying every',\n",
       " 'door, she walked sadly down the middle, wondering how she was ever to',\n",
       " 'get out again.',\n",
       " '',\n",
       " 'Suddenly she came upon a little three-legged table, all made of solid',\n",
       " 'glass; there was nothing on it except a tiny golden key, and Alice’s',\n",
       " 'first thought was that it might belong to one of the doors of the hall;',\n",
       " 'but, alas! either the locks were too large, or the key was too small,',\n",
       " 'but at any rate it would not open any of them. However, on the second',\n",
       " 'time round, she came upon a low curtain she had not noticed before, and',\n",
       " 'behind it was a little door about fifteen inches high: she tried the',\n",
       " 'little golden key in the lock, and to her great delight it fitted!',\n",
       " '',\n",
       " 'Alice opened the door and found that it led into a small passage, not',\n",
       " 'much larger than a rat-hole: she knelt down and looked along the',\n",
       " 'passage into the loveliest garden you ever saw. How she longed to get',\n",
       " 'out of that dark hall, and wander about among those beds of bright',\n",
       " 'flowers and those cool fountains, but she could not even get her head',\n",
       " 'through the doorway; “and even if my head would go through,” thought',\n",
       " 'poor Alice, “it would be of very little use without my shoulders. Oh,',\n",
       " 'how I wish I could shut up like a telescope! I think I could, if I only',\n",
       " 'knew how to begin.” For, you see, so many out-of-the-way things had',\n",
       " 'happened lately, that Alice had begun to think that very few things',\n",
       " 'indeed were really impossible.',\n",
       " '',\n",
       " 'There seemed to be no use in waiting by the little door, so she went',\n",
       " 'back to the table, half hoping she might find another key on it, or at',\n",
       " 'any rate a book of rules for shutting people up like telescopes: this',\n",
       " 'time she found a little bottle on it, (“which certainly was not here',\n",
       " 'before,” said Alice,) and round the neck of the bottle was a paper',\n",
       " 'label, with the words “DRINK ME,” beautifully printed on it in large',\n",
       " 'letters.',\n",
       " '',\n",
       " 'It was all very well to say “Drink me,” but the wise little Alice was',\n",
       " 'not going to do _that_ in a hurry. “No, I’ll look first,” she said,',\n",
       " '“and see whether it’s marked ‘_poison_’ or not”; for she had read',\n",
       " 'several nice little histories about children who had got burnt, and',\n",
       " 'eaten up by wild beasts and other unpleasant things, all because they',\n",
       " '_would_ not remember the simple rules their friends had taught them:',\n",
       " 'such as, that a red-hot poker will burn you if you hold it too long;',\n",
       " 'and that if you cut your finger _very_ deeply with a knife, it usually',\n",
       " 'bleeds; and she had never forgotten that, if you drink much from a',\n",
       " 'bottle marked “poison,” it is almost certain to disagree with you,',\n",
       " 'sooner or later.',\n",
       " '',\n",
       " 'However, this bottle was _not_ marked “poison,” so Alice ventured to',\n",
       " 'taste it, and finding it very nice, (it had, in fact, a sort of mixed',\n",
       " 'flavour of cherry-tart, custard, pine-apple, roast turkey, toffee, and',\n",
       " 'hot buttered toast,) she very soon finished it off.',\n",
       " '',\n",
       " '*      *      *      *      *      *      *',\n",
       " '',\n",
       " '    *      *      *      *      *      *',\n",
       " '',\n",
       " '*      *      *      *      *      *      *',\n",
       " '',\n",
       " '',\n",
       " '“What a curious feeling!” said Alice; “I must be shutting up like a',\n",
       " 'telescope.”',\n",
       " '',\n",
       " 'And so it was indeed: she was now only ten inches high, and her face',\n",
       " 'brightened up at the thought that she was now the right size for going',\n",
       " 'through the little door into that lovely garden. First, however, she',\n",
       " 'waited for a few minutes to see if she was going to shrink any further:',\n",
       " 'she felt a little nervous about this; “for it might end, you know,”',\n",
       " 'said Alice to herself, “in my going out altogether, like a candle. I',\n",
       " 'wonder what I should be like then?” And she tried to fancy what the',\n",
       " 'flame of a candle is like after the candle is blown out, for she could',\n",
       " 'not remember ever having seen such a thing.',\n",
       " '',\n",
       " 'After a while, finding that nothing more happened, she decided on going',\n",
       " 'into the garden at once; but, alas for poor Alice! when she got to the',\n",
       " 'door, she found she had forgotten the little golden key, and when she',\n",
       " 'went back to the table for it, she found she could not possibly reach',\n",
       " 'it: she could see it quite plainly through the glass, and she tried her',\n",
       " 'best to climb up one of the legs of the table, but it was too slippery;',\n",
       " 'and when she had tired herself out with trying, the poor little thing',\n",
       " 'sat down and cried.',\n",
       " '',\n",
       " '“Come, there’s no use in crying like that!” said Alice to herself,',\n",
       " 'rather sharply; “I advise you to leave off this minute!” She generally',\n",
       " 'gave herself very good advice, (though she very seldom followed it),',\n",
       " 'and sometimes she scolded herself so severely as to bring tears into',\n",
       " 'her eyes; and once she remembered trying to box her own ears for having',\n",
       " 'cheated herself in a game of croquet she was playing against herself,',\n",
       " 'for this curious child was very fond of pretending to be two people.',\n",
       " '“But it’s no use now,” thought poor Alice, “to pretend to be two',\n",
       " 'people! Why, there’s hardly enough of me left to make _one_ respectable',\n",
       " 'person!”',\n",
       " '',\n",
       " 'Soon her eye fell on a little glass box that was lying under the table:',\n",
       " 'she opened it, and found in it a very small cake, on which the words',\n",
       " '“EAT ME” were beautifully marked in currants. “Well, I’ll eat it,” said',\n",
       " 'Alice, “and if it makes me grow larger, I can reach the key; and if it',\n",
       " 'makes me grow smaller, I can creep under the door; so either way I’ll',\n",
       " 'get into the garden, and I don’t care which happens!”',\n",
       " '',\n",
       " 'She ate a little bit, and said anxiously to herself, “Which way? Which',\n",
       " 'way?”, holding her hand on the top of her head to feel which way it was',\n",
       " 'growing, and she was quite surprised to find that she remained the same',\n",
       " 'size: to be sure, this generally happens when one eats cake, but Alice',\n",
       " 'had got so much into the way of expecting nothing but out-of-the-way',\n",
       " 'things to happen, that it seemed quite dull and stupid for life to go',\n",
       " 'on in the common way.',\n",
       " '',\n",
       " 'So she set to work, and very soon finished off the cake.',\n",
       " '',\n",
       " '*      *      *      *      *      *      *',\n",
       " '',\n",
       " '    *      *      *      *      *      *',\n",
       " '',\n",
       " '*      *      *      *      *      *      *',\n",
       " '',\n",
       " '',\n",
       " '',\n",
       " '',\n",
       " 'CHAPTER II.',\n",
       " 'The Pool of Tears',\n",
       " '',\n",
       " '',\n",
       " '“Curiouser and curiouser!” cried Alice (she was so much surprised, that',\n",
       " 'for the moment she quite forgot how to speak good English); “now I’m',\n",
       " 'opening out like the largest telescope that ever was! Good-bye, feet!”',\n",
       " '(for when she looked down at her feet, they seemed to be almost out of',\n",
       " 'sight, they were getting so far off). “Oh, my poor little feet, I',\n",
       " 'wonder who will put on your shoes and stockings for you now, dears? I’m',\n",
       " 'sure _I_ shan’t be able! I shall be a great deal too far off to trouble',\n",
       " 'myself about you: you must manage the best way you can;—but I must be',\n",
       " 'kind to them,” thought Alice, “or perhaps they won’t walk the way I',\n",
       " 'want to go! Let me see: I’ll give them a new pair of boots every',\n",
       " 'Christmas.”',\n",
       " '',\n",
       " 'And she went on planning to herself how she would manage it. “They must',\n",
       " 'go by the carrier,” she thought; “and how funny it’ll seem, sending',\n",
       " 'presents to one’s own feet! And how odd the directions will look!',\n",
       " '',\n",
       " '     _Alice’s Right Foot, Esq., Hearthrug, near the Fender,_ (_with',\n",
       " '     Alice’s love_).',\n",
       " '',\n",
       " 'Oh dear, what nonsense I’m talking!”',\n",
       " '',\n",
       " 'Just then her head struck against the roof of the hall: in fact she was',\n",
       " 'now more than nine feet high, and she at once took up the little golden',\n",
       " 'key and hurried off to the garden door.',\n",
       " '',\n",
       " 'Poor Alice! It was as much as she could do, lying down on one side, to',\n",
       " 'look through into the garden with one eye; but to get through was more',\n",
       " 'hopeless than ever: she sat down and began to cry again.',\n",
       " '',\n",
       " '“You ought to be ashamed of yourself,” said Alice, “a great girl like',\n",
       " 'you,” (she might well say this), “to go on crying in this way! Stop',\n",
       " 'this moment, I tell you!” But she went on all the same, shedding',\n",
       " 'gallons of tears, until there was a large pool all round her, about',\n",
       " 'four inches deep and reaching half down the hall.',\n",
       " '',\n",
       " 'After a time she heard a little pattering of feet in the distance, and',\n",
       " 'she hastily dried her eyes to see what was coming. It was the White',\n",
       " 'Rabbit returning, splendidly dressed, with a pair of white kid gloves',\n",
       " 'in one hand and a large fan in the other: he came trotting along in a',\n",
       " 'great hurry, muttering to himself as he came, “Oh! the Duchess, the',\n",
       " 'Duchess! Oh! won’t she be savage if I’ve kept her waiting!” Alice felt',\n",
       " 'so desperate that she was ready to ask help of any one; so, when the',\n",
       " 'Rabbit came near her, she began, in a low, timid voice, “If you please,',\n",
       " 'sir—” The Rabbit started violently, dropped the white kid gloves and',\n",
       " 'the fan, and skurried away into the darkness as hard as he could go.',\n",
       " '',\n",
       " 'Alice took up the fan and gloves, and, as the hall was very hot, she',\n",
       " 'kept fanning herself all the time she went on talking: “Dear, dear! How',\n",
       " 'queer everything is to-day! And yesterday things went on just as usual.',\n",
       " 'I wonder if I’ve been changed in the night? Let me think: was I the',\n",
       " 'same when I got up this morning? I almost think I can remember feeling',\n",
       " 'a little different. But if I’m not the same, the next question is, Who',\n",
       " 'in the world am I? Ah, _that’s_ the great puzzle!” And she began',\n",
       " 'thinking over all the children she knew that were of the same age as',\n",
       " 'herself, to see if she could have been changed for any of them.',\n",
       " '',\n",
       " '“I’m sure I’m not Ada,” she said, “for her hair goes in such long',\n",
       " 'ringlets, and mine doesn’t go in ringlets at all; and I’m sure I can’t',\n",
       " 'be Mabel, for I know all sorts of things, and she, oh! she knows such a',\n",
       " 'very little! Besides, _she’s_ she, and _I’m_ I, and—oh dear, how',\n",
       " 'puzzling it all is! I’ll try if I know all the things I used to know.',\n",
       " 'Let me see: four times five is twelve, and four times six is thirteen,',\n",
       " 'and four times seven is—oh dear! I shall never get to twenty at that',\n",
       " 'rate! However, the Multiplication Table doesn’t signify: let’s try',\n",
       " 'Geography. London is the capital of Paris, and Paris is the capital of',\n",
       " 'Rome, and Rome—no, _that’s_ all wrong, I’m certain! I must have been',\n",
       " 'changed for Mabel! I’ll try and say ‘_How doth the little_—’” and she',\n",
       " 'crossed her hands on her lap as if she were saying lessons, and began',\n",
       " 'to repeat it, but her voice sounded hoarse and strange, and the words',\n",
       " 'did not come the same as they used to do:—',\n",
       " '',\n",
       " '“How doth the little crocodile',\n",
       " '    Improve his shining tail,',\n",
       " 'And pour the waters of the Nile',\n",
       " '    On every golden scale!',\n",
       " '',\n",
       " '“How cheerfully he seems to grin,',\n",
       " '    How neatly spread his claws,',\n",
       " 'And welcome little fishes in',\n",
       " '    With gently smiling jaws!”',\n",
       " '',\n",
       " '',\n",
       " '“I’m sure those are not the right words,” said poor Alice, and her eyes',\n",
       " 'filled with tears again as she went on, “I must be Mabel after all, and',\n",
       " 'I shall have to go and live in that poky little house, and have next to',\n",
       " 'no toys to play with, and oh! ever so many lessons to learn! No, I’ve',\n",
       " 'made up my mind about it; if I’m Mabel, I’ll stay down here! It’ll be',\n",
       " 'no use their putting their heads down and saying ‘Come up again, dear!’',\n",
       " 'I shall only look up and say ‘Who am I then? Tell me that first, and',\n",
       " 'then, if I like being that person, I’ll come up: if not, I’ll stay down',\n",
       " 'here till I’m somebody else’—but, oh dear!” cried Alice, with a sudden',\n",
       " 'burst of tears, “I do wish they _would_ put their heads down! I am so',\n",
       " '_very_ tired of being all alone here!”',\n",
       " '',\n",
       " 'As she said this she looked down at her hands, and was surprised to see',\n",
       " 'that she had put on one of the Rabbit’s little white kid gloves while',\n",
       " 'she was talking. “How _can_ I have done that?” she thought. “I must be',\n",
       " 'growing small again.” She got up and went to the table to measure',\n",
       " 'herself by it, and found that, as nearly as she could guess, she was',\n",
       " 'now about two feet high, and was going on shrinking rapidly: she soon',\n",
       " 'found out that the cause of this was the fan she was holding, and she',\n",
       " 'dropped it hastily, just in time to avoid shrinking away altogether.',\n",
       " '',\n",
       " '“That _was_ a narrow escape!” said Alice, a good deal frightened at the',\n",
       " 'sudden change, but very glad to find herself still in existence; “and',\n",
       " 'now for the garden!” and she ran with all speed back to the little',\n",
       " 'door: but, alas! the little door was shut again, and the little golden',\n",
       " 'key was lying on the glass table as before, “and things are worse than',\n",
       " 'ever,” thought the poor child, “for I never was so small as this',\n",
       " 'before, never! And I declare it’s too bad, that it is!”',\n",
       " '',\n",
       " 'As she said these words her foot slipped, and in another moment,',\n",
       " 'splash! she was up to her chin in salt water. Her first idea was that',\n",
       " 'she had somehow fallen into the sea, “and in that case I can go back by',\n",
       " 'railway,” she said to herself. (Alice had been to the seaside once in',\n",
       " 'her life, and had come to the general conclusion, that wherever you go',\n",
       " 'to on the English coast you find a number of bathing machines in the',\n",
       " 'sea, some children digging in the sand with wooden spades, then a row',\n",
       " 'of lodging houses, and behind them a railway station.) However, she',\n",
       " 'soon made out that she was in the pool of tears which she had wept when',\n",
       " 'she was nine feet high.',\n",
       " '',\n",
       " '“I wish I hadn’t cried so much!” said Alice, as she swam about, trying',\n",
       " 'to find her way out. “I shall be punished for it now, I suppose, by',\n",
       " 'being drowned in my own tears! That _will_ be a queer thing, to be',\n",
       " 'sure! However, everything is queer to-day.”',\n",
       " '',\n",
       " 'Just then she heard something splashing about in the pool a little way',\n",
       " 'off, and she swam nearer to make out what it was: at first she thought',\n",
       " 'it must be a walrus or hippopotamus, but then she remembered how small',\n",
       " 'she was now, and she soon made out that it was only a mouse that had',\n",
       " 'slipped in like herself.',\n",
       " '',\n",
       " '“Would it be of any use, now,” thought Alice, “to speak to this mouse?',\n",
       " 'Everything is so out-of-the-way down here, that I should think very',\n",
       " 'likely it can talk: at any rate, there’s no harm in trying.” So she',\n",
       " 'began: “O Mouse, do you know the way out of this pool? I am very tired',\n",
       " 'of swimming about here, O Mouse!” (Alice thought this must be the right',\n",
       " 'way of speaking to a mouse: she had never done such a thing before, but',\n",
       " 'she remembered having seen in her brother’s Latin Grammar, “A mouse—of',\n",
       " 'a mouse—to a mouse—a mouse—O mouse!”) The Mouse looked at her rather',\n",
       " 'inquisitively, and seemed to her to wink with one of its little eyes,',\n",
       " 'but it said nothing.',\n",
       " '',\n",
       " '“Perhaps it doesn’t understand English,” thought Alice; “I daresay it’s',\n",
       " 'a French mouse, come over with William the Conqueror.” (For, with all',\n",
       " 'her knowledge of history, Alice had no very clear notion how long ago',\n",
       " 'anything had happened.) So she began again: “Où est ma chatte?” which',\n",
       " 'was the first sentence in her French lesson-book. The Mouse gave a',\n",
       " 'sudden leap out of the water, and seemed to quiver all over with',\n",
       " 'fright. “Oh, I beg your pardon!” cried Alice hastily, afraid that she',\n",
       " 'had hurt the poor animal’s feelings. “I quite forgot you didn’t like',\n",
       " 'cats.”',\n",
       " '',\n",
       " '“Not like cats!” cried the Mouse, in a shrill, passionate voice. “Would',\n",
       " '_you_ like cats if you were me?”',\n",
       " '',\n",
       " '“Well, perhaps not,” said Alice in a soothing tone: “don’t be angry',\n",
       " 'about it. And yet I wish I could show you our cat Dinah: I think you’d',\n",
       " 'take a fancy to cats if you could only see her. She is such a dear',\n",
       " 'quiet thing,” Alice went on, half to herself, as she swam lazily about',\n",
       " 'in the pool, “and she sits purring so nicely by the fire, licking her',\n",
       " 'paws and washing her face—and she is such a nice soft thing to',\n",
       " 'nurse—and she’s such a capital one for catching mice—oh, I beg your',\n",
       " 'pardon!” cried Alice again, for this time the Mouse was bristling all',\n",
       " 'over, and she felt certain it must be really offended. “We won’t talk',\n",
       " 'about her any more if you’d rather not.”',\n",
       " '',\n",
       " '“We indeed!” cried the Mouse, who was trembling down to the end of his',\n",
       " 'tail. “As if _I_ would talk on such a subject! Our family always',\n",
       " '_hated_ cats: nasty, low, vulgar things! Don’t let me hear the name',\n",
       " 'again!”',\n",
       " '',\n",
       " '“I won’t indeed!” said Alice, in a great hurry to change the subject of',\n",
       " 'conversation. “Are you—are you fond—of—of dogs?” The Mouse did not',\n",
       " 'answer, so Alice went on eagerly: “There is such a nice little dog near',\n",
       " 'our house I should like to show you! A little bright-eyed terrier, you',\n",
       " 'know, with oh, such long curly brown hair! And it’ll fetch things when',\n",
       " 'you throw them, and it’ll sit up and beg for its dinner, and all sorts',\n",
       " 'of things—I can’t remember half of them—and it belongs to a farmer, you',\n",
       " 'know, and he says it’s so useful, it’s worth a hundred pounds! He says',\n",
       " 'it kills all the rats and—oh dear!” cried Alice in a sorrowful tone,',\n",
       " '“I’m afraid I’ve offended it again!” For the Mouse was swimming away',\n",
       " 'from her as hard as it could go, and making quite a commotion in the',\n",
       " 'pool as it went.',\n",
       " '',\n",
       " 'So she called softly after it, “Mouse dear! Do come back again, and we',\n",
       " 'won’t talk about cats or dogs either, if you don’t like them!” When the',\n",
       " 'Mouse heard this, it turned round and swam slowly back to her: its face',\n",
       " 'was quite pale (with passion, Alice thought), and it said in a low',\n",
       " 'trembling voice, “Let us get to the shore, and then I’ll tell you my',\n",
       " 'history, and you’ll understand why it is I hate cats and dogs.”',\n",
       " '',\n",
       " 'It was high time to go, for the pool was getting quite crowded with the',\n",
       " 'birds and animals that had fallen into it: there were a Duck and a',\n",
       " 'Dodo, a Lory and an Eaglet, and several other curious creatures. Alice',\n",
       " 'led the way, and the whole party swam to the shore.',\n",
       " '',\n",
       " '',\n",
       " '',\n",
       " '',\n",
       " 'CHAPTER III.',\n",
       " 'A Caucus-Race and a Long Tale',\n",
       " '',\n",
       " '',\n",
       " 'They were indeed a queer-looking party that assembled on the bank—the',\n",
       " 'birds with draggled feathers, the animals with their fur clinging close',\n",
       " 'to them, and all dripping wet, cross, and uncomfortable.',\n",
       " '',\n",
       " 'The first question of course was, how to get dry again: they had a',\n",
       " 'consultation about this, and after a few minutes it seemed quite',\n",
       " 'natural to Alice to find herself talking familiarly with them, as if',\n",
       " 'she had known them all her life. Indeed, she had quite a long argument',\n",
       " 'with the Lory, who at last turned sulky, and would only say, “I am',\n",
       " 'older than you, and must know better;” and this Alice would not allow',\n",
       " 'without knowing how old it was, and, as the Lory positively refused to',\n",
       " 'tell its age, there was no more to be said.',\n",
       " '',\n",
       " 'At last the Mouse, who seemed to be a person of authority among them,',\n",
       " 'called out, “Sit down, all of you, and listen to me! _I’ll_ soon make',\n",
       " 'you dry enough!” They all sat down at once, in a large ring, with the',\n",
       " 'Mouse in the middle. Alice kept her eyes anxiously fixed on it, for she',\n",
       " 'felt sure she would catch a bad cold if she did not get dry very soon.',\n",
       " '',\n",
       " '“Ahem!” said the Mouse with an important air, “are you all ready? This',\n",
       " 'is the driest thing I know. Silence all round, if you please! ‘William',\n",
       " 'the Conqueror, whose cause was favoured by the pope, was soon submitted',\n",
       " 'to by the English, who wanted leaders, and had been of late much',\n",
       " 'accustomed to usurpation and conquest. Edwin and Morcar, the earls of',\n",
       " 'Mercia and Northumbria—’”',\n",
       " '',\n",
       " '“Ugh!” said the Lory, with a shiver.',\n",
       " '',\n",
       " '“I beg your pardon!” said the Mouse, frowning, but very politely: “Did',\n",
       " 'you speak?”',\n",
       " '',\n",
       " '“Not I!” said the Lory hastily.',\n",
       " '',\n",
       " '“I thought you did,” said the Mouse. “—I proceed. ‘Edwin and Morcar,',\n",
       " 'the earls of Mercia and Northumbria, declared for him: and even',\n",
       " 'Stigand, the patriotic archbishop of Canterbury, found it advisable—’”',\n",
       " '',\n",
       " '“Found _what_?” said the Duck.',\n",
       " '',\n",
       " '“Found _it_,” the Mouse replied rather crossly: “of course you know',\n",
       " 'what ‘it’ means.”',\n",
       " '',\n",
       " '“I know what ‘it’ means well enough, when _I_ find a thing,” said the',\n",
       " 'Duck: “it’s generally a frog or a worm. The question is, what did the',\n",
       " 'archbishop find?”',\n",
       " '',\n",
       " 'The Mouse did not notice this question, but hurriedly went on, “‘—found',\n",
       " 'it advisable to go with Edgar Atheling to meet William and offer him',\n",
       " 'the crown. William’s conduct at first was moderate. But the insolence',\n",
       " 'of his Normans—’ How are you getting on now, my dear?” it continued,',\n",
       " 'turning to Alice as it spoke.',\n",
       " '',\n",
       " '“As wet as ever,” said Alice in a melancholy tone: “it doesn’t seem to',\n",
       " 'dry me at all.”',\n",
       " '',\n",
       " '“In that case,” said the Dodo solemnly, rising to its feet, “I move',\n",
       " 'that the meeting adjourn, for the immediate adoption of more energetic',\n",
       " 'remedies—”',\n",
       " '',\n",
       " '“Speak English!” said the Eaglet. “I don’t know the meaning of half',\n",
       " 'those long words, and, what’s more, I don’t believe you do either!” And',\n",
       " 'the Eaglet bent down its head to hide a smile: some of the other birds',\n",
       " 'tittered audibly.',\n",
       " '',\n",
       " '“What I was going to say,” said the Dodo in an offended tone, “was,',\n",
       " 'that the best thing to get us dry would be a Caucus-race.”',\n",
       " '',\n",
       " '“What _is_ a Caucus-race?” said Alice; not that she wanted much to',\n",
       " 'know, but the Dodo had paused as if it thought that _somebody_ ought to',\n",
       " 'speak, and no one else seemed inclined to say anything.',\n",
       " '',\n",
       " '“Why,” said the Dodo, “the best way to explain it is to do it.” (And,',\n",
       " 'as you might like to try the thing yourself, some winter day, I will',\n",
       " 'tell you how the Dodo managed it.)',\n",
       " '',\n",
       " 'First it marked out a race-course, in a sort of circle, (“the exact',\n",
       " 'shape doesn’t matter,” it said,) and then all the party were placed',\n",
       " 'along the course, here and there. There was no “One, two, three, and',\n",
       " 'away,” but they began running when they liked, and left off when they',\n",
       " 'liked, so that it was not easy to know when the race was over. However,',\n",
       " 'when they had been running half an hour or so, and were quite dry',\n",
       " 'again, the Dodo suddenly called out “The race is over!” and they all',\n",
       " 'crowded round it, panting, and asking, “But who has won?”',\n",
       " '',\n",
       " 'This question the Dodo could not answer without a great deal of',\n",
       " 'thought, and it sat for a long time with one finger pressed upon its',\n",
       " 'forehead (the position in which you usually see Shakespeare, in the',\n",
       " 'pictures of him), while the rest waited in silence. At last the Dodo',\n",
       " 'said, “_Everybody_ has won, and all must have prizes.”',\n",
       " '',\n",
       " '“But who is to give the prizes?” quite a chorus of voices asked.',\n",
       " '',\n",
       " '“Why, _she_, of course,” said the Dodo, pointing to Alice with one',\n",
       " 'finger; and the whole party at once crowded round her, calling out in a',\n",
       " 'confused way, “Prizes! Prizes!”',\n",
       " '',\n",
       " 'Alice had no idea what to do, and in despair she put her hand in her',\n",
       " 'pocket, and pulled out a box of comfits, (luckily the salt water had',\n",
       " 'not got into it), and handed them round as prizes. There was exactly',\n",
       " 'one a-piece, all round.',\n",
       " '',\n",
       " '“But she must have a prize herself, you know,” said the Mouse.',\n",
       " '',\n",
       " '“Of course,” the Dodo replied very gravely. “What else have you got in',\n",
       " 'your pocket?” he went on, turning to Alice.',\n",
       " '',\n",
       " '“Only a thimble,” said Alice sadly.',\n",
       " '',\n",
       " '“Hand it over here,” said the Dodo.',\n",
       " '',\n",
       " 'Then they all crowded round her once more, while the Dodo solemnly',\n",
       " 'presented the thimble, saying “We beg your acceptance of this elegant',\n",
       " 'thimble;” and, when it had finished this short speech, they all',\n",
       " 'cheered.',\n",
       " '',\n",
       " 'Alice thought the whole thing very absurd, but they all looked so grave',\n",
       " 'that she did not dare to laugh; and, as she could not think of anything',\n",
       " 'to say, she simply bowed, and took the thimble, looking as solemn as',\n",
       " 'she could.',\n",
       " '',\n",
       " 'The next thing was to eat the comfits: this caused some noise and',\n",
       " 'confusion, as the large birds complained that they could not taste',\n",
       " 'theirs, and the small ones choked and had to be patted on the back.',\n",
       " 'However, it was over at last, and they sat down again in a ring, and',\n",
       " 'begged the Mouse to tell them something more.',\n",
       " '',\n",
       " '“You promised to tell me your history, you know,” said Alice, “and why',\n",
       " 'it is you hate—C and D,” she added in a whisper, half afraid that it',\n",
       " 'would be offended again.',\n",
       " '',\n",
       " '“Mine is a long and a sad tale!” said the Mouse, turning to Alice, and',\n",
       " 'sighing.',\n",
       " '',\n",
       " '“It _is_ a long tail, certainly,” said Alice, looking down with wonder',\n",
       " 'at the Mouse’s tail; “but why do you call it sad?” And she kept on',\n",
       " 'puzzling about it while the Mouse was speaking, so that her idea of the',\n",
       " 'tale was something like this:—',\n",
       " '',\n",
       " '         “Fury said to a mouse, That he met in the house, ‘Let us both',\n",
       " '         go to law: _I_ will prosecute _you_.—Come, I’ll take no',\n",
       " '         denial; We must have a trial: For really this morning I’ve',\n",
       " '         nothing to do.’ Said the mouse to the cur, ‘Such a trial, dear',\n",
       " '         sir, With no jury or judge, would be wasting our breath.’',\n",
       " '         ‘I’ll be judge, I’ll be jury,’ Said cunning old Fury: ‘I’ll',\n",
       " '         try the whole cause, and condemn you to death.’”',\n",
       " '',\n",
       " '“You are not attending!” said the Mouse to Alice severely. “What are',\n",
       " 'you thinking of?”',\n",
       " '',\n",
       " '“I beg your pardon,” said Alice very humbly: “you had got to the fifth',\n",
       " 'bend, I think?”',\n",
       " '',\n",
       " '“I had _not!_” cried the Mouse, sharply and very angrily.',\n",
       " '',\n",
       " '“A knot!” said Alice, always ready to make herself useful, and looking',\n",
       " 'anxiously about her. “Oh, do let me help to undo it!”',\n",
       " '',\n",
       " '“I shall do nothing of the sort,” said the Mouse, getting up and',\n",
       " 'walking away. “You insult me by talking such nonsense!”',\n",
       " '',\n",
       " '“I didn’t mean it!” pleaded poor Alice. “But you’re so easily offended,',\n",
       " 'you know!”',\n",
       " '',\n",
       " 'The Mouse only growled in reply.',\n",
       " '',\n",
       " '“Please come back and finish your story!” Alice called after it; and',\n",
       " 'the others all joined in chorus, “Yes, please do!” but the Mouse only',\n",
       " 'shook its head impatiently, and walked a little quicker.',\n",
       " '',\n",
       " '“What a pity it wouldn’t stay!” sighed the Lory, as soon as it was',\n",
       " 'quite out of sight; and an old Crab took the opportunity of saying to',\n",
       " 'her daughter “Ah, my dear! Let this be a lesson to you never to lose',\n",
       " '_your_ temper!” “Hold your tongue, Ma!” said the young Crab, a little',\n",
       " 'snappishly. “You’re enough to try the patience of an oyster!”',\n",
       " '',\n",
       " '“I wish I had our Dinah here, I know I do!” said Alice aloud,',\n",
       " 'addressing nobody in particular. “She’d soon fetch it back!”',\n",
       " '',\n",
       " '“And who is Dinah, if I might venture to ask the question?” said the',\n",
       " 'Lory.',\n",
       " '',\n",
       " 'Alice replied eagerly, for she was always ready to talk about her pet:',\n",
       " '“Dinah’s our cat. And she’s such a capital one for catching mice you',\n",
       " 'can’t think! And oh, I wish you could see her after the birds! Why,',\n",
       " 'she’ll eat a little bird as soon as look at it!”',\n",
       " '',\n",
       " 'This speech caused a remarkable sensation among the party. Some of the',\n",
       " 'birds hurried off at once: one old Magpie began wrapping itself up very',\n",
       " 'carefully, remarking, “I really must be getting home; the night-air',\n",
       " 'doesn’t suit my throat!” and a Canary called out in a trembling voice',\n",
       " 'to its children, “Come away, my dears! It’s high time you were all in',\n",
       " 'bed!” On various pretexts they all moved off, and Alice was soon left',\n",
       " 'alone.',\n",
       " '',\n",
       " '“I wish I hadn’t mentioned Dinah!” she said to herself in a melancholy',\n",
       " 'tone. “Nobody seems to like her, down here, and I’m sure she’s the best',\n",
       " 'cat in the world! Oh, my dear Dinah! I wonder if I shall ever see you',\n",
       " 'any more!” And here poor Alice began to cry again, for she felt very',\n",
       " 'lonely and low-spirited. In a little while, however, she again heard a',\n",
       " 'little pattering of footsteps in the distance, and she looked up',\n",
       " 'eagerly, half hoping that the Mouse had changed his mind, and was',\n",
       " 'coming back to finish his story.',\n",
       " '',\n",
       " '',\n",
       " '',\n",
       " '',\n",
       " 'CHAPTER IV.',\n",
       " 'The Rabbit Sends in a Little Bill',\n",
       " '',\n",
       " '',\n",
       " 'It was the White Rabbit, trotting slowly back again, and looking',\n",
       " 'anxiously about as it went, as if it had lost something; and she heard',\n",
       " 'it muttering to itself “The Duchess! The Duchess! Oh my dear paws! Oh',\n",
       " 'my fur and whiskers! She’ll get me executed, as sure as ferrets are',\n",
       " 'ferrets! Where _can_ I have dropped them, I wonder?” Alice guessed in a',\n",
       " 'moment that it was looking for the fan and the pair of white kid',\n",
       " 'gloves, and she very good-naturedly began hunting about for them, but',\n",
       " 'they were nowhere to be seen—everything seemed to have changed since',\n",
       " 'her swim in the pool, and the great hall, with the glass table and the',\n",
       " 'little door, had vanished completely.',\n",
       " '',\n",
       " 'Very soon the Rabbit noticed Alice, as she went hunting about, and',\n",
       " 'called out to her in an angry tone, “Why, Mary Ann, what _are_ you',\n",
       " 'doing out here? Run home this moment, and fetch me a pair of gloves and',\n",
       " 'a fan! Quick, now!” And Alice was so much frightened that she ran off',\n",
       " 'at once in the direction it pointed to, without trying to explain the',\n",
       " 'mistake it had made.',\n",
       " '',\n",
       " '“He took me for his housemaid,” she said to herself as she ran. “How',\n",
       " 'surprised he’ll be when he finds out who I am! But I’d better take him',\n",
       " 'his fan and gloves—that is, if I can find them.” As she said this, she',\n",
       " 'came upon a neat little house, on the door of which was a bright brass',\n",
       " 'plate with the name “W. RABBIT,” engraved upon it. She went in without',\n",
       " 'knocking, and hurried upstairs, in great fear lest she should meet the',\n",
       " 'real Mary Ann, and be turned out of the house before she had found the',\n",
       " 'fan and gloves.',\n",
       " '',\n",
       " '“How queer it seems,” Alice said to herself, “to be going messages for',\n",
       " 'a rabbit! I suppose Dinah’ll be sending me on messages next!” And she',\n",
       " 'began fancying the sort of thing that would happen: “‘Miss Alice! Come',\n",
       " 'here directly, and get ready for your walk!’ ‘Coming in a minute,',\n",
       " 'nurse! But I’ve got to see that the mouse doesn’t get out.’ Only I',\n",
       " 'don’t think,” Alice went on, “that they’d let Dinah stop in the house',\n",
       " 'if it began ordering people about like that!”',\n",
       " '',\n",
       " 'By this time she had found her way into a tidy little room with a table',\n",
       " 'in the window, and on it (as she had hoped) a fan and two or three',\n",
       " 'pairs of tiny white kid gloves: she took up the fan and a pair of the',\n",
       " 'gloves, and was just going to leave the room, when her eye fell upon a',\n",
       " 'little bottle that stood near the looking-glass. There was no label',\n",
       " 'this time with the words “DRINK ME,” but nevertheless she uncorked it',\n",
       " 'and put it to her lips. “I know _something_ interesting is sure to',\n",
       " 'happen,” she said to herself, “whenever I eat or drink anything; so',\n",
       " 'I’ll just see what this bottle does. I do hope it’ll make me grow large',\n",
       " 'again, for really I’m quite tired of being such a tiny little thing!”',\n",
       " '',\n",
       " 'It did so indeed, and much sooner than she had expected: before she had',\n",
       " 'drunk half the bottle, she found her head pressing against the ceiling,',\n",
       " 'and had to stoop to save her neck from being broken. She hastily put',\n",
       " 'down the bottle, saying to herself “That’s quite enough—I hope I shan’t',\n",
       " 'grow any more—As it is, I can’t get out at the door—I do wish I hadn’t',\n",
       " 'drunk quite so much!”',\n",
       " '',\n",
       " 'Alas! it was too late to wish that! She went on growing, and growing,',\n",
       " 'and very soon had to kneel down on the floor: in another minute there',\n",
       " 'was not even room for this, and she tried the effect of lying down with',\n",
       " 'one elbow against the door, and the other arm curled round her head.',\n",
       " 'Still she went on growing, and, as a last resource, she put one arm out',\n",
       " 'of the window, and one foot up the chimney, and said to herself “Now I',\n",
       " 'can do no more, whatever happens. What _will_ become of me?”',\n",
       " '',\n",
       " 'Luckily for Alice, the little magic bottle had now had its full effect,',\n",
       " 'and she grew no larger: still it was very uncomfortable, and, as there',\n",
       " 'seemed to be no sort of chance of her ever getting out of the room',\n",
       " 'again, no wonder she felt unhappy.',\n",
       " '',\n",
       " '“It was much pleasanter at home,” thought poor Alice, “when one wasn’t',\n",
       " 'always growing larger and smaller, and being ordered about by mice and',\n",
       " 'rabbits. I almost wish I hadn’t gone down that rabbit-hole—and yet—and',\n",
       " 'yet—it’s rather curious, you know, this sort of life! I do wonder what',\n",
       " '_can_ have happened to me! When I used to read fairy-tales, I fancied',\n",
       " 'that kind of thing never happened, and now here I am in the middle of',\n",
       " 'one! There ought to be a book written about me, that there ought! And',\n",
       " 'when I grow up, I’ll write one—but I’m grown up now,” she added in a',\n",
       " 'sorrowful tone; “at least there’s no room to grow up any more _here_.”',\n",
       " '',\n",
       " '“But then,” thought Alice, “shall I _never_ get any older than I am',\n",
       " 'now? That’ll be a comfort, one way—never to be an old woman—but',\n",
       " 'then—always to have lessons to learn! Oh, I shouldn’t like _that!_”',\n",
       " '',\n",
       " '“Oh, you foolish Alice!” she answered herself. “How can you learn',\n",
       " 'lessons in here? Why, there’s hardly room for _you_, and no room at all',\n",
       " 'for any lesson-books!”',\n",
       " '',\n",
       " 'And so she went on, taking first one side and then the other, and',\n",
       " 'making quite a conversation of it altogether; but after a few minutes',\n",
       " 'she heard a voice outside, and stopped to listen.',\n",
       " '',\n",
       " '“Mary Ann! Mary Ann!” said the voice. “Fetch me my gloves this moment!”',\n",
       " 'Then came a little pattering of feet on the stairs. Alice knew it was',\n",
       " 'the Rabbit coming to look for her, and she trembled till she shook the',\n",
       " 'house, quite forgetting that she was now about a thousand times as',\n",
       " 'large as the Rabbit, and had no reason to be afraid of it.',\n",
       " '',\n",
       " 'Presently the Rabbit came up to the door, and tried to open it; but, as',\n",
       " 'the door opened inwards, and Alice’s elbow was pressed hard against it,',\n",
       " 'that attempt proved a failure. Alice heard it say to itself “Then I’ll',\n",
       " 'go round and get in at the window.”',\n",
       " '',\n",
       " '“_That_ you won’t!” thought Alice, and, after waiting till she fancied',\n",
       " 'she heard the Rabbit just under the window, she suddenly spread out her',\n",
       " 'hand, and made a snatch in the air. She did not get hold of anything,',\n",
       " 'but she heard a little shriek and a fall, and a crash of broken glass,',\n",
       " 'from which she concluded that it was just possible it had fallen into a',\n",
       " 'cucumber-frame, or something of the sort.',\n",
       " '',\n",
       " 'Next came an angry voice—the Rabbit’s—“Pat! Pat! Where are you?” And',\n",
       " 'then a voice she had never heard before, “Sure then I’m here! Digging',\n",
       " 'for apples, yer honour!”',\n",
       " '',\n",
       " '“Digging for apples, indeed!” said the Rabbit angrily. “Here! Come and',\n",
       " 'help me out of _this!_” (Sounds of more broken glass.)',\n",
       " '',\n",
       " '“Now tell me, Pat, what’s that in the window?”',\n",
       " '',\n",
       " '“Sure, it’s an arm, yer honour!” (He pronounced it “arrum.”)',\n",
       " '',\n",
       " '“An arm, you goose! Who ever saw one that size? Why, it fills the whole',\n",
       " 'window!”',\n",
       " '',\n",
       " '“Sure, it does, yer honour: but it’s an arm for all that.”',\n",
       " '',\n",
       " '“Well, it’s got no business there, at any rate: go and take it away!”',\n",
       " '',\n",
       " 'There was a long silence after this, and Alice could only hear whispers',\n",
       " 'now and then; such as, “Sure, I don’t like it, yer honour, at all, at',\n",
       " 'all!” “Do as I tell you, you coward!” and at last she spread out her',\n",
       " 'hand again, and made another snatch in the air. This time there were',\n",
       " '_two_ little shrieks, and more sounds of broken glass. “What a number',\n",
       " 'of cucumber-frames there must be!” thought Alice. “I wonder what',\n",
       " 'they’ll do next! As for pulling me out of the window, I only wish they',\n",
       " '_could!_ I’m sure _I_ don’t want to stay in here any longer!”',\n",
       " '',\n",
       " 'She waited for some time without hearing anything more: at last came a',\n",
       " 'rumbling of little cartwheels, and the sound of a good many voices all',\n",
       " 'talking together: she made out the words: “Where’s the other',\n",
       " 'ladder?—Why, I hadn’t to bring but one; Bill’s got the other—Bill!',\n",
       " 'fetch it here, lad!—Here, put ’em up at this corner—No, tie ’em',\n",
       " 'together first—they don’t reach half high enough yet—Oh! they’ll do',\n",
       " 'well enough; don’t be particular—Here, Bill! catch hold of this',\n",
       " 'rope—Will the roof bear?—Mind that loose slate—Oh, it’s coming down!',\n",
       " 'Heads below!” (a loud crash)—“Now, who did that?—It was Bill, I',\n",
       " 'fancy—Who’s to go down the chimney?—Nay, _I_ shan’t! _You_ do',\n",
       " 'it!—_That_ I won’t, then!—Bill’s to go down—Here, Bill! the master says',\n",
       " 'you’re to go down the chimney!”',\n",
       " '',\n",
       " '“Oh! So Bill’s got to come down the chimney, has he?” said Alice to',\n",
       " 'herself. “Shy, they seem to put everything upon Bill! I wouldn’t be in',\n",
       " 'Bill’s place for a good deal: this fireplace is narrow, to be sure; but',\n",
       " 'I _think_ I can kick a little!”',\n",
       " '',\n",
       " 'She drew her foot as far down the chimney as she could, and waited till',\n",
       " 'she heard a little animal (she couldn’t guess of what sort it was)',\n",
       " 'scratching and scrambling about in the chimney close above her: then,',\n",
       " 'saying to herself “This is Bill,” she gave one sharp kick, and waited',\n",
       " 'to see what would happen next.',\n",
       " '',\n",
       " 'The first thing she heard was a general chorus of “There goes Bill!”',\n",
       " 'then the Rabbit’s voice along—“Catch him, you by the hedge!” then',\n",
       " 'silence, and then another confusion of voices—“Hold up his head—Brandy',\n",
       " 'now—Don’t choke him—How was it, old fellow? What happened to you? Tell',\n",
       " 'us all about it!”',\n",
       " '',\n",
       " 'Last came a little feeble, squeaking voice, (“That’s Bill,” thought',\n",
       " 'Alice,) “Well, I hardly know—No more, thank ye; I’m better now—but I’m',\n",
       " 'a deal too flustered to tell you—all I know is, something comes at me',\n",
       " 'like a Jack-in-the-box, and up I goes like a sky-rocket!”',\n",
       " '',\n",
       " '“So you did, old fellow!” said the others.',\n",
       " '',\n",
       " '“We must burn the house down!” said the Rabbit’s voice; and Alice',\n",
       " 'called out as loud as she could, “If you do, I’ll set Dinah at you!”',\n",
       " '',\n",
       " 'There was a dead silence instantly, and Alice thought to herself, “I',\n",
       " 'wonder what they _will_ do next! If they had any sense, they’d take the',\n",
       " 'roof off.” After a minute or two, they began moving about again, and',\n",
       " 'Alice heard the Rabbit say, “A barrowful will do, to begin with.”',\n",
       " '',\n",
       " '“A barrowful of _what?_” thought Alice; but she had not long to doubt,',\n",
       " 'for the next moment a shower of little pebbles came rattling in at the',\n",
       " 'window, and some of them hit her in the face. “I’ll put a stop to',\n",
       " 'this,” she said to herself, and shouted out, “You’d better not do that',\n",
       " 'again!” which produced another dead silence.',\n",
       " '',\n",
       " 'Alice noticed with some surprise that the pebbles were all turning into',\n",
       " 'little cakes as they lay on the floor, and a bright idea came into her',\n",
       " 'head. “If I eat one of these cakes,” she thought, “it’s sure to make',\n",
       " '_some_ change in my size; and as it can’t possibly make me larger, it',\n",
       " 'must make me smaller, I suppose.”',\n",
       " '',\n",
       " 'So she swallowed one of the cakes, and was delighted to find that she',\n",
       " 'began shrinking directly. As soon as she was small enough to get',\n",
       " 'through the door, she ran out of the house, and found quite a crowd of',\n",
       " 'little animals and birds waiting outside. The poor little Lizard, Bill,',\n",
       " 'was in the middle, being held up by two guinea-pigs, who were giving it',\n",
       " 'something out of a bottle. They all made a rush at Alice the moment she',\n",
       " 'appeared; but she ran off as hard as she could, and soon found herself',\n",
       " 'safe in a thick wood.',\n",
       " '',\n",
       " '“The first thing I’ve got to do,” said Alice to herself, as she',\n",
       " 'wandered about in the wood, “is to grow to my right size again; and the',\n",
       " 'second thing is to find my way into that lovely garden. I think that',\n",
       " 'will be the best plan.”',\n",
       " '',\n",
       " 'It sounded an excellent plan, no doubt, and very neatly and simply',\n",
       " 'arranged; the only difficulty was, that she had not the smallest idea',\n",
       " 'how to set about it; and while she was peering about anxiously among',\n",
       " 'the trees, a little sharp bark just over her head made her look up in a',\n",
       " 'great hurry.',\n",
       " '',\n",
       " 'An enormous puppy was looking down at her with large round eyes, and',\n",
       " 'feebly stretching out one paw, trying to touch her. “Poor little',\n",
       " 'thing!” said Alice, in a coaxing tone, and she tried hard to whistle to',\n",
       " 'it; but she was terribly frightened all the time at the thought that it',\n",
       " 'might be hungry, in which case it would be very likely to eat her up in',\n",
       " 'spite of all her coaxing.',\n",
       " '',\n",
       " 'Hardly knowing what she did, she picked up a little bit of stick, and',\n",
       " 'held it out to the puppy; whereupon the puppy jumped into the air off',\n",
       " 'all its feet at once, with a yelp of delight, and rushed at the stick,',\n",
       " 'and made believe to worry it; then Alice dodged behind a great thistle,',\n",
       " 'to keep herself from being run over; and the moment she appeared on the',\n",
       " 'other side, the puppy made another rush at the stick, and tumbled head',\n",
       " 'over heels in its hurry to get hold of it; then Alice, thinking it was',\n",
       " 'very like having a game of play with a cart-horse, and expecting every',\n",
       " 'moment to be trampled under its feet, ran round the thistle again; then',\n",
       " 'the puppy began a series of short charges at the stick, running a very',\n",
       " 'little way forwards each time and a long way back, and barking hoarsely',\n",
       " 'all the while, till at last it sat down a good way off, panting, with',\n",
       " 'its tongue hanging out of its mouth, and its great eyes half shut.',\n",
       " '',\n",
       " 'This seemed to Alice a good opportunity for making her escape; so she',\n",
       " 'set off at once, and ran till she was quite tired and out of breath,',\n",
       " 'and till the puppy’s bark sounded quite faint in the distance.',\n",
       " '',\n",
       " '“And yet what a dear little puppy it was!” said Alice, as she leant',\n",
       " 'against a buttercup to rest herself, and fanned herself with one of the',\n",
       " 'leaves: “I should have liked teaching it tricks very much, if—if I’d',\n",
       " 'only been the right size to do it! Oh dear! I’d nearly forgotten that',\n",
       " 'I’ve got to grow up again! Let me see—how _is_ it to be managed? I',\n",
       " 'suppose I ought to eat or drink something or other; but the great',\n",
       " 'question is, what?”',\n",
       " '',\n",
       " 'The great question certainly was, what? Alice looked all round her at',\n",
       " 'the flowers and the blades of grass, but she did not see anything that',\n",
       " 'looked like the right thing to eat or drink under the circumstances.',\n",
       " 'There was a large mushroom growing near her, about the same height as',\n",
       " 'herself; and when she had looked under it, and on both sides of it, and',\n",
       " 'behind it, it occurred to her that she might as well look and see what',\n",
       " 'was on the top of it.',\n",
       " '',\n",
       " 'She stretched herself up on tiptoe, and peeped over the edge of the',\n",
       " 'mushroom, and her eyes immediately met those of a large blue',\n",
       " 'caterpillar, that was sitting on the top with its arms folded, quietly',\n",
       " 'smoking a long hookah, and taking not the smallest notice of her or of',\n",
       " 'anything else.',\n",
       " '',\n",
       " '',\n",
       " '',\n",
       " '',\n",
       " 'CHAPTER V.',\n",
       " 'Advice from a Caterpillar',\n",
       " '',\n",
       " '',\n",
       " 'The Caterpillar and Alice looked at each other for some time in',\n",
       " 'silence: at last the Caterpillar took the hookah out of its mouth, and',\n",
       " 'addressed her in a languid, sleepy voice.',\n",
       " '',\n",
       " '“Who are _you?_” said the Caterpillar.',\n",
       " '',\n",
       " 'This was not an encouraging opening for a conversation. Alice replied,',\n",
       " 'rather shyly, “I—I hardly know, sir, just at present—at least I know',\n",
       " 'who I _was_ when I got up this morning, but I think I must have been',\n",
       " 'changed several times since then.”',\n",
       " '',\n",
       " '“What do you mean by that?” said the Caterpillar sternly. “Explain',\n",
       " 'yourself!”',\n",
       " '',\n",
       " '“I can’t explain _myself_, I’m afraid, sir,” said Alice, “because I’m',\n",
       " 'not myself, you see.”',\n",
       " '',\n",
       " '“I don’t see,” said the Caterpillar.',\n",
       " '',\n",
       " '“I’m afraid I can’t put it more clearly,” Alice replied very politely,',\n",
       " '“for I can’t understand it myself to begin with; and being so many',\n",
       " 'different sizes in a day is very confusing.”',\n",
       " '',\n",
       " '“It isn’t,” said the Caterpillar.',\n",
       " '',\n",
       " '“Well, perhaps you haven’t found it so yet,” said Alice; “but when you',\n",
       " 'have to turn into a chrysalis—you will some day, you know—and then',\n",
       " 'after that into a butterfly, I should think you’ll feel it a little',\n",
       " 'queer, won’t you?”',\n",
       " '',\n",
       " '“Not a bit,” said the Caterpillar.',\n",
       " '',\n",
       " '“Well, perhaps your feelings may be different,” said Alice; “all I know',\n",
       " 'is, it would feel very queer to _me_.”',\n",
       " '',\n",
       " '“You!” said the Caterpillar contemptuously. “Who are _you?_”',\n",
       " '',\n",
       " 'Which brought them back again to the beginning of the conversation.',\n",
       " 'Alice felt a little irritated at the Caterpillar’s making such _very_',\n",
       " 'short remarks, and she drew herself up and said, very gravely, “I',\n",
       " 'think, you ought to tell me who _you_ are, first.”',\n",
       " '',\n",
       " '“Why?” said the Caterpillar.',\n",
       " '',\n",
       " 'Here was another puzzling question; and as Alice could not think of any',\n",
       " ...]"
      ]
     },
     "execution_count": 8,
     "metadata": {},
     "output_type": "execute_result"
    }
   ],
   "source": [
    "lines"
   ]
  },
  {
   "cell_type": "code",
   "execution_count": 9,
   "id": "930a6036",
   "metadata": {},
   "outputs": [],
   "source": [
    "f.close()"
   ]
  },
  {
   "cell_type": "code",
   "execution_count": 10,
   "id": "a35e514c",
   "metadata": {},
   "outputs": [
    {
     "data": {
      "text/plain": [
       "'The Projec'"
      ]
     },
     "execution_count": 10,
     "metadata": {},
     "output_type": "execute_result"
    }
   ],
   "source": [
    "f = open(path)\n",
    "f.read(10)"
   ]
  },
  {
   "cell_type": "code",
   "execution_count": 11,
   "id": "0729440f",
   "metadata": {},
   "outputs": [
    {
     "data": {
      "text/plain": [
       "b'The Projec'"
      ]
     },
     "execution_count": 11,
     "metadata": {},
     "output_type": "execute_result"
    }
   ],
   "source": [
    "f2 = open(path, 'rb')\n",
    "f2.read(10)"
   ]
  },
  {
   "cell_type": "code",
   "execution_count": 12,
   "id": "bbeb7ee3",
   "metadata": {},
   "outputs": [
    {
     "data": {
      "text/plain": [
       "10"
      ]
     },
     "execution_count": 12,
     "metadata": {},
     "output_type": "execute_result"
    }
   ],
   "source": [
    "f.tell()"
   ]
  },
  {
   "cell_type": "code",
   "execution_count": 13,
   "id": "f9452d2e",
   "metadata": {},
   "outputs": [
    {
     "data": {
      "text/plain": [
       "10"
      ]
     },
     "execution_count": 13,
     "metadata": {},
     "output_type": "execute_result"
    }
   ],
   "source": [
    "f2.tell()"
   ]
  },
  {
   "cell_type": "code",
   "execution_count": 15,
   "id": "abfb4510",
   "metadata": {},
   "outputs": [
    {
     "data": {
      "text/plain": [
       "'utf-8'"
      ]
     },
     "execution_count": 15,
     "metadata": {},
     "output_type": "execute_result"
    }
   ],
   "source": [
    "import sys\n",
    "\n",
    "sys.getdefaultencoding()"
   ]
  },
  {
   "cell_type": "code",
   "execution_count": 16,
   "id": "2dd53b8b",
   "metadata": {},
   "outputs": [
    {
     "data": {
      "text/plain": [
       "'Gutenberg '"
      ]
     },
     "execution_count": 16,
     "metadata": {},
     "output_type": "execute_result"
    }
   ],
   "source": [
    "f.seek(12)\n",
    "\n",
    "f.read(10)"
   ]
  },
  {
   "cell_type": "code",
   "execution_count": 17,
   "id": "d909d97b",
   "metadata": {},
   "outputs": [],
   "source": [
    "f.close()\n",
    "f2.close()"
   ]
  },
  {
   "cell_type": "code",
   "execution_count": 18,
   "id": "e29f8fe2",
   "metadata": {},
   "outputs": [
    {
     "data": {
      "text/plain": [
       "['The Project Gutenberg eBook of Alice’s Adventures in Wonderland, by Lewis Carroll\\n',\n",
       " 'This eBook is for the use of anyone anywhere in the United States and\\n',\n",
       " 'most other parts of the world at no cost and with almost no restrictions\\n',\n",
       " 'whatsoever. You may copy it, give it away or re-use it under the terms\\n',\n",
       " 'of the Project Gutenberg License included with this eBook or online at\\n',\n",
       " 'www.gutenberg.org. If you are not located in the United States, you\\n',\n",
       " 'will have to check the laws of the country where you are located before\\n',\n",
       " 'using this eBook.\\n',\n",
       " 'Title: Alice’s Adventures in Wonderland\\n',\n",
       " 'Author: Lewis Carroll\\n',\n",
       " 'Release Date: January, 1991 [eBook #11]\\n',\n",
       " '[Most recently updated: October 12, 2020]\\n',\n",
       " 'Language: English\\n',\n",
       " 'Produced by: Arthur DiBianca and David Widger\\n',\n",
       " '*** START OF THE PROJECT GUTENBERG EBOOK ALICE’S ADVENTURES IN WONDERLAND ***\\n',\n",
       " '[Illustration]\\n',\n",
       " 'Alice’s Adventures in Wonderland\\n',\n",
       " 'by Lewis Carroll\\n',\n",
       " 'THE MILLENNIUM FULCRUM EDITION 3.0\\n',\n",
       " 'Contents\\n',\n",
       " ' CHAPTER I.     Down the Rabbit-Hole\\n',\n",
       " ' CHAPTER II.    The Pool of Tears\\n',\n",
       " ' CHAPTER III.   A Caucus-Race and a Long Tale\\n',\n",
       " ' CHAPTER IV.    The Rabbit Sends in a Little Bill\\n',\n",
       " ' CHAPTER V.     Advice from a Caterpillar\\n',\n",
       " ' CHAPTER VI.    Pig and Pepper\\n',\n",
       " ' CHAPTER VII.   A Mad Tea-Party\\n',\n",
       " ' CHAPTER VIII.  The Queen’s Croquet-Ground\\n',\n",
       " ' CHAPTER IX.    The Mock Turtle’s Story\\n',\n",
       " ' CHAPTER X.     The Lobster Quadrille\\n',\n",
       " ' CHAPTER XI.    Who Stole the Tarts?\\n',\n",
       " ' CHAPTER XII.   Alice’s Evidence\\n',\n",
       " 'CHAPTER I.\\n',\n",
       " 'Down the Rabbit-Hole\\n',\n",
       " 'Alice was beginning to get very tired of sitting by her sister on the\\n',\n",
       " 'bank, and of having nothing to do: once or twice she had peeped into\\n',\n",
       " 'the book her sister was reading, but it had no pictures or\\n',\n",
       " 'conversations in it, “and what is the use of a book,” thought Alice\\n',\n",
       " '“without pictures or conversations?”\\n',\n",
       " 'So she was considering in her own mind (as well as she could, for the\\n',\n",
       " 'hot day made her feel very sleepy and stupid), whether the pleasure of\\n',\n",
       " 'making a daisy-chain would be worth the trouble of getting up and\\n',\n",
       " 'picking the daisies, when suddenly a White Rabbit with pink eyes ran\\n',\n",
       " 'close by her.\\n',\n",
       " 'There was nothing so _very_ remarkable in that; nor did Alice think it\\n',\n",
       " 'so _very_ much out of the way to hear the Rabbit say to itself, “Oh\\n',\n",
       " 'dear! Oh dear! I shall be late!” (when she thought it over afterwards,\\n',\n",
       " 'it occurred to her that she ought to have wondered at this, but at the\\n',\n",
       " 'time it all seemed quite natural); but when the Rabbit actually _took a\\n',\n",
       " 'watch out of its waistcoat-pocket_, and looked at it, and then hurried\\n',\n",
       " 'on, Alice started to her feet, for it flashed across her mind that she\\n',\n",
       " 'had never before seen a rabbit with either a waistcoat-pocket, or a\\n',\n",
       " 'watch to take out of it, and burning with curiosity, she ran across the\\n',\n",
       " 'field after it, and fortunately was just in time to see it pop down a\\n',\n",
       " 'large rabbit-hole under the hedge.\\n',\n",
       " 'In another moment down went Alice after it, never once considering how\\n',\n",
       " 'in the world she was to get out again.\\n',\n",
       " 'The rabbit-hole went straight on like a tunnel for some way, and then\\n',\n",
       " 'dipped suddenly down, so suddenly that Alice had not a moment to think\\n',\n",
       " 'about stopping herself before she found herself falling down a very\\n',\n",
       " 'deep well.\\n',\n",
       " 'Either the well was very deep, or she fell very slowly, for she had\\n',\n",
       " 'plenty of time as she went down to look about her and to wonder what\\n',\n",
       " 'was going to happen next. First, she tried to look down and make out\\n',\n",
       " 'what she was coming to, but it was too dark to see anything; then she\\n',\n",
       " 'looked at the sides of the well, and noticed that they were filled with\\n',\n",
       " 'cupboards and book-shelves; here and there she saw maps and pictures\\n',\n",
       " 'hung upon pegs. She took down a jar from one of the shelves as she\\n',\n",
       " 'passed; it was labelled “ORANGE MARMALADE”, but to her great\\n',\n",
       " 'disappointment it was empty: she did not like to drop the jar for fear\\n',\n",
       " 'of killing somebody underneath, so managed to put it into one of the\\n',\n",
       " 'cupboards as she fell past it.\\n',\n",
       " '“Well!” thought Alice to herself, “after such a fall as this, I shall\\n',\n",
       " 'think nothing of tumbling down stairs! How brave they’ll all think me\\n',\n",
       " 'at home! Why, I wouldn’t say anything about it, even if I fell off the\\n',\n",
       " 'top of the house!” (Which was very likely true.)\\n',\n",
       " 'Down, down, down. Would the fall _never_ come to an end? “I wonder how\\n',\n",
       " 'many miles I’ve fallen by this time?” she said aloud. “I must be\\n',\n",
       " 'getting somewhere near the centre of the earth. Let me see: that would\\n',\n",
       " 'be four thousand miles down, I think—” (for, you see, Alice had learnt\\n',\n",
       " 'several things of this sort in her lessons in the schoolroom, and\\n',\n",
       " 'though this was not a _very_ good opportunity for showing off her\\n',\n",
       " 'knowledge, as there was no one to listen to her, still it was good\\n',\n",
       " 'practice to say it over) “—yes, that’s about the right distance—but\\n',\n",
       " 'then I wonder what Latitude or Longitude I’ve got to?” (Alice had no\\n',\n",
       " 'idea what Latitude was, or Longitude either, but thought they were nice\\n',\n",
       " 'grand words to say.)\\n',\n",
       " 'Presently she began again. “I wonder if I shall fall right _through_\\n',\n",
       " 'the earth! How funny it’ll seem to come out among the people that walk\\n',\n",
       " 'with their heads downward! The Antipathies, I think—” (she was rather\\n',\n",
       " 'glad there _was_ no one listening, this time, as it didn’t sound at all\\n',\n",
       " 'the right word) “—but I shall have to ask them what the name of the\\n',\n",
       " 'country is, you know. Please, Ma’am, is this New Zealand or Australia?”\\n',\n",
       " '(and she tried to curtsey as she spoke—fancy _curtseying_ as you’re\\n',\n",
       " 'falling through the air! Do you think you could manage it?) “And what\\n',\n",
       " 'an ignorant little girl she’ll think me for asking! No, it’ll never do\\n',\n",
       " 'to ask: perhaps I shall see it written up somewhere.”\\n',\n",
       " 'Down, down, down. There was nothing else to do, so Alice soon began\\n',\n",
       " 'talking again. “Dinah’ll miss me very much to-night, I should think!”\\n',\n",
       " '(Dinah was the cat.) “I hope they’ll remember her saucer of milk at\\n',\n",
       " 'tea-time. Dinah my dear! I wish you were down here with me! There are\\n',\n",
       " 'no mice in the air, I’m afraid, but you might catch a bat, and that’s\\n',\n",
       " 'very like a mouse, you know. But do cats eat bats, I wonder?” And here\\n',\n",
       " 'Alice began to get rather sleepy, and went on saying to herself, in a\\n',\n",
       " 'dreamy sort of way, “Do cats eat bats? Do cats eat bats?” and\\n',\n",
       " 'sometimes, “Do bats eat cats?” for, you see, as she couldn’t answer\\n',\n",
       " 'either question, it didn’t much matter which way she put it. She felt\\n',\n",
       " 'that she was dozing off, and had just begun to dream that she was\\n',\n",
       " 'walking hand in hand with Dinah, and saying to her very earnestly,\\n',\n",
       " '“Now, Dinah, tell me the truth: did you ever eat a bat?” when suddenly,\\n',\n",
       " 'thump! thump! down she came upon a heap of sticks and dry leaves, and\\n',\n",
       " 'the fall was over.\\n',\n",
       " 'Alice was not a bit hurt, and she jumped up on to her feet in a moment:\\n',\n",
       " 'she looked up, but it was all dark overhead; before her was another\\n',\n",
       " 'long passage, and the White Rabbit was still in sight, hurrying down\\n',\n",
       " 'it. There was not a moment to be lost: away went Alice like the wind,\\n',\n",
       " 'and was just in time to hear it say, as it turned a corner, “Oh my ears\\n',\n",
       " 'and whiskers, how late it’s getting!” She was close behind it when she\\n',\n",
       " 'turned the corner, but the Rabbit was no longer to be seen: she found\\n',\n",
       " 'herself in a long, low hall, which was lit up by a row of lamps hanging\\n',\n",
       " 'from the roof.\\n',\n",
       " 'There were doors all round the hall, but they were all locked; and when\\n',\n",
       " 'Alice had been all the way down one side and up the other, trying every\\n',\n",
       " 'door, she walked sadly down the middle, wondering how she was ever to\\n',\n",
       " 'get out again.\\n',\n",
       " 'Suddenly she came upon a little three-legged table, all made of solid\\n',\n",
       " 'glass; there was nothing on it except a tiny golden key, and Alice’s\\n',\n",
       " 'first thought was that it might belong to one of the doors of the hall;\\n',\n",
       " 'but, alas! either the locks were too large, or the key was too small,\\n',\n",
       " 'but at any rate it would not open any of them. However, on the second\\n',\n",
       " 'time round, she came upon a low curtain she had not noticed before, and\\n',\n",
       " 'behind it was a little door about fifteen inches high: she tried the\\n',\n",
       " 'little golden key in the lock, and to her great delight it fitted!\\n',\n",
       " 'Alice opened the door and found that it led into a small passage, not\\n',\n",
       " 'much larger than a rat-hole: she knelt down and looked along the\\n',\n",
       " 'passage into the loveliest garden you ever saw. How she longed to get\\n',\n",
       " 'out of that dark hall, and wander about among those beds of bright\\n',\n",
       " 'flowers and those cool fountains, but she could not even get her head\\n',\n",
       " 'through the doorway; “and even if my head would go through,” thought\\n',\n",
       " 'poor Alice, “it would be of very little use without my shoulders. Oh,\\n',\n",
       " 'how I wish I could shut up like a telescope! I think I could, if I only\\n',\n",
       " 'knew how to begin.” For, you see, so many out-of-the-way things had\\n',\n",
       " 'happened lately, that Alice had begun to think that very few things\\n',\n",
       " 'indeed were really impossible.\\n',\n",
       " 'There seemed to be no use in waiting by the little door, so she went\\n',\n",
       " 'back to the table, half hoping she might find another key on it, or at\\n',\n",
       " 'any rate a book of rules for shutting people up like telescopes: this\\n',\n",
       " 'time she found a little bottle on it, (“which certainly was not here\\n',\n",
       " 'before,” said Alice,) and round the neck of the bottle was a paper\\n',\n",
       " 'label, with the words “DRINK ME,” beautifully printed on it in large\\n',\n",
       " 'letters.\\n',\n",
       " 'It was all very well to say “Drink me,” but the wise little Alice was\\n',\n",
       " 'not going to do _that_ in a hurry. “No, I’ll look first,” she said,\\n',\n",
       " '“and see whether it’s marked ‘_poison_’ or not”; for she had read\\n',\n",
       " 'several nice little histories about children who had got burnt, and\\n',\n",
       " 'eaten up by wild beasts and other unpleasant things, all because they\\n',\n",
       " '_would_ not remember the simple rules their friends had taught them:\\n',\n",
       " 'such as, that a red-hot poker will burn you if you hold it too long;\\n',\n",
       " 'and that if you cut your finger _very_ deeply with a knife, it usually\\n',\n",
       " 'bleeds; and she had never forgotten that, if you drink much from a\\n',\n",
       " 'bottle marked “poison,” it is almost certain to disagree with you,\\n',\n",
       " 'sooner or later.\\n',\n",
       " 'However, this bottle was _not_ marked “poison,” so Alice ventured to\\n',\n",
       " 'taste it, and finding it very nice, (it had, in fact, a sort of mixed\\n',\n",
       " 'flavour of cherry-tart, custard, pine-apple, roast turkey, toffee, and\\n',\n",
       " 'hot buttered toast,) she very soon finished it off.\\n',\n",
       " '*      *      *      *      *      *      *\\n',\n",
       " '    *      *      *      *      *      *\\n',\n",
       " '*      *      *      *      *      *      *\\n',\n",
       " '“What a curious feeling!” said Alice; “I must be shutting up like a\\n',\n",
       " 'telescope.”\\n',\n",
       " 'And so it was indeed: she was now only ten inches high, and her face\\n',\n",
       " 'brightened up at the thought that she was now the right size for going\\n',\n",
       " 'through the little door into that lovely garden. First, however, she\\n',\n",
       " 'waited for a few minutes to see if she was going to shrink any further:\\n',\n",
       " 'she felt a little nervous about this; “for it might end, you know,”\\n',\n",
       " 'said Alice to herself, “in my going out altogether, like a candle. I\\n',\n",
       " 'wonder what I should be like then?” And she tried to fancy what the\\n',\n",
       " 'flame of a candle is like after the candle is blown out, for she could\\n',\n",
       " 'not remember ever having seen such a thing.\\n',\n",
       " 'After a while, finding that nothing more happened, she decided on going\\n',\n",
       " 'into the garden at once; but, alas for poor Alice! when she got to the\\n',\n",
       " 'door, she found she had forgotten the little golden key, and when she\\n',\n",
       " 'went back to the table for it, she found she could not possibly reach\\n',\n",
       " 'it: she could see it quite plainly through the glass, and she tried her\\n',\n",
       " 'best to climb up one of the legs of the table, but it was too slippery;\\n',\n",
       " 'and when she had tired herself out with trying, the poor little thing\\n',\n",
       " 'sat down and cried.\\n',\n",
       " '“Come, there’s no use in crying like that!” said Alice to herself,\\n',\n",
       " 'rather sharply; “I advise you to leave off this minute!” She generally\\n',\n",
       " 'gave herself very good advice, (though she very seldom followed it),\\n',\n",
       " 'and sometimes she scolded herself so severely as to bring tears into\\n',\n",
       " 'her eyes; and once she remembered trying to box her own ears for having\\n',\n",
       " 'cheated herself in a game of croquet she was playing against herself,\\n',\n",
       " 'for this curious child was very fond of pretending to be two people.\\n',\n",
       " '“But it’s no use now,” thought poor Alice, “to pretend to be two\\n',\n",
       " 'people! Why, there’s hardly enough of me left to make _one_ respectable\\n',\n",
       " 'person!”\\n',\n",
       " 'Soon her eye fell on a little glass box that was lying under the table:\\n',\n",
       " 'she opened it, and found in it a very small cake, on which the words\\n',\n",
       " '“EAT ME” were beautifully marked in currants. “Well, I’ll eat it,” said\\n',\n",
       " 'Alice, “and if it makes me grow larger, I can reach the key; and if it\\n',\n",
       " 'makes me grow smaller, I can creep under the door; so either way I’ll\\n',\n",
       " 'get into the garden, and I don’t care which happens!”\\n',\n",
       " 'She ate a little bit, and said anxiously to herself, “Which way? Which\\n',\n",
       " 'way?”, holding her hand on the top of her head to feel which way it was\\n',\n",
       " 'growing, and she was quite surprised to find that she remained the same\\n',\n",
       " 'size: to be sure, this generally happens when one eats cake, but Alice\\n',\n",
       " 'had got so much into the way of expecting nothing but out-of-the-way\\n',\n",
       " 'things to happen, that it seemed quite dull and stupid for life to go\\n',\n",
       " 'on in the common way.\\n',\n",
       " 'So she set to work, and very soon finished off the cake.\\n',\n",
       " '*      *      *      *      *      *      *\\n',\n",
       " '    *      *      *      *      *      *\\n',\n",
       " '*      *      *      *      *      *      *\\n',\n",
       " 'CHAPTER II.\\n',\n",
       " 'The Pool of Tears\\n',\n",
       " '“Curiouser and curiouser!” cried Alice (she was so much surprised, that\\n',\n",
       " 'for the moment she quite forgot how to speak good English); “now I’m\\n',\n",
       " 'opening out like the largest telescope that ever was! Good-bye, feet!”\\n',\n",
       " '(for when she looked down at her feet, they seemed to be almost out of\\n',\n",
       " 'sight, they were getting so far off). “Oh, my poor little feet, I\\n',\n",
       " 'wonder who will put on your shoes and stockings for you now, dears? I’m\\n',\n",
       " 'sure _I_ shan’t be able! I shall be a great deal too far off to trouble\\n',\n",
       " 'myself about you: you must manage the best way you can;—but I must be\\n',\n",
       " 'kind to them,” thought Alice, “or perhaps they won’t walk the way I\\n',\n",
       " 'want to go! Let me see: I’ll give them a new pair of boots every\\n',\n",
       " 'Christmas.”\\n',\n",
       " 'And she went on planning to herself how she would manage it. “They must\\n',\n",
       " 'go by the carrier,” she thought; “and how funny it’ll seem, sending\\n',\n",
       " 'presents to one’s own feet! And how odd the directions will look!\\n',\n",
       " '     _Alice’s Right Foot, Esq., Hearthrug, near the Fender,_ (_with\\n',\n",
       " '     Alice’s love_).\\n',\n",
       " 'Oh dear, what nonsense I’m talking!”\\n',\n",
       " 'Just then her head struck against the roof of the hall: in fact she was\\n',\n",
       " 'now more than nine feet high, and she at once took up the little golden\\n',\n",
       " 'key and hurried off to the garden door.\\n',\n",
       " 'Poor Alice! It was as much as she could do, lying down on one side, to\\n',\n",
       " 'look through into the garden with one eye; but to get through was more\\n',\n",
       " 'hopeless than ever: she sat down and began to cry again.\\n',\n",
       " '“You ought to be ashamed of yourself,” said Alice, “a great girl like\\n',\n",
       " 'you,” (she might well say this), “to go on crying in this way! Stop\\n',\n",
       " 'this moment, I tell you!” But she went on all the same, shedding\\n',\n",
       " 'gallons of tears, until there was a large pool all round her, about\\n',\n",
       " 'four inches deep and reaching half down the hall.\\n',\n",
       " 'After a time she heard a little pattering of feet in the distance, and\\n',\n",
       " 'she hastily dried her eyes to see what was coming. It was the White\\n',\n",
       " 'Rabbit returning, splendidly dressed, with a pair of white kid gloves\\n',\n",
       " 'in one hand and a large fan in the other: he came trotting along in a\\n',\n",
       " 'great hurry, muttering to himself as he came, “Oh! the Duchess, the\\n',\n",
       " 'Duchess! Oh! won’t she be savage if I’ve kept her waiting!” Alice felt\\n',\n",
       " 'so desperate that she was ready to ask help of any one; so, when the\\n',\n",
       " 'Rabbit came near her, she began, in a low, timid voice, “If you please,\\n',\n",
       " 'sir—” The Rabbit started violently, dropped the white kid gloves and\\n',\n",
       " 'the fan, and skurried away into the darkness as hard as he could go.\\n',\n",
       " 'Alice took up the fan and gloves, and, as the hall was very hot, she\\n',\n",
       " 'kept fanning herself all the time she went on talking: “Dear, dear! How\\n',\n",
       " 'queer everything is to-day! And yesterday things went on just as usual.\\n',\n",
       " 'I wonder if I’ve been changed in the night? Let me think: was I the\\n',\n",
       " 'same when I got up this morning? I almost think I can remember feeling\\n',\n",
       " 'a little different. But if I’m not the same, the next question is, Who\\n',\n",
       " 'in the world am I? Ah, _that’s_ the great puzzle!” And she began\\n',\n",
       " 'thinking over all the children she knew that were of the same age as\\n',\n",
       " 'herself, to see if she could have been changed for any of them.\\n',\n",
       " '“I’m sure I’m not Ada,” she said, “for her hair goes in such long\\n',\n",
       " 'ringlets, and mine doesn’t go in ringlets at all; and I’m sure I can’t\\n',\n",
       " 'be Mabel, for I know all sorts of things, and she, oh! she knows such a\\n',\n",
       " 'very little! Besides, _she’s_ she, and _I’m_ I, and—oh dear, how\\n',\n",
       " 'puzzling it all is! I’ll try if I know all the things I used to know.\\n',\n",
       " 'Let me see: four times five is twelve, and four times six is thirteen,\\n',\n",
       " 'and four times seven is—oh dear! I shall never get to twenty at that\\n',\n",
       " 'rate! However, the Multiplication Table doesn’t signify: let’s try\\n',\n",
       " 'Geography. London is the capital of Paris, and Paris is the capital of\\n',\n",
       " 'Rome, and Rome—no, _that’s_ all wrong, I’m certain! I must have been\\n',\n",
       " 'changed for Mabel! I’ll try and say ‘_How doth the little_—’” and she\\n',\n",
       " 'crossed her hands on her lap as if she were saying lessons, and began\\n',\n",
       " 'to repeat it, but her voice sounded hoarse and strange, and the words\\n',\n",
       " 'did not come the same as they used to do:—\\n',\n",
       " '“How doth the little crocodile\\n',\n",
       " '    Improve his shining tail,\\n',\n",
       " 'And pour the waters of the Nile\\n',\n",
       " '    On every golden scale!\\n',\n",
       " '“How cheerfully he seems to grin,\\n',\n",
       " '    How neatly spread his claws,\\n',\n",
       " 'And welcome little fishes in\\n',\n",
       " '    With gently smiling jaws!”\\n',\n",
       " '“I’m sure those are not the right words,” said poor Alice, and her eyes\\n',\n",
       " 'filled with tears again as she went on, “I must be Mabel after all, and\\n',\n",
       " 'I shall have to go and live in that poky little house, and have next to\\n',\n",
       " 'no toys to play with, and oh! ever so many lessons to learn! No, I’ve\\n',\n",
       " 'made up my mind about it; if I’m Mabel, I’ll stay down here! It’ll be\\n',\n",
       " 'no use their putting their heads down and saying ‘Come up again, dear!’\\n',\n",
       " 'I shall only look up and say ‘Who am I then? Tell me that first, and\\n',\n",
       " 'then, if I like being that person, I’ll come up: if not, I’ll stay down\\n',\n",
       " 'here till I’m somebody else’—but, oh dear!” cried Alice, with a sudden\\n',\n",
       " 'burst of tears, “I do wish they _would_ put their heads down! I am so\\n',\n",
       " '_very_ tired of being all alone here!”\\n',\n",
       " 'As she said this she looked down at her hands, and was surprised to see\\n',\n",
       " 'that she had put on one of the Rabbit’s little white kid gloves while\\n',\n",
       " 'she was talking. “How _can_ I have done that?” she thought. “I must be\\n',\n",
       " 'growing small again.” She got up and went to the table to measure\\n',\n",
       " 'herself by it, and found that, as nearly as she could guess, she was\\n',\n",
       " 'now about two feet high, and was going on shrinking rapidly: she soon\\n',\n",
       " 'found out that the cause of this was the fan she was holding, and she\\n',\n",
       " 'dropped it hastily, just in time to avoid shrinking away altogether.\\n',\n",
       " '“That _was_ a narrow escape!” said Alice, a good deal frightened at the\\n',\n",
       " 'sudden change, but very glad to find herself still in existence; “and\\n',\n",
       " 'now for the garden!” and she ran with all speed back to the little\\n',\n",
       " 'door: but, alas! the little door was shut again, and the little golden\\n',\n",
       " 'key was lying on the glass table as before, “and things are worse than\\n',\n",
       " 'ever,” thought the poor child, “for I never was so small as this\\n',\n",
       " 'before, never! And I declare it’s too bad, that it is!”\\n',\n",
       " 'As she said these words her foot slipped, and in another moment,\\n',\n",
       " 'splash! she was up to her chin in salt water. Her first idea was that\\n',\n",
       " 'she had somehow fallen into the sea, “and in that case I can go back by\\n',\n",
       " 'railway,” she said to herself. (Alice had been to the seaside once in\\n',\n",
       " 'her life, and had come to the general conclusion, that wherever you go\\n',\n",
       " 'to on the English coast you find a number of bathing machines in the\\n',\n",
       " 'sea, some children digging in the sand with wooden spades, then a row\\n',\n",
       " 'of lodging houses, and behind them a railway station.) However, she\\n',\n",
       " 'soon made out that she was in the pool of tears which she had wept when\\n',\n",
       " 'she was nine feet high.\\n',\n",
       " '“I wish I hadn’t cried so much!” said Alice, as she swam about, trying\\n',\n",
       " 'to find her way out. “I shall be punished for it now, I suppose, by\\n',\n",
       " 'being drowned in my own tears! That _will_ be a queer thing, to be\\n',\n",
       " 'sure! However, everything is queer to-day.”\\n',\n",
       " 'Just then she heard something splashing about in the pool a little way\\n',\n",
       " 'off, and she swam nearer to make out what it was: at first she thought\\n',\n",
       " 'it must be a walrus or hippopotamus, but then she remembered how small\\n',\n",
       " 'she was now, and she soon made out that it was only a mouse that had\\n',\n",
       " 'slipped in like herself.\\n',\n",
       " '“Would it be of any use, now,” thought Alice, “to speak to this mouse?\\n',\n",
       " 'Everything is so out-of-the-way down here, that I should think very\\n',\n",
       " 'likely it can talk: at any rate, there’s no harm in trying.” So she\\n',\n",
       " 'began: “O Mouse, do you know the way out of this pool? I am very tired\\n',\n",
       " 'of swimming about here, O Mouse!” (Alice thought this must be the right\\n',\n",
       " 'way of speaking to a mouse: she had never done such a thing before, but\\n',\n",
       " 'she remembered having seen in her brother’s Latin Grammar, “A mouse—of\\n',\n",
       " 'a mouse—to a mouse—a mouse—O mouse!”) The Mouse looked at her rather\\n',\n",
       " 'inquisitively, and seemed to her to wink with one of its little eyes,\\n',\n",
       " 'but it said nothing.\\n',\n",
       " '“Perhaps it doesn’t understand English,” thought Alice; “I daresay it’s\\n',\n",
       " 'a French mouse, come over with William the Conqueror.” (For, with all\\n',\n",
       " 'her knowledge of history, Alice had no very clear notion how long ago\\n',\n",
       " 'anything had happened.) So she began again: “Où est ma chatte?” which\\n',\n",
       " 'was the first sentence in her French lesson-book. The Mouse gave a\\n',\n",
       " 'sudden leap out of the water, and seemed to quiver all over with\\n',\n",
       " 'fright. “Oh, I beg your pardon!” cried Alice hastily, afraid that she\\n',\n",
       " 'had hurt the poor animal’s feelings. “I quite forgot you didn’t like\\n',\n",
       " 'cats.”\\n',\n",
       " '“Not like cats!” cried the Mouse, in a shrill, passionate voice. “Would\\n',\n",
       " '_you_ like cats if you were me?”\\n',\n",
       " '“Well, perhaps not,” said Alice in a soothing tone: “don’t be angry\\n',\n",
       " 'about it. And yet I wish I could show you our cat Dinah: I think you’d\\n',\n",
       " 'take a fancy to cats if you could only see her. She is such a dear\\n',\n",
       " 'quiet thing,” Alice went on, half to herself, as she swam lazily about\\n',\n",
       " 'in the pool, “and she sits purring so nicely by the fire, licking her\\n',\n",
       " 'paws and washing her face—and she is such a nice soft thing to\\n',\n",
       " 'nurse—and she’s such a capital one for catching mice—oh, I beg your\\n',\n",
       " 'pardon!” cried Alice again, for this time the Mouse was bristling all\\n',\n",
       " 'over, and she felt certain it must be really offended. “We won’t talk\\n',\n",
       " 'about her any more if you’d rather not.”\\n',\n",
       " '“We indeed!” cried the Mouse, who was trembling down to the end of his\\n',\n",
       " 'tail. “As if _I_ would talk on such a subject! Our family always\\n',\n",
       " '_hated_ cats: nasty, low, vulgar things! Don’t let me hear the name\\n',\n",
       " 'again!”\\n',\n",
       " '“I won’t indeed!” said Alice, in a great hurry to change the subject of\\n',\n",
       " 'conversation. “Are you—are you fond—of—of dogs?” The Mouse did not\\n',\n",
       " 'answer, so Alice went on eagerly: “There is such a nice little dog near\\n',\n",
       " 'our house I should like to show you! A little bright-eyed terrier, you\\n',\n",
       " 'know, with oh, such long curly brown hair! And it’ll fetch things when\\n',\n",
       " 'you throw them, and it’ll sit up and beg for its dinner, and all sorts\\n',\n",
       " 'of things—I can’t remember half of them—and it belongs to a farmer, you\\n',\n",
       " 'know, and he says it’s so useful, it’s worth a hundred pounds! He says\\n',\n",
       " 'it kills all the rats and—oh dear!” cried Alice in a sorrowful tone,\\n',\n",
       " '“I’m afraid I’ve offended it again!” For the Mouse was swimming away\\n',\n",
       " 'from her as hard as it could go, and making quite a commotion in the\\n',\n",
       " 'pool as it went.\\n',\n",
       " 'So she called softly after it, “Mouse dear! Do come back again, and we\\n',\n",
       " 'won’t talk about cats or dogs either, if you don’t like them!” When the\\n',\n",
       " 'Mouse heard this, it turned round and swam slowly back to her: its face\\n',\n",
       " 'was quite pale (with passion, Alice thought), and it said in a low\\n',\n",
       " 'trembling voice, “Let us get to the shore, and then I’ll tell you my\\n',\n",
       " 'history, and you’ll understand why it is I hate cats and dogs.”\\n',\n",
       " 'It was high time to go, for the pool was getting quite crowded with the\\n',\n",
       " 'birds and animals that had fallen into it: there were a Duck and a\\n',\n",
       " 'Dodo, a Lory and an Eaglet, and several other curious creatures. Alice\\n',\n",
       " 'led the way, and the whole party swam to the shore.\\n',\n",
       " 'CHAPTER III.\\n',\n",
       " 'A Caucus-Race and a Long Tale\\n',\n",
       " 'They were indeed a queer-looking party that assembled on the bank—the\\n',\n",
       " 'birds with draggled feathers, the animals with their fur clinging close\\n',\n",
       " 'to them, and all dripping wet, cross, and uncomfortable.\\n',\n",
       " 'The first question of course was, how to get dry again: they had a\\n',\n",
       " 'consultation about this, and after a few minutes it seemed quite\\n',\n",
       " 'natural to Alice to find herself talking familiarly with them, as if\\n',\n",
       " 'she had known them all her life. Indeed, she had quite a long argument\\n',\n",
       " 'with the Lory, who at last turned sulky, and would only say, “I am\\n',\n",
       " 'older than you, and must know better;” and this Alice would not allow\\n',\n",
       " 'without knowing how old it was, and, as the Lory positively refused to\\n',\n",
       " 'tell its age, there was no more to be said.\\n',\n",
       " 'At last the Mouse, who seemed to be a person of authority among them,\\n',\n",
       " 'called out, “Sit down, all of you, and listen to me! _I’ll_ soon make\\n',\n",
       " 'you dry enough!” They all sat down at once, in a large ring, with the\\n',\n",
       " 'Mouse in the middle. Alice kept her eyes anxiously fixed on it, for she\\n',\n",
       " 'felt sure she would catch a bad cold if she did not get dry very soon.\\n',\n",
       " '“Ahem!” said the Mouse with an important air, “are you all ready? This\\n',\n",
       " 'is the driest thing I know. Silence all round, if you please! ‘William\\n',\n",
       " 'the Conqueror, whose cause was favoured by the pope, was soon submitted\\n',\n",
       " 'to by the English, who wanted leaders, and had been of late much\\n',\n",
       " 'accustomed to usurpation and conquest. Edwin and Morcar, the earls of\\n',\n",
       " 'Mercia and Northumbria—’”\\n',\n",
       " '“Ugh!” said the Lory, with a shiver.\\n',\n",
       " '“I beg your pardon!” said the Mouse, frowning, but very politely: “Did\\n',\n",
       " 'you speak?”\\n',\n",
       " '“Not I!” said the Lory hastily.\\n',\n",
       " '“I thought you did,” said the Mouse. “—I proceed. ‘Edwin and Morcar,\\n',\n",
       " 'the earls of Mercia and Northumbria, declared for him: and even\\n',\n",
       " 'Stigand, the patriotic archbishop of Canterbury, found it advisable—’”\\n',\n",
       " '“Found _what_?” said the Duck.\\n',\n",
       " '“Found _it_,” the Mouse replied rather crossly: “of course you know\\n',\n",
       " 'what ‘it’ means.”\\n',\n",
       " '“I know what ‘it’ means well enough, when _I_ find a thing,” said the\\n',\n",
       " 'Duck: “it’s generally a frog or a worm. The question is, what did the\\n',\n",
       " 'archbishop find?”\\n',\n",
       " 'The Mouse did not notice this question, but hurriedly went on, “‘—found\\n',\n",
       " 'it advisable to go with Edgar Atheling to meet William and offer him\\n',\n",
       " 'the crown. William’s conduct at first was moderate. But the insolence\\n',\n",
       " 'of his Normans—’ How are you getting on now, my dear?” it continued,\\n',\n",
       " 'turning to Alice as it spoke.\\n',\n",
       " '“As wet as ever,” said Alice in a melancholy tone: “it doesn’t seem to\\n',\n",
       " 'dry me at all.”\\n',\n",
       " '“In that case,” said the Dodo solemnly, rising to its feet, “I move\\n',\n",
       " 'that the meeting adjourn, for the immediate adoption of more energetic\\n',\n",
       " 'remedies—”\\n',\n",
       " '“Speak English!” said the Eaglet. “I don’t know the meaning of half\\n',\n",
       " 'those long words, and, what’s more, I don’t believe you do either!” And\\n',\n",
       " 'the Eaglet bent down its head to hide a smile: some of the other birds\\n',\n",
       " 'tittered audibly.\\n',\n",
       " '“What I was going to say,” said the Dodo in an offended tone, “was,\\n',\n",
       " 'that the best thing to get us dry would be a Caucus-race.”\\n',\n",
       " '“What _is_ a Caucus-race?” said Alice; not that she wanted much to\\n',\n",
       " 'know, but the Dodo had paused as if it thought that _somebody_ ought to\\n',\n",
       " 'speak, and no one else seemed inclined to say anything.\\n',\n",
       " '“Why,” said the Dodo, “the best way to explain it is to do it.” (And,\\n',\n",
       " 'as you might like to try the thing yourself, some winter day, I will\\n',\n",
       " 'tell you how the Dodo managed it.)\\n',\n",
       " 'First it marked out a race-course, in a sort of circle, (“the exact\\n',\n",
       " 'shape doesn’t matter,” it said,) and then all the party were placed\\n',\n",
       " 'along the course, here and there. There was no “One, two, three, and\\n',\n",
       " 'away,” but they began running when they liked, and left off when they\\n',\n",
       " 'liked, so that it was not easy to know when the race was over. However,\\n',\n",
       " 'when they had been running half an hour or so, and were quite dry\\n',\n",
       " 'again, the Dodo suddenly called out “The race is over!” and they all\\n',\n",
       " 'crowded round it, panting, and asking, “But who has won?”\\n',\n",
       " 'This question the Dodo could not answer without a great deal of\\n',\n",
       " 'thought, and it sat for a long time with one finger pressed upon its\\n',\n",
       " 'forehead (the position in which you usually see Shakespeare, in the\\n',\n",
       " 'pictures of him), while the rest waited in silence. At last the Dodo\\n',\n",
       " 'said, “_Everybody_ has won, and all must have prizes.”\\n',\n",
       " '“But who is to give the prizes?” quite a chorus of voices asked.\\n',\n",
       " '“Why, _she_, of course,” said the Dodo, pointing to Alice with one\\n',\n",
       " 'finger; and the whole party at once crowded round her, calling out in a\\n',\n",
       " 'confused way, “Prizes! Prizes!”\\n',\n",
       " 'Alice had no idea what to do, and in despair she put her hand in her\\n',\n",
       " 'pocket, and pulled out a box of comfits, (luckily the salt water had\\n',\n",
       " 'not got into it), and handed them round as prizes. There was exactly\\n',\n",
       " 'one a-piece, all round.\\n',\n",
       " '“But she must have a prize herself, you know,” said the Mouse.\\n',\n",
       " '“Of course,” the Dodo replied very gravely. “What else have you got in\\n',\n",
       " 'your pocket?” he went on, turning to Alice.\\n',\n",
       " '“Only a thimble,” said Alice sadly.\\n',\n",
       " '“Hand it over here,” said the Dodo.\\n',\n",
       " 'Then they all crowded round her once more, while the Dodo solemnly\\n',\n",
       " 'presented the thimble, saying “We beg your acceptance of this elegant\\n',\n",
       " 'thimble;” and, when it had finished this short speech, they all\\n',\n",
       " 'cheered.\\n',\n",
       " 'Alice thought the whole thing very absurd, but they all looked so grave\\n',\n",
       " 'that she did not dare to laugh; and, as she could not think of anything\\n',\n",
       " 'to say, she simply bowed, and took the thimble, looking as solemn as\\n',\n",
       " 'she could.\\n',\n",
       " 'The next thing was to eat the comfits: this caused some noise and\\n',\n",
       " 'confusion, as the large birds complained that they could not taste\\n',\n",
       " 'theirs, and the small ones choked and had to be patted on the back.\\n',\n",
       " 'However, it was over at last, and they sat down again in a ring, and\\n',\n",
       " 'begged the Mouse to tell them something more.\\n',\n",
       " '“You promised to tell me your history, you know,” said Alice, “and why\\n',\n",
       " 'it is you hate—C and D,” she added in a whisper, half afraid that it\\n',\n",
       " 'would be offended again.\\n',\n",
       " '“Mine is a long and a sad tale!” said the Mouse, turning to Alice, and\\n',\n",
       " 'sighing.\\n',\n",
       " '“It _is_ a long tail, certainly,” said Alice, looking down with wonder\\n',\n",
       " 'at the Mouse’s tail; “but why do you call it sad?” And she kept on\\n',\n",
       " 'puzzling about it while the Mouse was speaking, so that her idea of the\\n',\n",
       " 'tale was something like this:—\\n',\n",
       " '         “Fury said to a mouse, That he met in the house, ‘Let us both\\n',\n",
       " '         go to law: _I_ will prosecute _you_.—Come, I’ll take no\\n',\n",
       " '         denial; We must have a trial: For really this morning I’ve\\n',\n",
       " '         nothing to do.’ Said the mouse to the cur, ‘Such a trial, dear\\n',\n",
       " '         sir, With no jury or judge, would be wasting our breath.’\\n',\n",
       " '         ‘I’ll be judge, I’ll be jury,’ Said cunning old Fury: ‘I’ll\\n',\n",
       " '         try the whole cause, and condemn you to death.’”\\n',\n",
       " '“You are not attending!” said the Mouse to Alice severely. “What are\\n',\n",
       " 'you thinking of?”\\n',\n",
       " '“I beg your pardon,” said Alice very humbly: “you had got to the fifth\\n',\n",
       " 'bend, I think?”\\n',\n",
       " '“I had _not!_” cried the Mouse, sharply and very angrily.\\n',\n",
       " '“A knot!” said Alice, always ready to make herself useful, and looking\\n',\n",
       " 'anxiously about her. “Oh, do let me help to undo it!”\\n',\n",
       " '“I shall do nothing of the sort,” said the Mouse, getting up and\\n',\n",
       " 'walking away. “You insult me by talking such nonsense!”\\n',\n",
       " '“I didn’t mean it!” pleaded poor Alice. “But you’re so easily offended,\\n',\n",
       " 'you know!”\\n',\n",
       " 'The Mouse only growled in reply.\\n',\n",
       " '“Please come back and finish your story!” Alice called after it; and\\n',\n",
       " 'the others all joined in chorus, “Yes, please do!” but the Mouse only\\n',\n",
       " 'shook its head impatiently, and walked a little quicker.\\n',\n",
       " '“What a pity it wouldn’t stay!” sighed the Lory, as soon as it was\\n',\n",
       " 'quite out of sight; and an old Crab took the opportunity of saying to\\n',\n",
       " 'her daughter “Ah, my dear! Let this be a lesson to you never to lose\\n',\n",
       " '_your_ temper!” “Hold your tongue, Ma!” said the young Crab, a little\\n',\n",
       " 'snappishly. “You’re enough to try the patience of an oyster!”\\n',\n",
       " '“I wish I had our Dinah here, I know I do!” said Alice aloud,\\n',\n",
       " 'addressing nobody in particular. “She’d soon fetch it back!”\\n',\n",
       " '“And who is Dinah, if I might venture to ask the question?” said the\\n',\n",
       " 'Lory.\\n',\n",
       " 'Alice replied eagerly, for she was always ready to talk about her pet:\\n',\n",
       " '“Dinah’s our cat. And she’s such a capital one for catching mice you\\n',\n",
       " 'can’t think! And oh, I wish you could see her after the birds! Why,\\n',\n",
       " 'she’ll eat a little bird as soon as look at it!”\\n',\n",
       " 'This speech caused a remarkable sensation among the party. Some of the\\n',\n",
       " 'birds hurried off at once: one old Magpie began wrapping itself up very\\n',\n",
       " 'carefully, remarking, “I really must be getting home; the night-air\\n',\n",
       " 'doesn’t suit my throat!” and a Canary called out in a trembling voice\\n',\n",
       " 'to its children, “Come away, my dears! It’s high time you were all in\\n',\n",
       " 'bed!” On various pretexts they all moved off, and Alice was soon left\\n',\n",
       " 'alone.\\n',\n",
       " '“I wish I hadn’t mentioned Dinah!” she said to herself in a melancholy\\n',\n",
       " 'tone. “Nobody seems to like her, down here, and I’m sure she’s the best\\n',\n",
       " 'cat in the world! Oh, my dear Dinah! I wonder if I shall ever see you\\n',\n",
       " 'any more!” And here poor Alice began to cry again, for she felt very\\n',\n",
       " 'lonely and low-spirited. In a little while, however, she again heard a\\n',\n",
       " 'little pattering of footsteps in the distance, and she looked up\\n',\n",
       " 'eagerly, half hoping that the Mouse had changed his mind, and was\\n',\n",
       " 'coming back to finish his story.\\n',\n",
       " 'CHAPTER IV.\\n',\n",
       " 'The Rabbit Sends in a Little Bill\\n',\n",
       " 'It was the White Rabbit, trotting slowly back again, and looking\\n',\n",
       " 'anxiously about as it went, as if it had lost something; and she heard\\n',\n",
       " 'it muttering to itself “The Duchess! The Duchess! Oh my dear paws! Oh\\n',\n",
       " 'my fur and whiskers! She’ll get me executed, as sure as ferrets are\\n',\n",
       " 'ferrets! Where _can_ I have dropped them, I wonder?” Alice guessed in a\\n',\n",
       " 'moment that it was looking for the fan and the pair of white kid\\n',\n",
       " 'gloves, and she very good-naturedly began hunting about for them, but\\n',\n",
       " 'they were nowhere to be seen—everything seemed to have changed since\\n',\n",
       " 'her swim in the pool, and the great hall, with the glass table and the\\n',\n",
       " 'little door, had vanished completely.\\n',\n",
       " 'Very soon the Rabbit noticed Alice, as she went hunting about, and\\n',\n",
       " 'called out to her in an angry tone, “Why, Mary Ann, what _are_ you\\n',\n",
       " 'doing out here? Run home this moment, and fetch me a pair of gloves and\\n',\n",
       " 'a fan! Quick, now!” And Alice was so much frightened that she ran off\\n',\n",
       " 'at once in the direction it pointed to, without trying to explain the\\n',\n",
       " 'mistake it had made.\\n',\n",
       " '“He took me for his housemaid,” she said to herself as she ran. “How\\n',\n",
       " 'surprised he’ll be when he finds out who I am! But I’d better take him\\n',\n",
       " 'his fan and gloves—that is, if I can find them.” As she said this, she\\n',\n",
       " 'came upon a neat little house, on the door of which was a bright brass\\n',\n",
       " 'plate with the name “W. RABBIT,” engraved upon it. She went in without\\n',\n",
       " 'knocking, and hurried upstairs, in great fear lest she should meet the\\n',\n",
       " 'real Mary Ann, and be turned out of the house before she had found the\\n',\n",
       " 'fan and gloves.\\n',\n",
       " '“How queer it seems,” Alice said to herself, “to be going messages for\\n',\n",
       " 'a rabbit! I suppose Dinah’ll be sending me on messages next!” And she\\n',\n",
       " 'began fancying the sort of thing that would happen: “‘Miss Alice! Come\\n',\n",
       " 'here directly, and get ready for your walk!’ ‘Coming in a minute,\\n',\n",
       " 'nurse! But I’ve got to see that the mouse doesn’t get out.’ Only I\\n',\n",
       " 'don’t think,” Alice went on, “that they’d let Dinah stop in the house\\n',\n",
       " 'if it began ordering people about like that!”\\n',\n",
       " 'By this time she had found her way into a tidy little room with a table\\n',\n",
       " 'in the window, and on it (as she had hoped) a fan and two or three\\n',\n",
       " 'pairs of tiny white kid gloves: she took up the fan and a pair of the\\n',\n",
       " 'gloves, and was just going to leave the room, when her eye fell upon a\\n',\n",
       " 'little bottle that stood near the looking-glass. There was no label\\n',\n",
       " 'this time with the words “DRINK ME,” but nevertheless she uncorked it\\n',\n",
       " 'and put it to her lips. “I know _something_ interesting is sure to\\n',\n",
       " 'happen,” she said to herself, “whenever I eat or drink anything; so\\n',\n",
       " 'I’ll just see what this bottle does. I do hope it’ll make me grow large\\n',\n",
       " 'again, for really I’m quite tired of being such a tiny little thing!”\\n',\n",
       " 'It did so indeed, and much sooner than she had expected: before she had\\n',\n",
       " 'drunk half the bottle, she found her head pressing against the ceiling,\\n',\n",
       " 'and had to stoop to save her neck from being broken. She hastily put\\n',\n",
       " 'down the bottle, saying to herself “That’s quite enough—I hope I shan’t\\n',\n",
       " 'grow any more—As it is, I can’t get out at the door—I do wish I hadn’t\\n',\n",
       " 'drunk quite so much!”\\n',\n",
       " 'Alas! it was too late to wish that! She went on growing, and growing,\\n',\n",
       " 'and very soon had to kneel down on the floor: in another minute there\\n',\n",
       " 'was not even room for this, and she tried the effect of lying down with\\n',\n",
       " 'one elbow against the door, and the other arm curled round her head.\\n',\n",
       " 'Still she went on growing, and, as a last resource, she put one arm out\\n',\n",
       " 'of the window, and one foot up the chimney, and said to herself “Now I\\n',\n",
       " 'can do no more, whatever happens. What _will_ become of me?”\\n',\n",
       " 'Luckily for Alice, the little magic bottle had now had its full effect,\\n',\n",
       " 'and she grew no larger: still it was very uncomfortable, and, as there\\n',\n",
       " 'seemed to be no sort of chance of her ever getting out of the room\\n',\n",
       " 'again, no wonder she felt unhappy.\\n',\n",
       " '“It was much pleasanter at home,” thought poor Alice, “when one wasn’t\\n',\n",
       " 'always growing larger and smaller, and being ordered about by mice and\\n',\n",
       " 'rabbits. I almost wish I hadn’t gone down that rabbit-hole—and yet—and\\n',\n",
       " 'yet—it’s rather curious, you know, this sort of life! I do wonder what\\n',\n",
       " '_can_ have happened to me! When I used to read fairy-tales, I fancied\\n',\n",
       " 'that kind of thing never happened, and now here I am in the middle of\\n',\n",
       " 'one! There ought to be a book written about me, that there ought! And\\n',\n",
       " 'when I grow up, I’ll write one—but I’m grown up now,” she added in a\\n',\n",
       " 'sorrowful tone; “at least there’s no room to grow up any more _here_.”\\n',\n",
       " '“But then,” thought Alice, “shall I _never_ get any older than I am\\n',\n",
       " 'now? That’ll be a comfort, one way—never to be an old woman—but\\n',\n",
       " 'then—always to have lessons to learn! Oh, I shouldn’t like _that!_”\\n',\n",
       " '“Oh, you foolish Alice!” she answered herself. “How can you learn\\n',\n",
       " 'lessons in here? Why, there’s hardly room for _you_, and no room at all\\n',\n",
       " 'for any lesson-books!”\\n',\n",
       " 'And so she went on, taking first one side and then the other, and\\n',\n",
       " 'making quite a conversation of it altogether; but after a few minutes\\n',\n",
       " 'she heard a voice outside, and stopped to listen.\\n',\n",
       " '“Mary Ann! Mary Ann!” said the voice. “Fetch me my gloves this moment!”\\n',\n",
       " 'Then came a little pattering of feet on the stairs. Alice knew it was\\n',\n",
       " 'the Rabbit coming to look for her, and she trembled till she shook the\\n',\n",
       " 'house, quite forgetting that she was now about a thousand times as\\n',\n",
       " 'large as the Rabbit, and had no reason to be afraid of it.\\n',\n",
       " 'Presently the Rabbit came up to the door, and tried to open it; but, as\\n',\n",
       " 'the door opened inwards, and Alice’s elbow was pressed hard against it,\\n',\n",
       " 'that attempt proved a failure. Alice heard it say to itself “Then I’ll\\n',\n",
       " 'go round and get in at the window.”\\n',\n",
       " '“_That_ you won’t!” thought Alice, and, after waiting till she fancied\\n',\n",
       " 'she heard the Rabbit just under the window, she suddenly spread out her\\n',\n",
       " 'hand, and made a snatch in the air. She did not get hold of anything,\\n',\n",
       " 'but she heard a little shriek and a fall, and a crash of broken glass,\\n',\n",
       " 'from which she concluded that it was just possible it had fallen into a\\n',\n",
       " 'cucumber-frame, or something of the sort.\\n',\n",
       " 'Next came an angry voice—the Rabbit’s—“Pat! Pat! Where are you?” And\\n',\n",
       " 'then a voice she had never heard before, “Sure then I’m here! Digging\\n',\n",
       " 'for apples, yer honour!”\\n',\n",
       " '“Digging for apples, indeed!” said the Rabbit angrily. “Here! Come and\\n',\n",
       " 'help me out of _this!_” (Sounds of more broken glass.)\\n',\n",
       " '“Now tell me, Pat, what’s that in the window?”\\n',\n",
       " '“Sure, it’s an arm, yer honour!” (He pronounced it “arrum.”)\\n',\n",
       " '“An arm, you goose! Who ever saw one that size? Why, it fills the whole\\n',\n",
       " 'window!”\\n',\n",
       " '“Sure, it does, yer honour: but it’s an arm for all that.”\\n',\n",
       " '“Well, it’s got no business there, at any rate: go and take it away!”\\n',\n",
       " 'There was a long silence after this, and Alice could only hear whispers\\n',\n",
       " 'now and then; such as, “Sure, I don’t like it, yer honour, at all, at\\n',\n",
       " 'all!” “Do as I tell you, you coward!” and at last she spread out her\\n',\n",
       " 'hand again, and made another snatch in the air. This time there were\\n',\n",
       " '_two_ little shrieks, and more sounds of broken glass. “What a number\\n',\n",
       " 'of cucumber-frames there must be!” thought Alice. “I wonder what\\n',\n",
       " 'they’ll do next! As for pulling me out of the window, I only wish they\\n',\n",
       " '_could!_ I’m sure _I_ don’t want to stay in here any longer!”\\n',\n",
       " 'She waited for some time without hearing anything more: at last came a\\n',\n",
       " 'rumbling of little cartwheels, and the sound of a good many voices all\\n',\n",
       " 'talking together: she made out the words: “Where’s the other\\n',\n",
       " 'ladder?—Why, I hadn’t to bring but one; Bill’s got the other—Bill!\\n',\n",
       " 'fetch it here, lad!—Here, put ’em up at this corner—No, tie ’em\\n',\n",
       " 'together first—they don’t reach half high enough yet—Oh! they’ll do\\n',\n",
       " 'well enough; don’t be particular—Here, Bill! catch hold of this\\n',\n",
       " 'rope—Will the roof bear?—Mind that loose slate—Oh, it’s coming down!\\n',\n",
       " 'Heads below!” (a loud crash)—“Now, who did that?—It was Bill, I\\n',\n",
       " 'fancy—Who’s to go down the chimney?—Nay, _I_ shan’t! _You_ do\\n',\n",
       " 'it!—_That_ I won’t, then!—Bill’s to go down—Here, Bill! the master says\\n',\n",
       " 'you’re to go down the chimney!”\\n',\n",
       " '“Oh! So Bill’s got to come down the chimney, has he?” said Alice to\\n',\n",
       " 'herself. “Shy, they seem to put everything upon Bill! I wouldn’t be in\\n',\n",
       " 'Bill’s place for a good deal: this fireplace is narrow, to be sure; but\\n',\n",
       " 'I _think_ I can kick a little!”\\n',\n",
       " 'She drew her foot as far down the chimney as she could, and waited till\\n',\n",
       " 'she heard a little animal (she couldn’t guess of what sort it was)\\n',\n",
       " 'scratching and scrambling about in the chimney close above her: then,\\n',\n",
       " 'saying to herself “This is Bill,” she gave one sharp kick, and waited\\n',\n",
       " 'to see what would happen next.\\n',\n",
       " 'The first thing she heard was a general chorus of “There goes Bill!”\\n',\n",
       " 'then the Rabbit’s voice along—“Catch him, you by the hedge!” then\\n',\n",
       " 'silence, and then another confusion of voices—“Hold up his head—Brandy\\n',\n",
       " 'now—Don’t choke him—How was it, old fellow? What happened to you? Tell\\n',\n",
       " 'us all about it!”\\n',\n",
       " 'Last came a little feeble, squeaking voice, (“That’s Bill,” thought\\n',\n",
       " 'Alice,) “Well, I hardly know—No more, thank ye; I’m better now—but I’m\\n',\n",
       " 'a deal too flustered to tell you—all I know is, something comes at me\\n',\n",
       " 'like a Jack-in-the-box, and up I goes like a sky-rocket!”\\n',\n",
       " '“So you did, old fellow!” said the others.\\n',\n",
       " '“We must burn the house down!” said the Rabbit’s voice; and Alice\\n',\n",
       " 'called out as loud as she could, “If you do, I’ll set Dinah at you!”\\n',\n",
       " 'There was a dead silence instantly, and Alice thought to herself, “I\\n',\n",
       " 'wonder what they _will_ do next! If they had any sense, they’d take the\\n',\n",
       " 'roof off.” After a minute or two, they began moving about again, and\\n',\n",
       " 'Alice heard the Rabbit say, “A barrowful will do, to begin with.”\\n',\n",
       " '“A barrowful of _what?_” thought Alice; but she had not long to doubt,\\n',\n",
       " 'for the next moment a shower of little pebbles came rattling in at the\\n',\n",
       " 'window, and some of them hit her in the face. “I’ll put a stop to\\n',\n",
       " 'this,” she said to herself, and shouted out, “You’d better not do that\\n',\n",
       " 'again!” which produced another dead silence.\\n',\n",
       " 'Alice noticed with some surprise that the pebbles were all turning into\\n',\n",
       " 'little cakes as they lay on the floor, and a bright idea came into her\\n',\n",
       " 'head. “If I eat one of these cakes,” she thought, “it’s sure to make\\n',\n",
       " '_some_ change in my size; and as it can’t possibly make me larger, it\\n',\n",
       " 'must make me smaller, I suppose.”\\n',\n",
       " 'So she swallowed one of the cakes, and was delighted to find that she\\n',\n",
       " 'began shrinking directly. As soon as she was small enough to get\\n',\n",
       " 'through the door, she ran out of the house, and found quite a crowd of\\n',\n",
       " 'little animals and birds waiting outside. The poor little Lizard, Bill,\\n',\n",
       " 'was in the middle, being held up by two guinea-pigs, who were giving it\\n',\n",
       " 'something out of a bottle. They all made a rush at Alice the moment she\\n',\n",
       " 'appeared; but she ran off as hard as she could, and soon found herself\\n',\n",
       " 'safe in a thick wood.\\n',\n",
       " '“The first thing I’ve got to do,” said Alice to herself, as she\\n',\n",
       " 'wandered about in the wood, “is to grow to my right size again; and the\\n',\n",
       " 'second thing is to find my way into that lovely garden. I think that\\n',\n",
       " 'will be the best plan.”\\n',\n",
       " 'It sounded an excellent plan, no doubt, and very neatly and simply\\n',\n",
       " 'arranged; the only difficulty was, that she had not the smallest idea\\n',\n",
       " 'how to set about it; and while she was peering about anxiously among\\n',\n",
       " 'the trees, a little sharp bark just over her head made her look up in a\\n',\n",
       " 'great hurry.\\n',\n",
       " 'An enormous puppy was looking down at her with large round eyes, and\\n',\n",
       " 'feebly stretching out one paw, trying to touch her. “Poor little\\n',\n",
       " 'thing!” said Alice, in a coaxing tone, and she tried hard to whistle to\\n',\n",
       " 'it; but she was terribly frightened all the time at the thought that it\\n',\n",
       " 'might be hungry, in which case it would be very likely to eat her up in\\n',\n",
       " 'spite of all her coaxing.\\n',\n",
       " 'Hardly knowing what she did, she picked up a little bit of stick, and\\n',\n",
       " 'held it out to the puppy; whereupon the puppy jumped into the air off\\n',\n",
       " 'all its feet at once, with a yelp of delight, and rushed at the stick,\\n',\n",
       " 'and made believe to worry it; then Alice dodged behind a great thistle,\\n',\n",
       " 'to keep herself from being run over; and the moment she appeared on the\\n',\n",
       " 'other side, the puppy made another rush at the stick, and tumbled head\\n',\n",
       " 'over heels in its hurry to get hold of it; then Alice, thinking it was\\n',\n",
       " 'very like having a game of play with a cart-horse, and expecting every\\n',\n",
       " 'moment to be trampled under its feet, ran round the thistle again; then\\n',\n",
       " 'the puppy began a series of short charges at the stick, running a very\\n',\n",
       " 'little way forwards each time and a long way back, and barking hoarsely\\n',\n",
       " 'all the while, till at last it sat down a good way off, panting, with\\n',\n",
       " 'its tongue hanging out of its mouth, and its great eyes half shut.\\n',\n",
       " 'This seemed to Alice a good opportunity for making her escape; so she\\n',\n",
       " 'set off at once, and ran till she was quite tired and out of breath,\\n',\n",
       " 'and till the puppy’s bark sounded quite faint in the distance.\\n',\n",
       " '“And yet what a dear little puppy it was!” said Alice, as she leant\\n',\n",
       " 'against a buttercup to rest herself, and fanned herself with one of the\\n',\n",
       " 'leaves: “I should have liked teaching it tricks very much, if—if I’d\\n',\n",
       " 'only been the right size to do it! Oh dear! I’d nearly forgotten that\\n',\n",
       " 'I’ve got to grow up again! Let me see—how _is_ it to be managed? I\\n',\n",
       " 'suppose I ought to eat or drink something or other; but the great\\n',\n",
       " 'question is, what?”\\n',\n",
       " 'The great question certainly was, what? Alice looked all round her at\\n',\n",
       " 'the flowers and the blades of grass, but she did not see anything that\\n',\n",
       " 'looked like the right thing to eat or drink under the circumstances.\\n',\n",
       " 'There was a large mushroom growing near her, about the same height as\\n',\n",
       " 'herself; and when she had looked under it, and on both sides of it, and\\n',\n",
       " 'behind it, it occurred to her that she might as well look and see what\\n',\n",
       " 'was on the top of it.\\n',\n",
       " 'She stretched herself up on tiptoe, and peeped over the edge of the\\n',\n",
       " 'mushroom, and her eyes immediately met those of a large blue\\n',\n",
       " 'caterpillar, that was sitting on the top with its arms folded, quietly\\n',\n",
       " 'smoking a long hookah, and taking not the smallest notice of her or of\\n',\n",
       " 'anything else.\\n',\n",
       " 'CHAPTER V.\\n',\n",
       " 'Advice from a Caterpillar\\n',\n",
       " 'The Caterpillar and Alice looked at each other for some time in\\n',\n",
       " 'silence: at last the Caterpillar took the hookah out of its mouth, and\\n',\n",
       " 'addressed her in a languid, sleepy voice.\\n',\n",
       " '“Who are _you?_” said the Caterpillar.\\n',\n",
       " 'This was not an encouraging opening for a conversation. Alice replied,\\n',\n",
       " 'rather shyly, “I—I hardly know, sir, just at present—at least I know\\n',\n",
       " 'who I _was_ when I got up this morning, but I think I must have been\\n',\n",
       " 'changed several times since then.”\\n',\n",
       " '“What do you mean by that?” said the Caterpillar sternly. “Explain\\n',\n",
       " 'yourself!”\\n',\n",
       " '“I can’t explain _myself_, I’m afraid, sir,” said Alice, “because I’m\\n',\n",
       " 'not myself, you see.”\\n',\n",
       " '“I don’t see,” said the Caterpillar.\\n',\n",
       " '“I’m afraid I can’t put it more clearly,” Alice replied very politely,\\n',\n",
       " '“for I can’t understand it myself to begin with; and being so many\\n',\n",
       " 'different sizes in a day is very confusing.”\\n',\n",
       " '“It isn’t,” said the Caterpillar.\\n',\n",
       " '“Well, perhaps you haven’t found it so yet,” said Alice; “but when you\\n',\n",
       " 'have to turn into a chrysalis—you will some day, you know—and then\\n',\n",
       " 'after that into a butterfly, I should think you’ll feel it a little\\n',\n",
       " 'queer, won’t you?”\\n',\n",
       " '“Not a bit,” said the Caterpillar.\\n',\n",
       " '“Well, perhaps your feelings may be different,” said Alice; “all I know\\n',\n",
       " 'is, it would feel very queer to _me_.”\\n',\n",
       " '“You!” said the Caterpillar contemptuously. “Who are _you?_”\\n',\n",
       " 'Which brought them back again to the beginning of the conversation.\\n',\n",
       " 'Alice felt a little irritated at the Caterpillar’s making such _very_\\n',\n",
       " 'short remarks, and she drew herself up and said, very gravely, “I\\n',\n",
       " 'think, you ought to tell me who _you_ are, first.”\\n',\n",
       " '“Why?” said the Caterpillar.\\n',\n",
       " 'Here was another puzzling question; and as Alice could not think of any\\n',\n",
       " 'good reason, and as the Caterpillar seemed to be in a _very_ unpleasant\\n',\n",
       " 'state of mind, she turned away.\\n',\n",
       " '“Come back!” the Caterpillar called after her. “I’ve something\\n',\n",
       " 'important to say!”\\n',\n",
       " 'This sounded promising, certainly: Alice turned and came back again.\\n',\n",
       " '“Keep your temper,” said the Caterpillar.\\n',\n",
       " '“Is that all?” said Alice, swallowing down her anger as well as she\\n',\n",
       " 'could.\\n',\n",
       " '“No,” said the Caterpillar.\\n',\n",
       " 'Alice thought she might as well wait, as she had nothing else to do,\\n',\n",
       " 'and perhaps after all it might tell her something worth hearing. For\\n',\n",
       " 'some minutes it puffed away without speaking, but at last it unfolded\\n',\n",
       " 'its arms, took the hookah out of its mouth again, and said, “So you\\n',\n",
       " 'think you’re changed, do you?”\\n',\n",
       " '“I’m afraid I am, sir,” said Alice; “I can’t remember things as I\\n',\n",
       " 'used—and I don’t keep the same size for ten minutes together!”\\n',\n",
       " '“Can’t remember _what_ things?” said the Caterpillar.\\n',\n",
       " '“Well, I’ve tried to say “How doth the little busy bee,” but it all\\n',\n",
       " 'came different!” Alice replied in a very melancholy voice.\\n',\n",
       " '“Repeat, “_You are old, Father William_,’” said the Caterpillar.\\n',\n",
       " 'Alice folded her hands, and began:—\\n',\n",
       " '“You are old, Father William,” the young man said,\\n',\n",
       " '    “And your hair has become very white;\\n',\n",
       " 'And yet you incessantly stand on your head—\\n',\n",
       " '    Do you think, at your age, it is right?”\\n',\n",
       " '“In my youth,” Father William replied to his son,\\n',\n",
       " '    “I feared it might injure the brain;\\n',\n",
       " 'But, now that I’m perfectly sure I have none,\\n',\n",
       " '    Why, I do it again and again.”\\n',\n",
       " '“You are old,” said the youth, “as I mentioned before,\\n',\n",
       " '    And have grown most uncommonly fat;\\n',\n",
       " 'Yet you turned a back-somersault in at the door—\\n',\n",
       " '    Pray, what is the reason of that?”\\n',\n",
       " '“In my youth,” said the sage, as he shook his grey locks,\\n',\n",
       " '    “I kept all my limbs very supple\\n',\n",
       " 'By the use of this ointment—one shilling the box—\\n',\n",
       " '    Allow me to sell you a couple?”\\n',\n",
       " '“You are old,” said the youth, “and your jaws are too weak\\n',\n",
       " '    For anything tougher than suet;\\n',\n",
       " 'Yet you finished the goose, with the bones and the beak—\\n',\n",
       " '    Pray, how did you manage to do it?”\\n',\n",
       " '“In my youth,” said his father, “I took to the law,\\n',\n",
       " '    And argued each case with my wife;\\n',\n",
       " 'And the muscular strength, which it gave to my jaw,\\n',\n",
       " '    Has lasted the rest of my life.”\\n',\n",
       " '“You are old,” said the youth, “one would hardly suppose\\n',\n",
       " '    That your eye was as steady as ever;\\n',\n",
       " 'Yet you balanced an eel on the end of your nose—\\n',\n",
       " '    What made you so awfully clever?”\\n',\n",
       " '“I have answered three questions, and that is enough,”\\n',\n",
       " '    Said his father; “don’t give yourself airs!\\n',\n",
       " 'Do you think I can listen all day to such stuff?\\n',\n",
       " '    Be off, or I’ll kick you down stairs!”\\n',\n",
       " '“That is not said right,” said the Caterpillar.\\n',\n",
       " '“Not _quite_ right, I’m afraid,” said Alice, timidly; “some of the\\n',\n",
       " 'words have got altered.”\\n',\n",
       " '“It is wrong from beginning to end,” said the Caterpillar decidedly,\\n',\n",
       " 'and there was silence for some minutes.\\n',\n",
       " 'The Caterpillar was the first to speak.\\n',\n",
       " '“What size do you want to be?” it asked.\\n',\n",
       " '“Oh, I’m not particular as to size,” Alice hastily replied; “only one\\n',\n",
       " 'doesn’t like changing so often, you know.”\\n',\n",
       " '“I _don’t_ know,” said the Caterpillar.\\n',\n",
       " 'Alice said nothing: she had never been so much contradicted in her life\\n',\n",
       " 'before, and she felt that she was losing her temper.\\n',\n",
       " '“Are you content now?” said the Caterpillar.\\n',\n",
       " '“Well, I should like to be a _little_ larger, sir, if you wouldn’t\\n',\n",
       " 'mind,” said Alice: “three inches is such a wretched height to be.”\\n',\n",
       " '“It is a very good height indeed!” said the Caterpillar angrily,\\n',\n",
       " 'rearing itself upright as it spoke (it was exactly three inches high).\\n',\n",
       " '“But I’m not used to it!” pleaded poor Alice in a piteous tone. And she\\n',\n",
       " 'thought of herself, “I wish the creatures wouldn’t be so easily\\n',\n",
       " 'offended!”\\n',\n",
       " '“You’ll get used to it in time,” said the Caterpillar; and it put the\\n',\n",
       " 'hookah into its mouth and began smoking again.\\n',\n",
       " 'This time Alice waited patiently until it chose to speak again. In a\\n',\n",
       " 'minute or two the Caterpillar took the hookah out of its mouth and\\n',\n",
       " 'yawned once or twice, and shook itself. Then it got down off the\\n',\n",
       " 'mushroom, and crawled away in the grass, merely remarking as it went,\\n',\n",
       " '“One side will make you grow taller, and the other side will make you\\n',\n",
       " 'grow shorter.”\\n',\n",
       " '“One side of _what?_ The other side of _what?_” thought Alice to\\n',\n",
       " 'herself.\\n',\n",
       " '“Of the mushroom,” said the Caterpillar, just as if she had asked it\\n',\n",
       " 'aloud; and in another moment it was out of sight.\\n',\n",
       " 'Alice remained looking thoughtfully at the mushroom for a minute,\\n',\n",
       " 'trying to make out which were the two sides of it; and as it was\\n',\n",
       " 'perfectly round, she found this a very difficult question. However, at\\n',\n",
       " 'last she stretched her arms round it as far as they would go, and broke\\n',\n",
       " 'off a bit of the edge with each hand.\\n',\n",
       " '“And now which is which?” she said to herself, and nibbled a little of\\n',\n",
       " 'the right-hand bit to try the effect: the next moment she felt a\\n',\n",
       " 'violent blow underneath her chin: it had struck her foot!\\n',\n",
       " 'She was a good deal frightened by this very sudden change, but she felt\\n',\n",
       " 'that there was no time to be lost, as she was shrinking rapidly; so she\\n',\n",
       " 'set to work at once to eat some of the other bit. Her chin was pressed\\n',\n",
       " 'so closely against her foot, that there was hardly room to open her\\n',\n",
       " 'mouth; but she did it at last, and managed to swallow a morsel of the\\n',\n",
       " 'lefthand bit.\\n',\n",
       " '*      *      *      *      *      *      *\\n',\n",
       " '    *      *      *      *      *      *\\n',\n",
       " '*      *      *      *      *      *      *\\n',\n",
       " '“Come, my head’s free at last!” said Alice in a tone of delight, which\\n',\n",
       " 'changed into alarm in another moment, when she found that her shoulders\\n',\n",
       " 'were nowhere to be found: all she could see, when she looked down, was\\n',\n",
       " 'an immense length of neck, which seemed to rise like a stalk out of a\\n',\n",
       " 'sea of green leaves that lay far below her.\\n',\n",
       " '“What _can_ all that green stuff be?” said Alice. “And where _have_ my\\n',\n",
       " 'shoulders got to? And oh, my poor hands, how is it I can’t see you?”\\n',\n",
       " 'She was moving them about as she spoke, but no result seemed to follow,\\n',\n",
       " 'except a little shaking among the distant green leaves.\\n',\n",
       " 'As there seemed to be no chance of getting her hands up to her head,\\n',\n",
       " 'she tried to get her head down to them, and was delighted to find that\\n',\n",
       " 'her neck would bend about easily in any direction, like a serpent. She\\n',\n",
       " 'had just succeeded in curving it down into a graceful zigzag, and was\\n',\n",
       " 'going to dive in among the leaves, which she found to be nothing but\\n',\n",
       " 'the tops of the trees under which she had been wandering, when a sharp\\n',\n",
       " 'hiss made her draw back in a hurry: a large pigeon had flown into her\\n',\n",
       " 'face, and was beating her violently with its wings.\\n',\n",
       " '“Serpent!” screamed the Pigeon.\\n',\n",
       " '“I’m _not_ a serpent!” said Alice indignantly. “Let me alone!”\\n',\n",
       " '“Serpent, I say again!” repeated the Pigeon, but in a more subdued\\n',\n",
       " 'tone, and added with a kind of sob, “I’ve tried every way, and nothing\\n',\n",
       " 'seems to suit them!”\\n',\n",
       " '“I haven’t the least idea what you’re talking about,” said Alice.\\n',\n",
       " '“I’ve tried the roots of trees, and I’ve tried banks, and I’ve tried\\n',\n",
       " 'hedges,” the Pigeon went on, without attending to her; “but those\\n',\n",
       " 'serpents! There’s no pleasing them!”\\n',\n",
       " 'Alice was more and more puzzled, but she thought there was no use in\\n',\n",
       " 'saying anything more till the Pigeon had finished.\\n',\n",
       " '“As if it wasn’t trouble enough hatching the eggs,” said the Pigeon;\\n',\n",
       " '“but I must be on the look-out for serpents night and day! Why, I\\n',\n",
       " 'haven’t had a wink of sleep these three weeks!”\\n',\n",
       " '“I’m very sorry you’ve been annoyed,” said Alice, who was beginning to\\n',\n",
       " 'see its meaning.\\n',\n",
       " '“And just as I’d taken the highest tree in the wood,” continued the\\n',\n",
       " 'Pigeon, raising its voice to a shriek, “and just as I was thinking I\\n',\n",
       " 'should be free of them at last, they must needs come wriggling down\\n',\n",
       " 'from the sky! Ugh, Serpent!”\\n',\n",
       " '“But I’m _not_ a serpent, I tell you!” said Alice. “I’m a—I’m a—”\\n',\n",
       " '“Well! _What_ are you?” said the Pigeon. “I can see you’re trying to\\n',\n",
       " 'invent something!”\\n',\n",
       " '“I—I’m a little girl,” said Alice, rather doubtfully, as she remembered\\n',\n",
       " 'the number of changes she had gone through that day.\\n',\n",
       " '“A likely story indeed!” said the Pigeon in a tone of the deepest\\n',\n",
       " 'contempt. “I’ve seen a good many little girls in my time, but never\\n',\n",
       " '_one_ with such a neck as that! No, no! You’re a serpent; and there’s\\n',\n",
       " 'no use denying it. I suppose you’ll be telling me next that you never\\n',\n",
       " 'tasted an egg!”\\n',\n",
       " '“I _have_ tasted eggs, certainly,” said Alice, who was a very truthful\\n',\n",
       " 'child; “but little girls eat eggs quite as much as serpents do, you\\n',\n",
       " 'know.”\\n',\n",
       " '“I don’t believe it,” said the Pigeon; “but if they do, why then\\n',\n",
       " 'they’re a kind of serpent, that’s all I can say.”\\n',\n",
       " 'This was such a new idea to Alice, that she was quite silent for a\\n',\n",
       " 'minute or two, which gave the Pigeon the opportunity of adding, “You’re\\n',\n",
       " 'looking for eggs, I know _that_ well enough; and what does it matter to\\n',\n",
       " 'me whether you’re a little girl or a serpent?”\\n',\n",
       " '“It matters a good deal to _me_,” said Alice hastily; “but I’m not\\n',\n",
       " 'looking for eggs, as it happens; and if I was, I shouldn’t want\\n',\n",
       " '_yours_: I don’t like them raw.”\\n',\n",
       " '“Well, be off, then!” said the Pigeon in a sulky tone, as it settled\\n',\n",
       " 'down again into its nest. Alice crouched down among the trees as well\\n',\n",
       " 'as she could, for her neck kept getting entangled among the branches,\\n',\n",
       " 'and every now and then she had to stop and untwist it. After a while\\n',\n",
       " 'she remembered that she still held the pieces of mushroom in her hands,\\n',\n",
       " 'and she set to work very carefully, nibbling first at one and then at\\n',\n",
       " 'the other, and growing sometimes taller and sometimes shorter, until\\n',\n",
       " 'she had succeeded in bringing herself down to her usual height.\\n',\n",
       " 'It was so long since she had been anything near the right size, that it\\n',\n",
       " 'felt quite strange at first; but she got used to it in a few minutes,\\n',\n",
       " 'and began talking to herself, as usual. “Come, there’s half my plan\\n',\n",
       " 'done now! How puzzling all these changes are! I’m never sure what I’m\\n',\n",
       " 'going to be, from one minute to another! However, I’ve got back to my\\n',\n",
       " 'right size: the next thing is, to get into that beautiful garden—how\\n',\n",
       " '_is_ that to be done, I wonder?” As she said this, she came suddenly\\n',\n",
       " 'upon an open place, with a little house in it about four feet high.\\n',\n",
       " '“Whoever lives there,” thought Alice, “it’ll never do to come upon them\\n',\n",
       " '_this_ size: why, I should frighten them out of their wits!” So she\\n',\n",
       " 'began nibbling at the righthand bit again, and did not venture to go\\n',\n",
       " 'near the house till she had brought herself down to nine inches high.\\n',\n",
       " 'CHAPTER VI.\\n',\n",
       " 'Pig and Pepper\\n',\n",
       " 'For a minute or two she stood looking at the house, and wondering what\\n',\n",
       " 'to do next, when suddenly a footman in livery came running out of the\\n',\n",
       " 'wood—(she considered him to be a footman because he was in livery:\\n',\n",
       " 'otherwise, judging by his face only, she would have called him a\\n',\n",
       " 'fish)—and rapped loudly at the door with his knuckles. It was opened by\\n',\n",
       " 'another footman in livery, with a round face, and large eyes like a\\n',\n",
       " 'frog; and both footmen, Alice noticed, had powdered hair that curled\\n',\n",
       " 'all over their heads. She felt very curious to know what it was all\\n',\n",
       " 'about, and crept a little way out of the wood to listen.\\n',\n",
       " 'The Fish-Footman began by producing from under his arm a great letter,\\n',\n",
       " 'nearly as large as himself, and this he handed over to the other,\\n',\n",
       " 'saying, in a solemn tone, “For the Duchess. An invitation from the\\n',\n",
       " 'Queen to play croquet.” The Frog-Footman repeated, in the same solemn\\n',\n",
       " 'tone, only changing the order of the words a little, “From the Queen.\\n',\n",
       " 'An invitation for the Duchess to play croquet.”\\n',\n",
       " 'Then they both bowed low, and their curls got entangled together.\\n',\n",
       " 'Alice laughed so much at this, that she had to run back into the wood\\n',\n",
       " 'for fear of their hearing her; and when she next peeped out the\\n',\n",
       " 'Fish-Footman was gone, and the other was sitting on the ground near the\\n',\n",
       " 'door, staring stupidly up into the sky.\\n',\n",
       " 'Alice went timidly up to the door, and knocked.\\n',\n",
       " '“There’s no sort of use in knocking,” said the Footman, “and that for\\n',\n",
       " ...]"
      ]
     },
     "execution_count": 18,
     "metadata": {},
     "output_type": "execute_result"
    }
   ],
   "source": [
    "with open('temp.txt', 'w') as handle:\n",
    "    handle.writelines(x for x in open('alice.txt') if len(x) > 1)\n",
    "    \n",
    "with open('temp.txt') as f:\n",
    "    lines = f.readlines()\n",
    "    \n",
    "lines"
   ]
  },
  {
   "cell_type": "code",
   "execution_count": null,
   "id": "c87a05da",
   "metadata": {},
   "outputs": [],
   "source": []
  }
 ],
 "metadata": {
  "kernelspec": {
   "display_name": "Python 3",
   "language": "python",
   "name": "python3"
  },
  "language_info": {
   "codemirror_mode": {
    "name": "ipython",
    "version": 3
   },
   "file_extension": ".py",
   "mimetype": "text/x-python",
   "name": "python",
   "nbconvert_exporter": "python",
   "pygments_lexer": "ipython3",
   "version": "3.8.8"
  }
 },
 "nbformat": 4,
 "nbformat_minor": 5
}

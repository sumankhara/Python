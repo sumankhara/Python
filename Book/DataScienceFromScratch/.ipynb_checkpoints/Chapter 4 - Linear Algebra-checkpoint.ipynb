{
 "cells": [
  {
   "cell_type": "code",
   "execution_count": 1,
   "id": "a10876e2",
   "metadata": {},
   "outputs": [],
   "source": [
    "from typing import List\n",
    "\n",
    "Vector = List[float]"
   ]
  },
  {
   "cell_type": "code",
   "execution_count": 2,
   "id": "0280e1e1",
   "metadata": {},
   "outputs": [],
   "source": [
    "# Vector addition\n",
    "\n",
    "def add(v: Vector, w: Vector) -> Vector:\n",
    "    assert len(v) == len(w), \"vectors must be same length\"\n",
    "    return [v_i + w_i for v_i, w_i in zip(v,w)]\n",
    "\n",
    "assert add([1,2], [3,4]) == [4,6]"
   ]
  },
  {
   "cell_type": "code",
   "execution_count": 4,
   "id": "82432528",
   "metadata": {},
   "outputs": [],
   "source": [
    "# Vector subtraction\n",
    "\n",
    "def subtract(v: Vector, w: Vector) -> Vector:\n",
    "    assert len(v) == len(w), \"vectors must be same length\"\n",
    "    return [v_i - w_i for v_i, w_i in zip(v,w)]\n",
    "\n",
    "assert subtract([1,2], [3,4]) == [-2,-2]"
   ]
  },
  {
   "cell_type": "code",
   "execution_count": 5,
   "id": "b46d1450",
   "metadata": {},
   "outputs": [],
   "source": [
    "# Componentwise sum of a list of vectors—that is, create a new vector whose first element is the sum of all the first elements, \n",
    "# whose second element is the sum of all the second elements, and so on.\n",
    "\n",
    "def vector_sum(vectors: List[Vector]) -> Vector:\n",
    "    assert vectors, \"no vectors provided\"\n",
    "    \n",
    "    num_elements = len(vectors[0])\n",
    "    \n",
    "    assert all(len(v) == num_elements for v in vectors)\n",
    "    \n",
    "    return [sum(vector[i] for vector in vectors)\n",
    "           for i in range(num_elements)]\n",
    "\n",
    "assert vector_sum([[1,2,3], [2,3,4], [3,4,5]]) == [6,9,12]"
   ]
  },
  {
   "cell_type": "code",
   "execution_count": 6,
   "id": "5117f1df",
   "metadata": {},
   "outputs": [],
   "source": [
    "# Multiply a vector by a scalar\n",
    "\n",
    "def scalar_multiply(c: float, v: Vector) -> Vector:\n",
    "    return [c * v_i for v_i in v]\n",
    "\n",
    "assert scalar_multiply(2, [2,5]) == [4,10]"
   ]
  },
  {
   "cell_type": "code",
   "execution_count": 8,
   "id": "157ed290",
   "metadata": {},
   "outputs": [],
   "source": [
    "# Componentwise means of a list of (same-sized) vectors\n",
    "\n",
    "def vector_mean(vectors: List[Vector]) -> Vector:\n",
    "    n = len(vectors[0])\n",
    "    return scalar_multiply(1/n, vector_sum(vectors))\n",
    "\n",
    "assert vector_mean([[1,2], [3,4]]) == [2,3]"
   ]
  },
  {
   "cell_type": "code",
   "execution_count": 9,
   "id": "992d0434",
   "metadata": {},
   "outputs": [],
   "source": [
    "# dot product\n",
    "\n",
    "def dot(v: Vector, w: Vector) -> float:\n",
    "    assert len(v) == len(w), \"vectors must be same length\"\n",
    "    \n",
    "    return sum(v_i * w_i for v_i, w_i in zip(v,w))\n",
    "\n",
    "assert dot([1, 2, 3], [4, 5, 6]) == 32"
   ]
  },
  {
   "cell_type": "code",
   "execution_count": 11,
   "id": "57066e53",
   "metadata": {},
   "outputs": [],
   "source": [
    "# sum of squares\n",
    "\n",
    "def sum_of_squares(v: Vector) -> float:\n",
    "    return dot(v, v)\n",
    "\n",
    "assert sum_of_squares([2,3]) == 13"
   ]
  },
  {
   "cell_type": "code",
   "execution_count": 12,
   "id": "6b379e86",
   "metadata": {},
   "outputs": [],
   "source": [
    "# magnitude of a vector\n",
    "\n",
    "import math\n",
    "\n",
    "def magnitude(v: Vector) -> float:\n",
    "    return math.sqrt(sum_of_squares(v))\n",
    "\n",
    "assert magnitude([3,4]) == 5"
   ]
  },
  {
   "cell_type": "code",
   "execution_count": 13,
   "id": "a90ebd88",
   "metadata": {},
   "outputs": [],
   "source": [
    "# distance between two vectors\n",
    "\n",
    "def distance(v: Vector, w: Vector) -> float:\n",
    "    return magnitude(subtract(v,w))"
   ]
  },
  {
   "cell_type": "code",
   "execution_count": 14,
   "id": "71cef55b",
   "metadata": {},
   "outputs": [],
   "source": [
    "Matrix = List[List[float]]"
   ]
  },
  {
   "cell_type": "code",
   "execution_count": 15,
   "id": "bb751a0a",
   "metadata": {},
   "outputs": [],
   "source": [
    "from typing import Tuple\n",
    "\n",
    "def shape(A: Matrix) -> Tuple[int, int]:\n",
    "    num_rows = len(A)\n",
    "    num_cols = len(A[0]) if A else 0\n",
    "    \n",
    "    return num_rows, num_cols\n",
    "\n",
    "assert shape([[1,2,3],[4,5,6]]) == (2,3)"
   ]
  },
  {
   "cell_type": "code",
   "execution_count": 16,
   "id": "14f42ca8",
   "metadata": {},
   "outputs": [],
   "source": [
    "def get_row(A: Matrix, i: int) -> Vector:\n",
    "    return A[i]\n",
    "\n",
    "def get_col(A: Matrix, j: int) -> Vector:\n",
    "    return [A_i[j] for A_i in A]\n",
    "\n",
    "assert get_row([[1,2,3],[4,5,6]], 1) == [4,5,6]\n",
    "assert get_col([[1,2,3],[4,5,6]], 1) == [2,5]"
   ]
  },
  {
   "cell_type": "code",
   "execution_count": 17,
   "id": "d2753bca",
   "metadata": {},
   "outputs": [],
   "source": [
    "# create a matrix given its shape and a function for generating its elements\n",
    "\n",
    "from typing import Callable\n",
    "\n",
    "def make_matrix(num_rows: int, num_cols: int, entry_fn: Callable[[int, int], float]) -> Matrix:\n",
    "    return [[entry_fn(i,j) for j in range(num_cols)] for i in range(num_rows)]"
   ]
  },
  {
   "cell_type": "code",
   "execution_count": 19,
   "id": "c5afd6f6",
   "metadata": {},
   "outputs": [],
   "source": [
    "def identity_matrix(n: int) -> Matrix:\n",
    "    return make_matrix(n, n, lambda i, j: 1 if i == j else 0)\n",
    "\n",
    "assert identity_matrix(5) == [[1,0,0,0,0],\n",
    "                            [0,1,0,0,0],\n",
    "                            [0,0,1,0,0],\n",
    "                            [0,0,0,1,0],\n",
    "                            [0,0,0,0,1]]"
   ]
  },
  {
   "cell_type": "code",
   "execution_count": null,
   "id": "4a83aa0e",
   "metadata": {},
   "outputs": [],
   "source": []
  }
 ],
 "metadata": {
  "kernelspec": {
   "display_name": "Python 3",
   "language": "python",
   "name": "python3"
  },
  "language_info": {
   "codemirror_mode": {
    "name": "ipython",
    "version": 3
   },
   "file_extension": ".py",
   "mimetype": "text/x-python",
   "name": "python",
   "nbconvert_exporter": "python",
   "pygments_lexer": "ipython3",
   "version": "3.8.8"
  }
 },
 "nbformat": 4,
 "nbformat_minor": 5
}

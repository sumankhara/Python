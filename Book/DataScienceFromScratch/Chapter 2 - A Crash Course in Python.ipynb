{
 "cells": [
  {
   "cell_type": "code",
   "execution_count": 1,
   "id": "7a7582e3",
   "metadata": {},
   "outputs": [
    {
     "name": "stdout",
     "output_type": "stream",
     "text": [
      "1\n",
      "1\n",
      "2\n",
      "2\n",
      "3\n",
      "3\n",
      "4\n",
      "4\n",
      "5\n",
      "5\n",
      "6\n",
      "1\n",
      "2\n",
      "1\n",
      "3\n",
      "2\n",
      "4\n",
      "3\n",
      "5\n",
      "4\n",
      "6\n",
      "5\n",
      "7\n",
      "2\n",
      "3\n",
      "1\n",
      "4\n",
      "2\n",
      "5\n",
      "3\n",
      "6\n",
      "4\n",
      "7\n",
      "5\n",
      "8\n",
      "3\n",
      "4\n",
      "1\n",
      "5\n",
      "2\n",
      "6\n",
      "3\n",
      "7\n",
      "4\n",
      "8\n",
      "5\n",
      "9\n",
      "4\n",
      "5\n",
      "1\n",
      "6\n",
      "2\n",
      "7\n",
      "3\n",
      "8\n",
      "4\n",
      "9\n",
      "5\n",
      "10\n",
      "5\n",
      "done looping\n"
     ]
    }
   ],
   "source": [
    "for i in [1,2,3,4,5]:\n",
    "    print(i)\n",
    "    for j in [1,2,3,4,5]:\n",
    "        print(j)\n",
    "        print(i+j)\n",
    "    print(i)\n",
    "print(\"done looping\")"
   ]
  },
  {
   "cell_type": "code",
   "execution_count": 2,
   "id": "696b0a71",
   "metadata": {},
   "outputs": [
    {
     "name": "stdout",
     "output_type": "stream",
     "text": [
      "2\n"
     ]
    }
   ],
   "source": [
    "def double(x):\n",
    "    return x * 2\n",
    "\n",
    "def apply_to_one(f):\n",
    "    return f(1)\n",
    "\n",
    "my_double = double\n",
    "x = apply_to_one(my_double)\n",
    "\n",
    "print(x)"
   ]
  },
  {
   "cell_type": "code",
   "execution_count": 3,
   "id": "debbdb1a",
   "metadata": {},
   "outputs": [
    {
     "name": "stdout",
     "output_type": "stream",
     "text": [
      "5\n"
     ]
    }
   ],
   "source": [
    "y = apply_to_one(lambda x: x + 4)\n",
    "print(y)"
   ]
  },
  {
   "cell_type": "code",
   "execution_count": 5,
   "id": "68775337",
   "metadata": {},
   "outputs": [
    {
     "name": "stdout",
     "output_type": "stream",
     "text": [
      "Suman Khara\n",
      "Suman Something\n",
      "What's-his-name Grus\n"
     ]
    }
   ],
   "source": [
    "def full_name(first = \"What's-his-name\", last = \"Something\"):\n",
    "    return first + \" \" + last\n",
    "\n",
    "print(full_name(\"Suman\", \"Khara\"))\n",
    "print(full_name(\"Suman\"))\n",
    "print(full_name(last=\"Grus\"))"
   ]
  },
  {
   "cell_type": "code",
   "execution_count": 6,
   "id": "3be796f8",
   "metadata": {},
   "outputs": [
    {
     "name": "stdout",
     "output_type": "stream",
     "text": [
      "Suman Khara\n"
     ]
    }
   ],
   "source": [
    "first_name = \"Suman\"\n",
    "last_name = \"Khara\"\n",
    "\n",
    "full_name = \"{0} {1}\".format(first_name, last_name)\n",
    "print(full_name)"
   ]
  },
  {
   "cell_type": "code",
   "execution_count": 7,
   "id": "5ba4c165",
   "metadata": {},
   "outputs": [
    {
     "data": {
      "text/plain": [
       "'Suman Khara'"
      ]
     },
     "execution_count": 7,
     "metadata": {},
     "output_type": "execute_result"
    }
   ],
   "source": [
    "f\"{first_name} {last_name}\""
   ]
  },
  {
   "cell_type": "code",
   "execution_count": 8,
   "id": "5aef99db",
   "metadata": {},
   "outputs": [
    {
     "data": {
      "text/plain": [
       "45"
      ]
     },
     "execution_count": 8,
     "metadata": {},
     "output_type": "execute_result"
    }
   ],
   "source": [
    "x = [0,1,2,3,4,5,6,7,8,9]\n",
    "\n",
    "sum(x)"
   ]
  },
  {
   "cell_type": "code",
   "execution_count": 10,
   "id": "0da5a47a",
   "metadata": {},
   "outputs": [
    {
     "data": {
      "text/plain": [
       "[0, 1, 2]"
      ]
     },
     "execution_count": 10,
     "metadata": {},
     "output_type": "execute_result"
    }
   ],
   "source": [
    "first_three = x[:3]\n",
    "first_three"
   ]
  },
  {
   "cell_type": "code",
   "execution_count": 11,
   "id": "1c26778c",
   "metadata": {},
   "outputs": [
    {
     "data": {
      "text/plain": [
       "[3, 4, 5, 6, 7, 8, 9]"
      ]
     },
     "execution_count": 11,
     "metadata": {},
     "output_type": "execute_result"
    }
   ],
   "source": [
    "three_to_end = x[3:]\n",
    "three_to_end"
   ]
  },
  {
   "cell_type": "code",
   "execution_count": 12,
   "id": "af5f6845",
   "metadata": {},
   "outputs": [
    {
     "data": {
      "text/plain": [
       "[1, 2, 3, 4]"
      ]
     },
     "execution_count": 12,
     "metadata": {},
     "output_type": "execute_result"
    }
   ],
   "source": [
    "one_to_four = x[1:5]\n",
    "one_to_four"
   ]
  },
  {
   "cell_type": "code",
   "execution_count": 13,
   "id": "97cf745e",
   "metadata": {},
   "outputs": [
    {
     "data": {
      "text/plain": [
       "[7, 8, 9]"
      ]
     },
     "execution_count": 13,
     "metadata": {},
     "output_type": "execute_result"
    }
   ],
   "source": [
    "last_three = x[-3:]\n",
    "last_three"
   ]
  },
  {
   "cell_type": "code",
   "execution_count": 15,
   "id": "036f82ad",
   "metadata": {},
   "outputs": [
    {
     "data": {
      "text/plain": [
       "[1, 2, 3, 4, 5, 6, 7, 8]"
      ]
     },
     "execution_count": 15,
     "metadata": {},
     "output_type": "execute_result"
    }
   ],
   "source": [
    "without_first_and_last = x[1:-1]\n",
    "without_first_and_last"
   ]
  },
  {
   "cell_type": "code",
   "execution_count": 16,
   "id": "a84a82fc",
   "metadata": {},
   "outputs": [
    {
     "data": {
      "text/plain": [
       "[0, 1, 2, 3, 4, 5, 6, 7, 8, 9]"
      ]
     },
     "execution_count": 16,
     "metadata": {},
     "output_type": "execute_result"
    }
   ],
   "source": [
    "copy_of_x = x[:]\n",
    "copy_of_x"
   ]
  },
  {
   "cell_type": "code",
   "execution_count": 17,
   "id": "7b077747",
   "metadata": {},
   "outputs": [
    {
     "data": {
      "text/plain": [
       "[0, 3, 6, 9]"
      ]
     },
     "execution_count": 17,
     "metadata": {},
     "output_type": "execute_result"
    }
   ],
   "source": [
    "every_third = x[::3]\n",
    "every_third"
   ]
  },
  {
   "cell_type": "code",
   "execution_count": 18,
   "id": "e24563e2",
   "metadata": {},
   "outputs": [
    {
     "data": {
      "text/plain": [
       "[5, 4, 3]"
      ]
     },
     "execution_count": 18,
     "metadata": {},
     "output_type": "execute_result"
    }
   ],
   "source": [
    "five_to_three = x[5:2:-1]\n",
    "five_to_three"
   ]
  },
  {
   "cell_type": "code",
   "execution_count": 19,
   "id": "1114fc68",
   "metadata": {},
   "outputs": [
    {
     "data": {
      "text/plain": [
       "[1, 2, 3, 4, 5, 6]"
      ]
     },
     "execution_count": 19,
     "metadata": {},
     "output_type": "execute_result"
    }
   ],
   "source": [
    "x = [1,2,3]\n",
    "x.extend([4,5,6])\n",
    "x"
   ]
  },
  {
   "cell_type": "code",
   "execution_count": 20,
   "id": "de70d7a0",
   "metadata": {},
   "outputs": [
    {
     "data": {
      "text/plain": [
       "[1, 2, 3, 4, 5, 6, 0]"
      ]
     },
     "execution_count": 20,
     "metadata": {},
     "output_type": "execute_result"
    }
   ],
   "source": [
    "x.append(0)\n",
    "x"
   ]
  },
  {
   "cell_type": "code",
   "execution_count": 21,
   "id": "7d0799ab",
   "metadata": {},
   "outputs": [
    {
     "name": "stdout",
     "output_type": "stream",
     "text": [
      "1 2\n"
     ]
    }
   ],
   "source": [
    "x, y = [1,2]\n",
    "print(x,y)"
   ]
  },
  {
   "cell_type": "code",
   "execution_count": 23,
   "id": "805e4653",
   "metadata": {},
   "outputs": [
    {
     "data": {
      "text/plain": [
       "2"
      ]
     },
     "execution_count": 23,
     "metadata": {},
     "output_type": "execute_result"
    }
   ],
   "source": [
    "_,y = [1,2]\n",
    "y"
   ]
  },
  {
   "cell_type": "code",
   "execution_count": 24,
   "id": "0f771a1d",
   "metadata": {},
   "outputs": [
    {
     "name": "stdout",
     "output_type": "stream",
     "text": [
      "15 50\n"
     ]
    }
   ],
   "source": [
    "def sum_and_product(x,y):\n",
    "    return (x+y, x*y)\n",
    "\n",
    "s,p = sum_and_product(5,10)\n",
    "print(s,p)"
   ]
  },
  {
   "cell_type": "code",
   "execution_count": 25,
   "id": "b3b6a51f",
   "metadata": {},
   "outputs": [
    {
     "name": "stdout",
     "output_type": "stream",
     "text": [
      "7 4\n"
     ]
    }
   ],
   "source": [
    "x,y = 4,7\n",
    "x,y = y,x\n",
    "\n",
    "print(x,y)"
   ]
  },
  {
   "cell_type": "code",
   "execution_count": 26,
   "id": "262bab36",
   "metadata": {},
   "outputs": [
    {
     "name": "stdout",
     "output_type": "stream",
     "text": [
      "No grades for Kate\n"
     ]
    }
   ],
   "source": [
    "grades = {\"Joel\": 85, \"Tim\": 95}\n",
    "\n",
    "try:\n",
    "    kates_grades = grades[\"Kate\"]\n",
    "except KeyError:\n",
    "    print(\"No grades for Kate\")"
   ]
  },
  {
   "cell_type": "code",
   "execution_count": 27,
   "id": "769e3e9a",
   "metadata": {},
   "outputs": [
    {
     "name": "stdout",
     "output_type": "stream",
     "text": [
      "85 No Grades\n"
     ]
    }
   ],
   "source": [
    "joels_grade = grades.get(\"Joel\", 0)\n",
    "kates_grade = grades.get(\"Kate\", \"No Grades\")\n",
    "\n",
    "print(joels_grade, kates_grade)"
   ]
  },
  {
   "cell_type": "code",
   "execution_count": 28,
   "id": "c098d6a9",
   "metadata": {},
   "outputs": [],
   "source": [
    "tweet = {\n",
    "    \"user\" : \"joelgrus\",\n",
    "    \"text\" : \"Data Science is Awesome\",\n",
    "    \"retweet_count\" : 100,\n",
    "    \"hashtags\" : [\"#data\", \"#science\", \"#datascience\", \"#awesome\", \"#yolo\"]\n",
    "}"
   ]
  },
  {
   "cell_type": "code",
   "execution_count": 29,
   "id": "eec70f7e",
   "metadata": {},
   "outputs": [
    {
     "data": {
      "text/plain": [
       "dict_keys(['user', 'text', 'retweet_count', 'hashtags'])"
      ]
     },
     "execution_count": 29,
     "metadata": {},
     "output_type": "execute_result"
    }
   ],
   "source": [
    "tweet.keys()"
   ]
  },
  {
   "cell_type": "code",
   "execution_count": 30,
   "id": "e626997c",
   "metadata": {},
   "outputs": [
    {
     "data": {
      "text/plain": [
       "dict_values(['joelgrus', 'Data Science is Awesome', 100, ['#data', '#science', '#datascience', '#awesome', '#yolo']])"
      ]
     },
     "execution_count": 30,
     "metadata": {},
     "output_type": "execute_result"
    }
   ],
   "source": [
    "tweet.values()"
   ]
  },
  {
   "cell_type": "code",
   "execution_count": 31,
   "id": "bae02e87",
   "metadata": {},
   "outputs": [
    {
     "data": {
      "text/plain": [
       "dict_items([('user', 'joelgrus'), ('text', 'Data Science is Awesome'), ('retweet_count', 100), ('hashtags', ['#data', '#science', '#datascience', '#awesome', '#yolo'])])"
      ]
     },
     "execution_count": 31,
     "metadata": {},
     "output_type": "execute_result"
    }
   ],
   "source": [
    "tweet.items()"
   ]
  },
  {
   "cell_type": "code",
   "execution_count": 34,
   "id": "7f5f4ed6",
   "metadata": {},
   "outputs": [],
   "source": [
    "document = \"Imagine that you’re trying to count the words in a document. An obvious approach is to create a dictionary in which the keys are words and the values are counts. As you check each word, you can increment its count if it’s already in the dictionary and add it to the dictionary if it’s not\""
   ]
  },
  {
   "cell_type": "code",
   "execution_count": 36,
   "id": "374cc068",
   "metadata": {},
   "outputs": [
    {
     "data": {
      "text/plain": [
       "{'Imagine': 1,\n",
       " 'that': 1,\n",
       " 'you’re': 1,\n",
       " 'trying': 1,\n",
       " 'to': 3,\n",
       " 'count': 2,\n",
       " 'the': 5,\n",
       " 'words': 2,\n",
       " 'in': 3,\n",
       " 'a': 2,\n",
       " 'document.': 1,\n",
       " 'An': 1,\n",
       " 'obvious': 1,\n",
       " 'approach': 1,\n",
       " 'is': 1,\n",
       " 'create': 1,\n",
       " 'dictionary': 3,\n",
       " 'which': 1,\n",
       " 'keys': 1,\n",
       " 'are': 2,\n",
       " 'and': 2,\n",
       " 'values': 1,\n",
       " 'counts.': 1,\n",
       " 'As': 1,\n",
       " 'you': 2,\n",
       " 'check': 1,\n",
       " 'each': 1,\n",
       " 'word,': 1,\n",
       " 'can': 1,\n",
       " 'increment': 1,\n",
       " 'its': 1,\n",
       " 'if': 2,\n",
       " 'it’s': 2,\n",
       " 'already': 1,\n",
       " 'add': 1,\n",
       " 'it': 1,\n",
       " 'not': 1}"
      ]
     },
     "execution_count": 36,
     "metadata": {},
     "output_type": "execute_result"
    }
   ],
   "source": [
    "# 1st approach\n",
    "\n",
    "word_counts = {}\n",
    "\n",
    "for word in document.split():\n",
    "    if word in word_counts:\n",
    "        word_counts[word] += 1\n",
    "    else:\n",
    "        word_counts[word] = 1\n",
    "\n",
    "word_counts"
   ]
  },
  {
   "cell_type": "code",
   "execution_count": 37,
   "id": "56710018",
   "metadata": {},
   "outputs": [
    {
     "data": {
      "text/plain": [
       "{'Imagine': 1,\n",
       " 'that': 1,\n",
       " 'you’re': 1,\n",
       " 'trying': 1,\n",
       " 'to': 3,\n",
       " 'count': 2,\n",
       " 'the': 5,\n",
       " 'words': 2,\n",
       " 'in': 3,\n",
       " 'a': 2,\n",
       " 'document.': 1,\n",
       " 'An': 1,\n",
       " 'obvious': 1,\n",
       " 'approach': 1,\n",
       " 'is': 1,\n",
       " 'create': 1,\n",
       " 'dictionary': 3,\n",
       " 'which': 1,\n",
       " 'keys': 1,\n",
       " 'are': 2,\n",
       " 'and': 2,\n",
       " 'values': 1,\n",
       " 'counts.': 1,\n",
       " 'As': 1,\n",
       " 'you': 2,\n",
       " 'check': 1,\n",
       " 'each': 1,\n",
       " 'word,': 1,\n",
       " 'can': 1,\n",
       " 'increment': 1,\n",
       " 'its': 1,\n",
       " 'if': 2,\n",
       " 'it’s': 2,\n",
       " 'already': 1,\n",
       " 'add': 1,\n",
       " 'it': 1,\n",
       " 'not': 1}"
      ]
     },
     "execution_count": 37,
     "metadata": {},
     "output_type": "execute_result"
    }
   ],
   "source": [
    "# 2nd approach\n",
    "\n",
    "word_counts = {}\n",
    "\n",
    "for word in document.split():\n",
    "    try:\n",
    "        word_counts[word] += 1\n",
    "    except KeyError:\n",
    "        word_counts[word] = 1\n",
    "\n",
    "word_counts"
   ]
  },
  {
   "cell_type": "code",
   "execution_count": 38,
   "id": "3501c24f",
   "metadata": {},
   "outputs": [
    {
     "data": {
      "text/plain": [
       "{'Imagine': 1,\n",
       " 'that': 1,\n",
       " 'you’re': 1,\n",
       " 'trying': 1,\n",
       " 'to': 3,\n",
       " 'count': 2,\n",
       " 'the': 5,\n",
       " 'words': 2,\n",
       " 'in': 3,\n",
       " 'a': 2,\n",
       " 'document.': 1,\n",
       " 'An': 1,\n",
       " 'obvious': 1,\n",
       " 'approach': 1,\n",
       " 'is': 1,\n",
       " 'create': 1,\n",
       " 'dictionary': 3,\n",
       " 'which': 1,\n",
       " 'keys': 1,\n",
       " 'are': 2,\n",
       " 'and': 2,\n",
       " 'values': 1,\n",
       " 'counts.': 1,\n",
       " 'As': 1,\n",
       " 'you': 2,\n",
       " 'check': 1,\n",
       " 'each': 1,\n",
       " 'word,': 1,\n",
       " 'can': 1,\n",
       " 'increment': 1,\n",
       " 'its': 1,\n",
       " 'if': 2,\n",
       " 'it’s': 2,\n",
       " 'already': 1,\n",
       " 'add': 1,\n",
       " 'it': 1,\n",
       " 'not': 1}"
      ]
     },
     "execution_count": 38,
     "metadata": {},
     "output_type": "execute_result"
    }
   ],
   "source": [
    "# 3rd approach\n",
    "\n",
    "word_counts = {}\n",
    "\n",
    "for word in document.split():\n",
    "    previous_count = word_counts.get(word, 0)\n",
    "    word_counts[word] = previous_count + 1\n",
    "    \n",
    "word_counts"
   ]
  },
  {
   "cell_type": "code",
   "execution_count": 39,
   "id": "854375e4",
   "metadata": {},
   "outputs": [
    {
     "data": {
      "text/plain": [
       "defaultdict(int,\n",
       "            {'Imagine': 1,\n",
       "             'that': 1,\n",
       "             'you’re': 1,\n",
       "             'trying': 1,\n",
       "             'to': 3,\n",
       "             'count': 2,\n",
       "             'the': 5,\n",
       "             'words': 2,\n",
       "             'in': 3,\n",
       "             'a': 2,\n",
       "             'document.': 1,\n",
       "             'An': 1,\n",
       "             'obvious': 1,\n",
       "             'approach': 1,\n",
       "             'is': 1,\n",
       "             'create': 1,\n",
       "             'dictionary': 3,\n",
       "             'which': 1,\n",
       "             'keys': 1,\n",
       "             'are': 2,\n",
       "             'and': 2,\n",
       "             'values': 1,\n",
       "             'counts.': 1,\n",
       "             'As': 1,\n",
       "             'you': 2,\n",
       "             'check': 1,\n",
       "             'each': 1,\n",
       "             'word,': 1,\n",
       "             'can': 1,\n",
       "             'increment': 1,\n",
       "             'its': 1,\n",
       "             'if': 2,\n",
       "             'it’s': 2,\n",
       "             'already': 1,\n",
       "             'add': 1,\n",
       "             'it': 1,\n",
       "             'not': 1})"
      ]
     },
     "execution_count": 39,
     "metadata": {},
     "output_type": "execute_result"
    }
   ],
   "source": [
    "# 4th approach\n",
    "\n",
    "from collections import defaultdict\n",
    "\n",
    "word_counts = defaultdict(int)\n",
    "\n",
    "for word in document.split():\n",
    "    word_counts[word] += 1\n",
    "\n",
    "word_counts"
   ]
  },
  {
   "cell_type": "code",
   "execution_count": 41,
   "id": "598dffa5",
   "metadata": {},
   "outputs": [
    {
     "data": {
      "text/plain": [
       "defaultdict(list, {2: [3]})"
      ]
     },
     "execution_count": 41,
     "metadata": {},
     "output_type": "execute_result"
    }
   ],
   "source": [
    "dd_list = defaultdict(list)\n",
    "dd_list[2].append(3)\n",
    "dd_list"
   ]
  },
  {
   "cell_type": "code",
   "execution_count": 42,
   "id": "209b4130",
   "metadata": {},
   "outputs": [
    {
     "data": {
      "text/plain": [
       "defaultdict(dict, {'Joel': {'City': 'Seattle'}})"
      ]
     },
     "execution_count": 42,
     "metadata": {},
     "output_type": "execute_result"
    }
   ],
   "source": [
    "dd_dict = defaultdict(dict)\n",
    "dd_dict[\"Joel\"][\"City\"] = \"Seattle\"\n",
    "dd_dict"
   ]
  },
  {
   "cell_type": "code",
   "execution_count": 43,
   "id": "9c131e1d",
   "metadata": {},
   "outputs": [
    {
     "data": {
      "text/plain": [
       "defaultdict(<function __main__.<lambda>()>, {2: [0, 1]})"
      ]
     },
     "execution_count": 43,
     "metadata": {},
     "output_type": "execute_result"
    }
   ],
   "source": [
    "dd_pair = defaultdict(lambda: [0,0])\n",
    "dd_pair[2][1] = 1\n",
    "dd_pair"
   ]
  },
  {
   "cell_type": "code",
   "execution_count": 44,
   "id": "d9be0212",
   "metadata": {},
   "outputs": [
    {
     "data": {
      "text/plain": [
       "Counter({0: 3, 1: 3, 2: 3, 3: 1, 4: 1, 5: 1, 6: 1})"
      ]
     },
     "execution_count": 44,
     "metadata": {},
     "output_type": "execute_result"
    }
   ],
   "source": [
    "from collections import Counter\n",
    "\n",
    "c = Counter([0,1,2,2,3,4,0,1,1,0,2,5,6])\n",
    "c"
   ]
  },
  {
   "cell_type": "code",
   "execution_count": 45,
   "id": "78cfe7f3",
   "metadata": {},
   "outputs": [
    {
     "data": {
      "text/plain": [
       "Counter({'Imagine': 1,\n",
       "         'that': 1,\n",
       "         'you’re': 1,\n",
       "         'trying': 1,\n",
       "         'to': 3,\n",
       "         'count': 2,\n",
       "         'the': 5,\n",
       "         'words': 2,\n",
       "         'in': 3,\n",
       "         'a': 2,\n",
       "         'document.': 1,\n",
       "         'An': 1,\n",
       "         'obvious': 1,\n",
       "         'approach': 1,\n",
       "         'is': 1,\n",
       "         'create': 1,\n",
       "         'dictionary': 3,\n",
       "         'which': 1,\n",
       "         'keys': 1,\n",
       "         'are': 2,\n",
       "         'and': 2,\n",
       "         'values': 1,\n",
       "         'counts.': 1,\n",
       "         'As': 1,\n",
       "         'you': 2,\n",
       "         'check': 1,\n",
       "         'each': 1,\n",
       "         'word,': 1,\n",
       "         'can': 1,\n",
       "         'increment': 1,\n",
       "         'its': 1,\n",
       "         'if': 2,\n",
       "         'it’s': 2,\n",
       "         'already': 1,\n",
       "         'add': 1,\n",
       "         'it': 1,\n",
       "         'not': 1})"
      ]
     },
     "execution_count": 45,
     "metadata": {},
     "output_type": "execute_result"
    }
   ],
   "source": [
    "Counter(document.split())"
   ]
  },
  {
   "cell_type": "code",
   "execution_count": 46,
   "id": "7cb77de5",
   "metadata": {},
   "outputs": [
    {
     "name": "stdout",
     "output_type": "stream",
     "text": [
      "the 5\n",
      "to 3\n",
      "in 3\n",
      "dictionary 3\n",
      "count 2\n",
      "words 2\n",
      "a 2\n",
      "are 2\n",
      "and 2\n",
      "you 2\n"
     ]
    }
   ],
   "source": [
    "for word, count in Counter(document.split()).most_common(10):\n",
    "    print(word, count)"
   ]
  },
  {
   "cell_type": "code",
   "execution_count": 1,
   "id": "44744aa2",
   "metadata": {},
   "outputs": [
    {
     "name": "stdout",
     "output_type": "stream",
     "text": [
      "{1, 2, 3}\n"
     ]
    }
   ],
   "source": [
    "s = set()\n",
    "\n",
    "s.add(1)\n",
    "s.add(2)\n",
    "s.add(2)\n",
    "s.add(3)\n",
    "\n",
    "print(s)"
   ]
  },
  {
   "cell_type": "code",
   "execution_count": 2,
   "id": "ec7ef840",
   "metadata": {},
   "outputs": [
    {
     "name": "stdout",
     "output_type": "stream",
     "text": [
      "number of items 13\n",
      "number of distinct items 9\n",
      "[1, 2, 3, 4, 5, 6, 7, 8, 9]\n"
     ]
    }
   ],
   "source": [
    "#find the distinct items in a collection\n",
    "\n",
    "item_list = [1,2,3,2,4,5,4,3,6,7,8,7,9]\n",
    "print(\"number of items\", len(item_list))\n",
    "item_set = set(item_list)\n",
    "print(\"number of distinct items\", len(item_set))\n",
    "distinct_item_list = list(item_set)\n",
    "print(distinct_item_list)"
   ]
  },
  {
   "cell_type": "code",
   "execution_count": 3,
   "id": "c7bf358a",
   "metadata": {},
   "outputs": [
    {
     "data": {
      "text/plain": [
       "'even'"
      ]
     },
     "execution_count": 3,
     "metadata": {},
     "output_type": "execute_result"
    }
   ],
   "source": [
    "def even_or_odd(x):\n",
    "    return \"even\" if x % 2 == 0 else \"odd\"\n",
    "\n",
    "even_or_odd(3264)"
   ]
  },
  {
   "cell_type": "code",
   "execution_count": 4,
   "id": "c1b54209",
   "metadata": {},
   "outputs": [
    {
     "name": "stdout",
     "output_type": "stream",
     "text": [
      "0 is less than 10\n",
      "1 is less than 10\n",
      "2 is less than 10\n",
      "3 is less than 10\n",
      "4 is less than 10\n",
      "5 is less than 10\n",
      "6 is less than 10\n",
      "7 is less than 10\n",
      "8 is less than 10\n",
      "9 is less than 10\n"
     ]
    }
   ],
   "source": [
    "x = 0\n",
    "while x < 10:\n",
    "    print(f\"{x} is less than 10\")\n",
    "    x += 1"
   ]
  },
  {
   "cell_type": "code",
   "execution_count": 5,
   "id": "10dcd2bd",
   "metadata": {},
   "outputs": [
    {
     "name": "stdout",
     "output_type": "stream",
     "text": [
      "0 is less than 10\n",
      "1 is less than 10\n",
      "2 is less than 10\n",
      "3 is less than 10\n",
      "4 is less than 10\n",
      "5 is less than 10\n",
      "6 is less than 10\n",
      "7 is less than 10\n",
      "8 is less than 10\n",
      "9 is less than 10\n"
     ]
    }
   ],
   "source": [
    "for x in range(10):\n",
    "    print(f\"{x} is less than 10\")"
   ]
  },
  {
   "cell_type": "code",
   "execution_count": 6,
   "id": "51c40f72",
   "metadata": {},
   "outputs": [
    {
     "data": {
      "text/plain": [
       "[1, 3, 4, 5, 6, 8, 9, 10, 11]"
      ]
     },
     "execution_count": 6,
     "metadata": {},
     "output_type": "execute_result"
    }
   ],
   "source": [
    "#Sorting\n",
    "\n",
    "x = [9,8,3,5,10,1,4,6,11]\n",
    "y = sorted(x)\n",
    "y"
   ]
  },
  {
   "cell_type": "code",
   "execution_count": 7,
   "id": "bfa95807",
   "metadata": {},
   "outputs": [],
   "source": [
    "x.sort()"
   ]
  },
  {
   "cell_type": "code",
   "execution_count": 8,
   "id": "1139cb36",
   "metadata": {},
   "outputs": [
    {
     "data": {
      "text/plain": [
       "[1, 3, 4, 5, 6, 8, 9, 10, 11]"
      ]
     },
     "execution_count": 8,
     "metadata": {},
     "output_type": "execute_result"
    }
   ],
   "source": [
    "x"
   ]
  },
  {
   "cell_type": "code",
   "execution_count": 9,
   "id": "cb0378d5",
   "metadata": {},
   "outputs": [
    {
     "data": {
      "text/plain": [
       "[-4, -3, 3, -2, -1, 1]"
      ]
     },
     "execution_count": 9,
     "metadata": {},
     "output_type": "execute_result"
    }
   ],
   "source": [
    "x = sorted([-4,-3,-1, 1, 3,-2], key=abs, reverse=True)\n",
    "x"
   ]
  },
  {
   "cell_type": "code",
   "execution_count": 14,
   "id": "5261a1a3",
   "metadata": {},
   "outputs": [
    {
     "data": {
      "text/plain": [
       "[('you’re', 1),\n",
       " ('you', 2),\n",
       " ('words', 2),\n",
       " ('word,', 1),\n",
       " ('which', 1),\n",
       " ('values', 1),\n",
       " ('trying', 1),\n",
       " ('to', 3),\n",
       " ('the', 5),\n",
       " ('that', 1),\n",
       " ('obvious', 1),\n",
       " ('not', 1),\n",
       " ('keys', 1),\n",
       " ('it’s', 2),\n",
       " ('its', 1),\n",
       " ('it', 1),\n",
       " ('is', 1),\n",
       " ('increment', 1),\n",
       " ('in', 3),\n",
       " ('if', 2),\n",
       " ('each', 1),\n",
       " ('document.', 1),\n",
       " ('dictionary', 3),\n",
       " ('create', 1),\n",
       " ('counts.', 1),\n",
       " ('count', 2),\n",
       " ('check', 1),\n",
       " ('can', 1),\n",
       " ('are', 2),\n",
       " ('approach', 1),\n",
       " ('and', 2),\n",
       " ('already', 1),\n",
       " ('add', 1),\n",
       " ('a', 2),\n",
       " ('Imagine', 1),\n",
       " ('As', 1),\n",
       " ('An', 1)]"
      ]
     },
     "execution_count": 14,
     "metadata": {},
     "output_type": "execute_result"
    }
   ],
   "source": [
    "from collections import defaultdict\n",
    "\n",
    "document = \"Imagine that you’re trying to count the words in a document. An obvious approach is to create a dictionary in which the keys are words and the values are counts. As you check each word, you can increment its count if it’s already in the dictionary and add it to the dictionary if it’s not\"\n",
    "\n",
    "word_count = defaultdict(int)\n",
    "for word in document.split():\n",
    "    word_count[word] += 1\n",
    "\n",
    "sorted(word_count.items(), key=lambda word_and_count: word_and_count[0], reverse=True)"
   ]
  },
  {
   "cell_type": "code",
   "execution_count": 16,
   "id": "035480f5",
   "metadata": {},
   "outputs": [
    {
     "name": "stdout",
     "output_type": "stream",
     "text": [
      "even numbers: [0, 2, 4, 6, 8, 10, 12, 14, 16, 18]\n",
      "squares: [0, 1, 4, 9, 16, 25, 36, 49, 64, 81, 100, 121, 144, 169, 196, 225, 256, 289, 324, 361]\n",
      "even_squares: [0, 4, 16, 36, 64, 100, 144, 196, 256, 324]\n"
     ]
    }
   ],
   "source": [
    "even_numbers = [x for x in range(20) if x % 2 == 0]\n",
    "squares = [x * x for x in range(20)]\n",
    "even_squares = [x * x for x in even_numbers]\n",
    "\n",
    "print(f\"even numbers: {even_numbers}\")\n",
    "print(f\"squares: {squares}\")\n",
    "print(f\"even_squares: {even_squares}\")"
   ]
  },
  {
   "cell_type": "code",
   "execution_count": 17,
   "id": "370f4b4f",
   "metadata": {},
   "outputs": [
    {
     "name": "stdout",
     "output_type": "stream",
     "text": [
      "{0: 0, 1: 1, 2: 4, 3: 9, 4: 16, 5: 25, 6: 36, 7: 49, 8: 64, 9: 81}\n",
      "{0, 9, 4, 1}\n"
     ]
    }
   ],
   "source": [
    "square_dict = {x: x * x for x in range(10)}\n",
    "square_set = {x * x for x in [-3,2,-1,0,1,2]}\n",
    "\n",
    "print(square_dict)\n",
    "print(square_set)"
   ]
  },
  {
   "cell_type": "code",
   "execution_count": 18,
   "id": "516f53ed",
   "metadata": {},
   "outputs": [
    {
     "data": {
      "text/plain": [
       "[0, 0, 0, 0, 0, 0, 0, 0, 0, 0]"
      ]
     },
     "execution_count": 18,
     "metadata": {},
     "output_type": "execute_result"
    }
   ],
   "source": [
    "zeros = [0 for _ in even_numbers]\n",
    "zeros"
   ]
  },
  {
   "cell_type": "code",
   "execution_count": 19,
   "id": "c485ef06",
   "metadata": {},
   "outputs": [
    {
     "data": {
      "text/plain": [
       "[(0, 0),\n",
       " (0, 1),\n",
       " (0, 2),\n",
       " (0, 3),\n",
       " (0, 4),\n",
       " (1, 0),\n",
       " (1, 1),\n",
       " (1, 2),\n",
       " (1, 3),\n",
       " (1, 4),\n",
       " (2, 0),\n",
       " (2, 1),\n",
       " (2, 2),\n",
       " (2, 3),\n",
       " (2, 4),\n",
       " (3, 0),\n",
       " (3, 1),\n",
       " (3, 2),\n",
       " (3, 3),\n",
       " (3, 4),\n",
       " (4, 0),\n",
       " (4, 1),\n",
       " (4, 2),\n",
       " (4, 3),\n",
       " (4, 4)]"
      ]
     },
     "execution_count": 19,
     "metadata": {},
     "output_type": "execute_result"
    }
   ],
   "source": [
    "pairs = [(x,y)\n",
    "        for x in range(5)\n",
    "         for y in range(5)\n",
    "        ]\n",
    "pairs"
   ]
  },
  {
   "cell_type": "code",
   "execution_count": 21,
   "id": "dacfe956",
   "metadata": {},
   "outputs": [
    {
     "data": {
      "text/plain": [
       "[(0, 1),\n",
       " (0, 2),\n",
       " (0, 3),\n",
       " (0, 4),\n",
       " (1, 2),\n",
       " (1, 3),\n",
       " (1, 4),\n",
       " (2, 3),\n",
       " (2, 4),\n",
       " (3, 4)]"
      ]
     },
     "execution_count": 21,
     "metadata": {},
     "output_type": "execute_result"
    }
   ],
   "source": [
    "increasing_pairs = [(x,y)\n",
    "                   for x in range(5)\n",
    "                    for y in range(x + 1, 5)\n",
    "                   ]\n",
    "increasing_pairs"
   ]
  },
  {
   "cell_type": "code",
   "execution_count": 22,
   "id": "7a59c1ea",
   "metadata": {},
   "outputs": [],
   "source": [
    "def smallest_item(xs):\n",
    "    return min(xs)\n",
    "\n",
    "assert smallest_item([10, 20, 5, 40]) == 5"
   ]
  },
  {
   "cell_type": "code",
   "execution_count": 23,
   "id": "8a85b9be",
   "metadata": {},
   "outputs": [
    {
     "ename": "AssertionError",
     "evalue": "",
     "output_type": "error",
     "traceback": [
      "\u001b[0;31m---------------------------------------------------------------------------\u001b[0m",
      "\u001b[0;31mAssertionError\u001b[0m                            Traceback (most recent call last)",
      "\u001b[0;32m<ipython-input-23-37be75069249>\u001b[0m in \u001b[0;36m<module>\u001b[0;34m\u001b[0m\n\u001b[0;32m----> 1\u001b[0;31m \u001b[0;32massert\u001b[0m \u001b[0msmallest_item\u001b[0m\u001b[0;34m(\u001b[0m\u001b[0;34m[\u001b[0m\u001b[0;36m10\u001b[0m\u001b[0;34m,\u001b[0m \u001b[0;34m-\u001b[0m\u001b[0;36m1\u001b[0m\u001b[0;34m,\u001b[0m \u001b[0;36m5\u001b[0m\u001b[0;34m,\u001b[0m \u001b[0;36m40\u001b[0m\u001b[0;34m]\u001b[0m\u001b[0;34m)\u001b[0m \u001b[0;34m==\u001b[0m \u001b[0;36m5\u001b[0m\u001b[0;34m\u001b[0m\u001b[0;34m\u001b[0m\u001b[0m\n\u001b[0m",
      "\u001b[0;31mAssertionError\u001b[0m: "
     ]
    }
   ],
   "source": [
    "assert smallest_item([10, -1, 5, 40]) == 5"
   ]
  },
  {
   "cell_type": "code",
   "execution_count": 24,
   "id": "b7058972",
   "metadata": {},
   "outputs": [],
   "source": [
    "class CounterClicker:\n",
    "    def __init__(self, count=0):\n",
    "        self.count = count\n",
    "        \n",
    "    def __repr__(self):\n",
    "        return f\"CounterClicker(count={self.count})\"\n",
    "    \n",
    "    def click(self, num_times = 1):\n",
    "        self.count += num_times\n",
    "        \n",
    "    def read(self):\n",
    "        return self.count\n",
    "    \n",
    "    def reset(self):\n",
    "        self.count = 0"
   ]
  },
  {
   "cell_type": "code",
   "execution_count": 26,
   "id": "7a548231",
   "metadata": {},
   "outputs": [],
   "source": [
    "clicker = CounterClicker()\n",
    "assert clicker.read() == 0\n",
    "clicker.click()\n",
    "clicker.click()\n",
    "assert clicker.read() == 2\n",
    "clicker.reset()\n",
    "assert clicker.read() == 0"
   ]
  },
  {
   "cell_type": "code",
   "execution_count": 27,
   "id": "72114da5",
   "metadata": {},
   "outputs": [],
   "source": [
    "class NoResetClicker(CounterClicker):\n",
    "    def reset(self):\n",
    "        pass"
   ]
  },
  {
   "cell_type": "code",
   "execution_count": 28,
   "id": "8a67cea8",
   "metadata": {},
   "outputs": [],
   "source": [
    "clicker = NoResetClicker()\n",
    "assert clicker.read() == 0\n",
    "clicker.click()\n",
    "clicker.click()\n",
    "assert clicker.read() == 2\n",
    "clicker.reset()\n",
    "assert clicker.read() == 2"
   ]
  },
  {
   "cell_type": "code",
   "execution_count": 29,
   "id": "5796ac22",
   "metadata": {},
   "outputs": [
    {
     "name": "stdout",
     "output_type": "stream",
     "text": [
      "i: 0\n",
      "i: 1\n",
      "i: 2\n",
      "i: 3\n",
      "i: 4\n",
      "i: 5\n",
      "i: 6\n",
      "i: 7\n",
      "i: 8\n",
      "i: 9\n"
     ]
    }
   ],
   "source": [
    "def generate_range(n):\n",
    "    i = 0\n",
    "    while i < n:\n",
    "        yield i\n",
    "        i += 1\n",
    "    \n",
    "for i in generate_range(10):\n",
    "    print(f\"i: {i}\")"
   ]
  },
  {
   "cell_type": "code",
   "execution_count": 30,
   "id": "848fc8cf",
   "metadata": {},
   "outputs": [
    {
     "data": {
      "text/plain": [
       "[0, 2, 4, 6, 8, 10, 12, 14, 16, 18]"
      ]
     },
     "execution_count": 30,
     "metadata": {},
     "output_type": "execute_result"
    }
   ],
   "source": [
    "evens_below_twenty = [i for i in generate_range(20) if i % 2 == 0]\n",
    "evens_below_twenty"
   ]
  },
  {
   "cell_type": "code",
   "execution_count": 34,
   "id": "682831aa",
   "metadata": {},
   "outputs": [
    {
     "name": "stdout",
     "output_type": "stream",
     "text": [
      "name 0: Alice\n",
      "name 1: Bob\n",
      "name 2: Charlie\n",
      "name 3: Debbie\n"
     ]
    }
   ],
   "source": [
    "names = [\"Alice\", \"Bob\", \"Charlie\", \"Debbie\"]\n",
    "\n",
    "for index, name in enumerate(names):\n",
    "    print(f\"name {index}: {name}\")"
   ]
  },
  {
   "cell_type": "code",
   "execution_count": 35,
   "id": "310b56f0",
   "metadata": {},
   "outputs": [
    {
     "data": {
      "text/plain": [
       "[0.5714025946899135,\n",
       " 0.4288890546751146,\n",
       " 0.5780913011344704,\n",
       " 0.20609823213950174,\n",
       " 0.81332125135732]"
      ]
     },
     "execution_count": 35,
     "metadata": {},
     "output_type": "execute_result"
    }
   ],
   "source": [
    "import random\n",
    "\n",
    "random.seed(10)\n",
    "\n",
    "[random.random() for _ in range(5)]"
   ]
  },
  {
   "cell_type": "code",
   "execution_count": 36,
   "id": "13d8a4c7",
   "metadata": {},
   "outputs": [
    {
     "data": {
      "text/plain": [
       "[0.8235888725334455,\n",
       " 0.6534725339011758,\n",
       " 0.16022955651881965,\n",
       " 0.5206693596399246,\n",
       " 0.32777281162209315]"
      ]
     },
     "execution_count": 36,
     "metadata": {},
     "output_type": "execute_result"
    }
   ],
   "source": [
    "[random.random() for _ in range(5)]"
   ]
  },
  {
   "cell_type": "code",
   "execution_count": 37,
   "id": "27806367",
   "metadata": {},
   "outputs": [
    {
     "name": "stdout",
     "output_type": "stream",
     "text": [
      "0.5714025946899135\n",
      "0.5714025946899135\n"
     ]
    }
   ],
   "source": [
    "random.seed(10)\n",
    "print(random.random())\n",
    "random.seed(10)\n",
    "print(random.random())"
   ]
  },
  {
   "cell_type": "code",
   "execution_count": 38,
   "id": "66f8c699",
   "metadata": {},
   "outputs": [
    {
     "data": {
      "text/plain": [
       "6"
      ]
     },
     "execution_count": 38,
     "metadata": {},
     "output_type": "execute_result"
    }
   ],
   "source": [
    "random.randrange(10)"
   ]
  },
  {
   "cell_type": "code",
   "execution_count": 39,
   "id": "574f8e30",
   "metadata": {},
   "outputs": [
    {
     "data": {
      "text/plain": [
       "6"
      ]
     },
     "execution_count": 39,
     "metadata": {},
     "output_type": "execute_result"
    }
   ],
   "source": [
    "random.randrange(3,7)"
   ]
  },
  {
   "cell_type": "code",
   "execution_count": 40,
   "id": "38db97c7",
   "metadata": {},
   "outputs": [
    {
     "name": "stdout",
     "output_type": "stream",
     "text": [
      "[5, 6, 9, 2, 3, 7, 8, 4, 1, 10]\n"
     ]
    }
   ],
   "source": [
    "up_to_ten = [1, 2, 3, 4, 5, 6, 7, 8, 9, 10]\n",
    "random.shuffle(up_to_ten)\n",
    "print(up_to_ten)"
   ]
  },
  {
   "cell_type": "code",
   "execution_count": 41,
   "id": "48bcd069",
   "metadata": {},
   "outputs": [
    {
     "data": {
      "text/plain": [
       "'Bob'"
      ]
     },
     "execution_count": 41,
     "metadata": {},
     "output_type": "execute_result"
    }
   ],
   "source": [
    "random.choice([\"Alice\", \"Bob\", \"Charlie\"])"
   ]
  },
  {
   "cell_type": "code",
   "execution_count": 44,
   "id": "58bbb561",
   "metadata": {},
   "outputs": [
    {
     "data": {
      "text/plain": [
       "[4, 15, 47, 23, 2, 26, 8]"
      ]
     },
     "execution_count": 44,
     "metadata": {},
     "output_type": "execute_result"
    }
   ],
   "source": [
    "lottery_numbers = range(60)\n",
    "winning_numbers = random.sample(lottery_numbers, 7)\n",
    "winning_numbers"
   ]
  },
  {
   "cell_type": "code",
   "execution_count": 45,
   "id": "71fdc415",
   "metadata": {},
   "outputs": [
    {
     "data": {
      "text/plain": [
       "[9, 5, 6, 6]"
      ]
     },
     "execution_count": 45,
     "metadata": {},
     "output_type": "execute_result"
    }
   ],
   "source": [
    "four_with_replacement = [random.choice(range(10)) for _ in range(4)]\n",
    "four_with_replacement"
   ]
  },
  {
   "cell_type": "code",
   "execution_count": 47,
   "id": "cb70cbd4",
   "metadata": {},
   "outputs": [],
   "source": [
    "import re\n",
    "\n",
    "re_examples = [\n",
    "    not re.match(\"a\", \"cat\"),\n",
    "    re.search(\"a\", \"cat\"),\n",
    "    not re.search(\"a\", \"dog\"),\n",
    "    re.sub(\"[0-9]\", \"-\", \"R2D3G4F\") == \"R-D-G-F\"\n",
    "]\n",
    "\n",
    "assert all(re_examples)"
   ]
  },
  {
   "cell_type": "code",
   "execution_count": 52,
   "id": "14cb4075",
   "metadata": {},
   "outputs": [
    {
     "data": {
      "text/plain": [
       "[(1, 'a'), (2, 'b'), (3, 'c')]"
      ]
     },
     "execution_count": 52,
     "metadata": {},
     "output_type": "execute_result"
    }
   ],
   "source": [
    "list1 = [1,2,3]\n",
    "list2 = ['a','b','c']\n",
    "\n",
    "pairs = [pair for pair in zip(list1, list2)]\n",
    "pairs"
   ]
  },
  {
   "cell_type": "code",
   "execution_count": 51,
   "id": "a0fff0a8",
   "metadata": {},
   "outputs": [
    {
     "name": "stdout",
     "output_type": "stream",
     "text": [
      "(1, 2, 3)\n",
      "('a', 'b', 'c')\n"
     ]
    }
   ],
   "source": [
    "letters, numbers = zip(*pairs)\n",
    "\n",
    "print(letters)\n",
    "print(numbers)"
   ]
  },
  {
   "cell_type": "code",
   "execution_count": 53,
   "id": "937aac08",
   "metadata": {},
   "outputs": [
    {
     "data": {
      "text/plain": [
       "3"
      ]
     },
     "execution_count": 53,
     "metadata": {},
     "output_type": "execute_result"
    }
   ],
   "source": [
    "def add(a,b):\n",
    "    return a + b\n",
    "\n",
    "add(*[1,2])"
   ]
  },
  {
   "cell_type": "code",
   "execution_count": 54,
   "id": "0de3f1b0",
   "metadata": {},
   "outputs": [
    {
     "name": "stdout",
     "output_type": "stream",
     "text": [
      "unnamed args: (2, 3)\n",
      "keyword args: {'key1': 'word1', 'key2': 'word2'}\n"
     ]
    }
   ],
   "source": [
    "def magic(*args, **kwargs):\n",
    "    print(\"unnamed args:\", args)\n",
    "    print(\"keyword args:\", kwargs)\n",
    "    \n",
    "magic(2,3,key1=\"word1\",key2=\"word2\")"
   ]
  },
  {
   "cell_type": "code",
   "execution_count": 55,
   "id": "0f16c439",
   "metadata": {},
   "outputs": [
    {
     "data": {
      "text/plain": [
       "6"
      ]
     },
     "execution_count": 55,
     "metadata": {},
     "output_type": "execute_result"
    }
   ],
   "source": [
    "def other_way_magic(x,y,z):\n",
    "    return x + y + z\n",
    "\n",
    "x_y_list = [1,2]\n",
    "z_dict = {\"z\": 3}\n",
    "\n",
    "other_way_magic(*x_y_list, **z_dict)"
   ]
  },
  {
   "cell_type": "code",
   "execution_count": 56,
   "id": "f3b03526",
   "metadata": {},
   "outputs": [
    {
     "data": {
      "text/plain": [
       "50"
      ]
     },
     "execution_count": 56,
     "metadata": {},
     "output_type": "execute_result"
    }
   ],
   "source": [
    "def product(a: int, b: int) -> int:\n",
    "    return a * b\n",
    "\n",
    "product(10,5)"
   ]
  },
  {
   "cell_type": "code",
   "execution_count": 57,
   "id": "a9fe7efb",
   "metadata": {},
   "outputs": [
    {
     "data": {
      "text/plain": [
       "15"
      ]
     },
     "execution_count": 57,
     "metadata": {},
     "output_type": "execute_result"
    }
   ],
   "source": [
    "from typing import List\n",
    "\n",
    "def total(xs: List[int]) -> int:\n",
    "    return sum(xs)\n",
    "\n",
    "total([1,2,3,4,5])"
   ]
  },
  {
   "cell_type": "code",
   "execution_count": null,
   "id": "02dd65c5",
   "metadata": {},
   "outputs": [],
   "source": []
  }
 ],
 "metadata": {
  "kernelspec": {
   "display_name": "Python 3",
   "language": "python",
   "name": "python3"
  },
  "language_info": {
   "codemirror_mode": {
    "name": "ipython",
    "version": 3
   },
   "file_extension": ".py",
   "mimetype": "text/x-python",
   "name": "python",
   "nbconvert_exporter": "python",
   "pygments_lexer": "ipython3",
   "version": "3.8.8"
  }
 },
 "nbformat": 4,
 "nbformat_minor": 5
}
